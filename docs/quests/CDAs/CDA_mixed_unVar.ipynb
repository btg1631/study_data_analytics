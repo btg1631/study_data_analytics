{
  "nbformat": 4,
  "nbformat_minor": 0,
  "metadata": {
    "colab": {
      "provenance": [],
      "authorship_tag": "ABX9TyO8hG8eDgkZT1PBMQLLHn44",
      "include_colab_link": true
    },
    "kernelspec": {
      "name": "python3",
      "display_name": "Python 3"
    },
    "language_info": {
      "name": "python"
    }
  },
  "cells": [
    {
      "cell_type": "markdown",
      "metadata": {
        "id": "view-in-github",
        "colab_type": "text"
      },
      "source": [
        "<a href=\"https://colab.research.google.com/github/btg1631/study_data_analytics/blob/main/docs/quests/CDAs/CDA_mixed_unVar.ipynb\" target=\"_parent\"><img src=\"https://colab.research.google.com/assets/colab-badge.svg\" alt=\"Open In Colab\"/></a>"
      ]
    },
    {
      "cell_type": "markdown",
      "source": [
        "## load dataset file"
      ],
      "metadata": {
        "id": "CWaHkwVd9VFo"
      }
    },
    {
      "cell_type": "code",
      "source": [
        "import pandas as pd\n",
        "df_fruits = pd.read_csv('fruitstore_saleshistory.csv')\n",
        "df_fruits[:2]"
      ],
      "metadata": {
        "colab": {
          "base_uri": "https://localhost:8080/",
          "height": 358
        },
        "id": "tDTKCrAY9WoR",
        "outputId": "5fee99fb-17e3-4603-d020-fda52fb0ea8e"
      },
      "execution_count": 36,
      "outputs": [
        {
          "output_type": "execute_result",
          "data": {
            "text/plain": [
              "         공급일자 요일  공급월  공급주차        회원번호 조합원상태 물품대분류 물품중분류  물품소분류          물품명  \\\n",
              "0  2018-01-02  화    1     1   272369856  정상회원    과실    과일     사과  사과/유(1.5kg)   \n",
              "1  2018-01-02  화    1     1  1506656256  정상회원    채소    버섯  느타리버섯  느타리버섯(300g)   \n",
              "\n",
              "   구매수량 주소-구  주소-동 성별    연령    연령대   구매금액 구매매장  반품_원거래일자   구매시각  \n",
              "0   1.0  수지구  풍덕천동  여  45.0    40대  22207  매장C       NaN  10:04  \n",
              "1   1.0  수지구  풍덕천동  여  36.0  30대이하   4977  매장C       NaN  10:05  "
            ],
            "text/html": [
              "\n",
              "  <div id=\"df-01eae4eb-192b-4487-ba62-a242ca122db8\" class=\"colab-df-container\">\n",
              "    <div>\n",
              "<style scoped>\n",
              "    .dataframe tbody tr th:only-of-type {\n",
              "        vertical-align: middle;\n",
              "    }\n",
              "\n",
              "    .dataframe tbody tr th {\n",
              "        vertical-align: top;\n",
              "    }\n",
              "\n",
              "    .dataframe thead th {\n",
              "        text-align: right;\n",
              "    }\n",
              "</style>\n",
              "<table border=\"1\" class=\"dataframe\">\n",
              "  <thead>\n",
              "    <tr style=\"text-align: right;\">\n",
              "      <th></th>\n",
              "      <th>공급일자</th>\n",
              "      <th>요일</th>\n",
              "      <th>공급월</th>\n",
              "      <th>공급주차</th>\n",
              "      <th>회원번호</th>\n",
              "      <th>조합원상태</th>\n",
              "      <th>물품대분류</th>\n",
              "      <th>물품중분류</th>\n",
              "      <th>물품소분류</th>\n",
              "      <th>물품명</th>\n",
              "      <th>구매수량</th>\n",
              "      <th>주소-구</th>\n",
              "      <th>주소-동</th>\n",
              "      <th>성별</th>\n",
              "      <th>연령</th>\n",
              "      <th>연령대</th>\n",
              "      <th>구매금액</th>\n",
              "      <th>구매매장</th>\n",
              "      <th>반품_원거래일자</th>\n",
              "      <th>구매시각</th>\n",
              "    </tr>\n",
              "  </thead>\n",
              "  <tbody>\n",
              "    <tr>\n",
              "      <th>0</th>\n",
              "      <td>2018-01-02</td>\n",
              "      <td>화</td>\n",
              "      <td>1</td>\n",
              "      <td>1</td>\n",
              "      <td>272369856</td>\n",
              "      <td>정상회원</td>\n",
              "      <td>과실</td>\n",
              "      <td>과일</td>\n",
              "      <td>사과</td>\n",
              "      <td>사과/유(1.5kg)</td>\n",
              "      <td>1.0</td>\n",
              "      <td>수지구</td>\n",
              "      <td>풍덕천동</td>\n",
              "      <td>여</td>\n",
              "      <td>45.0</td>\n",
              "      <td>40대</td>\n",
              "      <td>22207</td>\n",
              "      <td>매장C</td>\n",
              "      <td>NaN</td>\n",
              "      <td>10:04</td>\n",
              "    </tr>\n",
              "    <tr>\n",
              "      <th>1</th>\n",
              "      <td>2018-01-02</td>\n",
              "      <td>화</td>\n",
              "      <td>1</td>\n",
              "      <td>1</td>\n",
              "      <td>1506656256</td>\n",
              "      <td>정상회원</td>\n",
              "      <td>채소</td>\n",
              "      <td>버섯</td>\n",
              "      <td>느타리버섯</td>\n",
              "      <td>느타리버섯(300g)</td>\n",
              "      <td>1.0</td>\n",
              "      <td>수지구</td>\n",
              "      <td>풍덕천동</td>\n",
              "      <td>여</td>\n",
              "      <td>36.0</td>\n",
              "      <td>30대이하</td>\n",
              "      <td>4977</td>\n",
              "      <td>매장C</td>\n",
              "      <td>NaN</td>\n",
              "      <td>10:05</td>\n",
              "    </tr>\n",
              "  </tbody>\n",
              "</table>\n",
              "</div>\n",
              "    <div class=\"colab-df-buttons\">\n",
              "\n",
              "  <div class=\"colab-df-container\">\n",
              "    <button class=\"colab-df-convert\" onclick=\"convertToInteractive('df-01eae4eb-192b-4487-ba62-a242ca122db8')\"\n",
              "            title=\"Convert this dataframe to an interactive table.\"\n",
              "            style=\"display:none;\">\n",
              "\n",
              "  <svg xmlns=\"http://www.w3.org/2000/svg\" height=\"24px\" viewBox=\"0 -960 960 960\">\n",
              "    <path d=\"M120-120v-720h720v720H120Zm60-500h600v-160H180v160Zm220 220h160v-160H400v160Zm0 220h160v-160H400v160ZM180-400h160v-160H180v160Zm440 0h160v-160H620v160ZM180-180h160v-160H180v160Zm440 0h160v-160H620v160Z\"/>\n",
              "  </svg>\n",
              "    </button>\n",
              "\n",
              "  <style>\n",
              "    .colab-df-container {\n",
              "      display:flex;\n",
              "      gap: 12px;\n",
              "    }\n",
              "\n",
              "    .colab-df-convert {\n",
              "      background-color: #E8F0FE;\n",
              "      border: none;\n",
              "      border-radius: 50%;\n",
              "      cursor: pointer;\n",
              "      display: none;\n",
              "      fill: #1967D2;\n",
              "      height: 32px;\n",
              "      padding: 0 0 0 0;\n",
              "      width: 32px;\n",
              "    }\n",
              "\n",
              "    .colab-df-convert:hover {\n",
              "      background-color: #E2EBFA;\n",
              "      box-shadow: 0px 1px 2px rgba(60, 64, 67, 0.3), 0px 1px 3px 1px rgba(60, 64, 67, 0.15);\n",
              "      fill: #174EA6;\n",
              "    }\n",
              "\n",
              "    .colab-df-buttons div {\n",
              "      margin-bottom: 4px;\n",
              "    }\n",
              "\n",
              "    [theme=dark] .colab-df-convert {\n",
              "      background-color: #3B4455;\n",
              "      fill: #D2E3FC;\n",
              "    }\n",
              "\n",
              "    [theme=dark] .colab-df-convert:hover {\n",
              "      background-color: #434B5C;\n",
              "      box-shadow: 0px 1px 3px 1px rgba(0, 0, 0, 0.15);\n",
              "      filter: drop-shadow(0px 1px 2px rgba(0, 0, 0, 0.3));\n",
              "      fill: #FFFFFF;\n",
              "    }\n",
              "  </style>\n",
              "\n",
              "    <script>\n",
              "      const buttonEl =\n",
              "        document.querySelector('#df-01eae4eb-192b-4487-ba62-a242ca122db8 button.colab-df-convert');\n",
              "      buttonEl.style.display =\n",
              "        google.colab.kernel.accessAllowed ? 'block' : 'none';\n",
              "\n",
              "      async function convertToInteractive(key) {\n",
              "        const element = document.querySelector('#df-01eae4eb-192b-4487-ba62-a242ca122db8');\n",
              "        const dataTable =\n",
              "          await google.colab.kernel.invokeFunction('convertToInteractive',\n",
              "                                                    [key], {});\n",
              "        if (!dataTable) return;\n",
              "\n",
              "        const docLinkHtml = 'Like what you see? Visit the ' +\n",
              "          '<a target=\"_blank\" href=https://colab.research.google.com/notebooks/data_table.ipynb>data table notebook</a>'\n",
              "          + ' to learn more about interactive tables.';\n",
              "        element.innerHTML = '';\n",
              "        dataTable['output_type'] = 'display_data';\n",
              "        await google.colab.output.renderOutput(dataTable, element);\n",
              "        const docLink = document.createElement('div');\n",
              "        docLink.innerHTML = docLinkHtml;\n",
              "        element.appendChild(docLink);\n",
              "      }\n",
              "    </script>\n",
              "  </div>\n",
              "\n",
              "\n",
              "<div id=\"df-f792c9bf-c56a-488e-8f6f-eb5d9a21cd0c\">\n",
              "  <button class=\"colab-df-quickchart\" onclick=\"quickchart('df-f792c9bf-c56a-488e-8f6f-eb5d9a21cd0c')\"\n",
              "            title=\"Suggest charts\"\n",
              "            style=\"display:none;\">\n",
              "\n",
              "<svg xmlns=\"http://www.w3.org/2000/svg\" height=\"24px\"viewBox=\"0 0 24 24\"\n",
              "     width=\"24px\">\n",
              "    <g>\n",
              "        <path d=\"M19 3H5c-1.1 0-2 .9-2 2v14c0 1.1.9 2 2 2h14c1.1 0 2-.9 2-2V5c0-1.1-.9-2-2-2zM9 17H7v-7h2v7zm4 0h-2V7h2v10zm4 0h-2v-4h2v4z\"/>\n",
              "    </g>\n",
              "</svg>\n",
              "  </button>\n",
              "\n",
              "<style>\n",
              "  .colab-df-quickchart {\n",
              "      --bg-color: #E8F0FE;\n",
              "      --fill-color: #1967D2;\n",
              "      --hover-bg-color: #E2EBFA;\n",
              "      --hover-fill-color: #174EA6;\n",
              "      --disabled-fill-color: #AAA;\n",
              "      --disabled-bg-color: #DDD;\n",
              "  }\n",
              "\n",
              "  [theme=dark] .colab-df-quickchart {\n",
              "      --bg-color: #3B4455;\n",
              "      --fill-color: #D2E3FC;\n",
              "      --hover-bg-color: #434B5C;\n",
              "      --hover-fill-color: #FFFFFF;\n",
              "      --disabled-bg-color: #3B4455;\n",
              "      --disabled-fill-color: #666;\n",
              "  }\n",
              "\n",
              "  .colab-df-quickchart {\n",
              "    background-color: var(--bg-color);\n",
              "    border: none;\n",
              "    border-radius: 50%;\n",
              "    cursor: pointer;\n",
              "    display: none;\n",
              "    fill: var(--fill-color);\n",
              "    height: 32px;\n",
              "    padding: 0;\n",
              "    width: 32px;\n",
              "  }\n",
              "\n",
              "  .colab-df-quickchart:hover {\n",
              "    background-color: var(--hover-bg-color);\n",
              "    box-shadow: 0 1px 2px rgba(60, 64, 67, 0.3), 0 1px 3px 1px rgba(60, 64, 67, 0.15);\n",
              "    fill: var(--button-hover-fill-color);\n",
              "  }\n",
              "\n",
              "  .colab-df-quickchart-complete:disabled,\n",
              "  .colab-df-quickchart-complete:disabled:hover {\n",
              "    background-color: var(--disabled-bg-color);\n",
              "    fill: var(--disabled-fill-color);\n",
              "    box-shadow: none;\n",
              "  }\n",
              "\n",
              "  .colab-df-spinner {\n",
              "    border: 2px solid var(--fill-color);\n",
              "    border-color: transparent;\n",
              "    border-bottom-color: var(--fill-color);\n",
              "    animation:\n",
              "      spin 1s steps(1) infinite;\n",
              "  }\n",
              "\n",
              "  @keyframes spin {\n",
              "    0% {\n",
              "      border-color: transparent;\n",
              "      border-bottom-color: var(--fill-color);\n",
              "      border-left-color: var(--fill-color);\n",
              "    }\n",
              "    20% {\n",
              "      border-color: transparent;\n",
              "      border-left-color: var(--fill-color);\n",
              "      border-top-color: var(--fill-color);\n",
              "    }\n",
              "    30% {\n",
              "      border-color: transparent;\n",
              "      border-left-color: var(--fill-color);\n",
              "      border-top-color: var(--fill-color);\n",
              "      border-right-color: var(--fill-color);\n",
              "    }\n",
              "    40% {\n",
              "      border-color: transparent;\n",
              "      border-right-color: var(--fill-color);\n",
              "      border-top-color: var(--fill-color);\n",
              "    }\n",
              "    60% {\n",
              "      border-color: transparent;\n",
              "      border-right-color: var(--fill-color);\n",
              "    }\n",
              "    80% {\n",
              "      border-color: transparent;\n",
              "      border-right-color: var(--fill-color);\n",
              "      border-bottom-color: var(--fill-color);\n",
              "    }\n",
              "    90% {\n",
              "      border-color: transparent;\n",
              "      border-bottom-color: var(--fill-color);\n",
              "    }\n",
              "  }\n",
              "</style>\n",
              "\n",
              "  <script>\n",
              "    async function quickchart(key) {\n",
              "      const quickchartButtonEl =\n",
              "        document.querySelector('#' + key + ' button');\n",
              "      quickchartButtonEl.disabled = true;  // To prevent multiple clicks.\n",
              "      quickchartButtonEl.classList.add('colab-df-spinner');\n",
              "      try {\n",
              "        const charts = await google.colab.kernel.invokeFunction(\n",
              "            'suggestCharts', [key], {});\n",
              "      } catch (error) {\n",
              "        console.error('Error during call to suggestCharts:', error);\n",
              "      }\n",
              "      quickchartButtonEl.classList.remove('colab-df-spinner');\n",
              "      quickchartButtonEl.classList.add('colab-df-quickchart-complete');\n",
              "    }\n",
              "    (() => {\n",
              "      let quickchartButtonEl =\n",
              "        document.querySelector('#df-f792c9bf-c56a-488e-8f6f-eb5d9a21cd0c button');\n",
              "      quickchartButtonEl.style.display =\n",
              "        google.colab.kernel.accessAllowed ? 'block' : 'none';\n",
              "    })();\n",
              "  </script>\n",
              "</div>\n",
              "\n",
              "    </div>\n",
              "  </div>\n"
            ]
          },
          "metadata": {},
          "execution_count": 36
        }
      ]
    },
    {
      "cell_type": "code",
      "source": [
        "df_fruits.info()"
      ],
      "metadata": {
        "colab": {
          "base_uri": "https://localhost:8080/"
        },
        "id": "M2Ywx57A9ZmP",
        "outputId": "a6ff6446-e763-4c4d-bd26-401a7c83fc24"
      },
      "execution_count": 37,
      "outputs": [
        {
          "output_type": "stream",
          "name": "stdout",
          "text": [
            "<class 'pandas.core.frame.DataFrame'>\n",
            "RangeIndex: 705571 entries, 0 to 705570\n",
            "Data columns (total 20 columns):\n",
            " #   Column    Non-Null Count   Dtype  \n",
            "---  ------    --------------   -----  \n",
            " 0   공급일자      705571 non-null  object \n",
            " 1   요일        705571 non-null  object \n",
            " 2   공급월       705571 non-null  int64  \n",
            " 3   공급주차      705571 non-null  int64  \n",
            " 4   회원번호      705571 non-null  int64  \n",
            " 5   조합원상태     705571 non-null  object \n",
            " 6   물품대분류     705571 non-null  object \n",
            " 7   물품중분류     705571 non-null  object \n",
            " 8   물품소분류     705571 non-null  object \n",
            " 9   물품명       705571 non-null  object \n",
            " 10  구매수량      705571 non-null  float64\n",
            " 11  주소-구      705571 non-null  object \n",
            " 12  주소-동      705571 non-null  object \n",
            " 13  성별        705566 non-null  object \n",
            " 14  연령        705538 non-null  float64\n",
            " 15  연령대       705538 non-null  object \n",
            " 16  구매금액      705571 non-null  int64  \n",
            " 17  구매매장      705571 non-null  object \n",
            " 18  반품_원거래일자  11234 non-null   float64\n",
            " 19  구매시각      705571 non-null  object \n",
            "dtypes: float64(3), int64(4), object(13)\n",
            "memory usage: 107.7+ MB\n"
          ]
        }
      ]
    },
    {
      "cell_type": "code",
      "source": [
        "# 결측치 확인\n",
        "df_fruits.isnull().sum()"
      ],
      "metadata": {
        "colab": {
          "base_uri": "https://localhost:8080/"
        },
        "id": "RtHcpss8GB4e",
        "outputId": "84c0c902-7a7f-4a88-90ee-4beb3ba9c1fd"
      },
      "execution_count": 38,
      "outputs": [
        {
          "output_type": "execute_result",
          "data": {
            "text/plain": [
              "공급일자             0\n",
              "요일               0\n",
              "공급월              0\n",
              "공급주차             0\n",
              "회원번호             0\n",
              "조합원상태            0\n",
              "물품대분류            0\n",
              "물품중분류            0\n",
              "물품소분류            0\n",
              "물품명              0\n",
              "구매수량             0\n",
              "주소-구             0\n",
              "주소-동             0\n",
              "성별               5\n",
              "연령              33\n",
              "연령대             33\n",
              "구매금액             0\n",
              "구매매장             0\n",
              "반품_원거래일자    694337\n",
              "구매시각             0\n",
              "dtype: int64"
            ]
          },
          "metadata": {},
          "execution_count": 38
        }
      ]
    },
    {
      "cell_type": "markdown",
      "source": [
        "## 범주형 / 연속형이고 등분산인 경우"
      ],
      "metadata": {
        "id": "J8uokq-57nDN"
      }
    },
    {
      "cell_type": "markdown",
      "source": [
        "- 성별(범주형)에 따라 구매한 상품의 단가(연속형) 분산이 같은지 확인합니다.\n",
        "   + 성별을 기준으로 상품 단가의 등분산성 여부를 검정하여, 성별에 따른 구매 패턴의 차이를 분석합니다\n"
      ],
      "metadata": {
        "id": "mpfSg5pl7taV"
      }
    },
    {
      "cell_type": "markdown",
      "source": [
        "### 분석 내용\n",
        "- 귀무 가설 : 성별에 따른 구매 패턴에 차이가 없다.\n",
        "- 대립 가설 : 성별에 따른 구매 패턴에 차이가 있다."
      ],
      "metadata": {
        "id": "1sVX3BhSYVfO"
      }
    },
    {
      "cell_type": "code",
      "source": [
        "import scipy.stats as stats\n",
        "\n",
        "# 구매금액(연속형) 정규성 검증  -->  비정규 분포\n",
        "result = stats.anderson(df_fruits['구매금액'].dropna())\n",
        "print('Test Statistic: %.3f' % result.statistic)\n",
        "for i in range(len(result.critical_values)):\n",
        "    sl, cv = result.significance_level[i], result.critical_values[i]\n",
        "    if result.statistic < cv:\n",
        "        print('%.1f%% 수준에서 데이터는 정규 분포를 따름 (검정 통계량 %.3f < 임계값 %.3f)' % (sl, result.statistic, cv))\n",
        "    else:\n",
        "        print('%.1f%% 수준에서 데이터는 정규 분포를 따르지 않음 (검정 통계량 %.3f >= 임계값 %.3f)' % (sl, result.statistic, cv))"
      ],
      "metadata": {
        "colab": {
          "base_uri": "https://localhost:8080/"
        },
        "id": "v1KrgKlV7e0m",
        "outputId": "0d0e03dd-bd7d-47e1-8bbb-6c236cc769bd"
      },
      "execution_count": 39,
      "outputs": [
        {
          "output_type": "stream",
          "name": "stdout",
          "text": [
            "Test Statistic: 80887.237\n",
            "15.0% 수준에서 데이터는 정규 분포를 따르지 않음 (검정 통계량 80887.237 >= 임계값 0.576)\n",
            "10.0% 수준에서 데이터는 정규 분포를 따르지 않음 (검정 통계량 80887.237 >= 임계값 0.656)\n",
            "5.0% 수준에서 데이터는 정규 분포를 따르지 않음 (검정 통계량 80887.237 >= 임계값 0.787)\n",
            "2.5% 수준에서 데이터는 정규 분포를 따르지 않음 (검정 통계량 80887.237 >= 임계값 0.918)\n",
            "1.0% 수준에서 데이터는 정규 분포를 따르지 않음 (검정 통계량 80887.237 >= 임계값 1.092)\n"
          ]
        }
      ]
    },
    {
      "cell_type": "code",
      "source": [
        "# 성별(항목 2개) --> Wilcoxon Test\n",
        "df_fruits['성별'].value_counts()"
      ],
      "metadata": {
        "colab": {
          "base_uri": "https://localhost:8080/"
        },
        "id": "AUDTgXqBB9TG",
        "outputId": "a092814a-490d-4bad-95de-4739b32d6d07"
      },
      "execution_count": 40,
      "outputs": [
        {
          "output_type": "execute_result",
          "data": {
            "text/plain": [
              "여    662024\n",
              "남     43542\n",
              "Name: 성별, dtype: int64"
            ]
          },
          "metadata": {},
          "execution_count": 40
        }
      ]
    },
    {
      "cell_type": "code",
      "source": [
        "conditions = '성별 == \"여\"'\n",
        "series_women_price = df_fruits.query(conditions)['구매금액']\n",
        "series_women_price"
      ],
      "metadata": {
        "colab": {
          "base_uri": "https://localhost:8080/"
        },
        "id": "_AAQPW3e_UbI",
        "outputId": "6e09a732-7a69-4ef9-8047-e839b60eb517"
      },
      "execution_count": 41,
      "outputs": [
        {
          "output_type": "execute_result",
          "data": {
            "text/plain": [
              "0         22207\n",
              "1          4977\n",
              "2          7083\n",
              "3           766\n",
              "4          4403\n",
              "          ...  \n",
              "705566     9189\n",
              "705567     5169\n",
              "705568     7466\n",
              "705569     3542\n",
              "705570     1914\n",
              "Name: 구매금액, Length: 662024, dtype: int64"
            ]
          },
          "metadata": {},
          "execution_count": 41
        }
      ]
    },
    {
      "cell_type": "code",
      "source": [
        "conditions = '성별 == \"남\"'\n",
        "series_men_price = df_fruits.query(conditions)['구매금액']\n",
        "series_men_price"
      ],
      "metadata": {
        "colab": {
          "base_uri": "https://localhost:8080/"
        },
        "id": "JwV9wb_h_UY-",
        "outputId": "ec628a03-805c-4862-a1af-1d16ccab9c78"
      },
      "execution_count": 42,
      "outputs": [
        {
          "output_type": "execute_result",
          "data": {
            "text/plain": [
              "30        16273\n",
              "34         3829\n",
              "38        20676\n",
              "71         7083\n",
              "90        16081\n",
              "          ...  \n",
              "705445     4020\n",
              "705446     9189\n",
              "705481     2967\n",
              "705502    49775\n",
              "705542     7466\n",
              "Name: 구매금액, Length: 43542, dtype: int64"
            ]
          },
          "metadata": {},
          "execution_count": 42
        }
      ]
    },
    {
      "cell_type": "code",
      "source": [
        "# Wilcoxon Test\n",
        "stats.ranksums(series_women_price, series_men_price)"
      ],
      "metadata": {
        "colab": {
          "base_uri": "https://localhost:8080/"
        },
        "id": "mGRTxvpR_UXG",
        "outputId": "e7273201-51f5-4a44-9abb-9d2e555f7c79"
      },
      "execution_count": 43,
      "outputs": [
        {
          "output_type": "execute_result",
          "data": {
            "text/plain": [
              "RanksumsResult(statistic=-1.571683301008152, pvalue=0.11602401682141163)"
            ]
          },
          "metadata": {},
          "execution_count": 43
        }
      ]
    },
    {
      "cell_type": "markdown",
      "source": [
        "#### 분석 결과\n",
        "- 통계 결론 : 귀무가설 성립 (statistic=-1.57, pvalue=0.11)\n",
        "- 사실 결론 : 성별에 따른 구매 패턴에 차이가 없다."
      ],
      "metadata": {
        "id": "c-zcFa8YEUy2"
      }
    },
    {
      "cell_type": "code",
      "source": [],
      "metadata": {
        "id": "az7xlvOEHuF1"
      },
      "execution_count": null,
      "outputs": []
    }
  ]
}