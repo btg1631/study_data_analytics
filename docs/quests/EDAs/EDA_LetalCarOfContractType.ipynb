{
  "nbformat": 4,
  "nbformat_minor": 0,
  "metadata": {
    "colab": {
      "provenance": [],
      "authorship_tag": "ABX9TyPYfhVfdWUJDZJpIgtL8wJK",
      "include_colab_link": true
    },
    "kernelspec": {
      "name": "python3",
      "display_name": "Python 3"
    },
    "language_info": {
      "name": "python"
    }
  },
  "cells": [
    {
      "cell_type": "markdown",
      "metadata": {
        "id": "view-in-github",
        "colab_type": "text"
      },
      "source": [
        "<a href=\"https://colab.research.google.com/github/btg1631/study_data_analytics/blob/main/docs/quests/EDAs/EDA_LetalCarOfContractType.ipynb\" target=\"_parent\"><img src=\"https://colab.research.google.com/assets/colab-badge.svg\" alt=\"Open In Colab\"/></a>"
      ]
    },
    {
      "cell_type": "markdown",
      "source": [
        "### 한글 폰트 설치 및 시각화"
      ],
      "metadata": {
        "id": "2OlxZUGefz6F"
      }
    },
    {
      "cell_type": "code",
      "source": [
        "# 한글 폰트 설치\n",
        "!apt-get install -y fonts-nanum\n",
        "!fc-cache -fv\n",
        "!rm ~/.cache/matplotlib -rf\n",
        "# 설치 후 colab 경우 Runtime > Restart session 필요"
      ],
      "metadata": {
        "id": "2IV4f2Bcf2A9",
        "colab": {
          "base_uri": "https://localhost:8080/"
        },
        "outputId": "2fd84f1e-debb-46be-d2ae-67eeca90df9c"
      },
      "execution_count": 1,
      "outputs": [
        {
          "output_type": "stream",
          "name": "stdout",
          "text": [
            "Reading package lists... Done\n",
            "Building dependency tree... Done\n",
            "Reading state information... Done\n",
            "The following NEW packages will be installed:\n",
            "  fonts-nanum\n",
            "0 upgraded, 1 newly installed, 0 to remove and 32 not upgraded.\n",
            "Need to get 10.3 MB of archives.\n",
            "After this operation, 34.1 MB of additional disk space will be used.\n",
            "Get:1 http://archive.ubuntu.com/ubuntu jammy/universe amd64 fonts-nanum all 20200506-1 [10.3 MB]\n",
            "Fetched 10.3 MB in 0s (21.6 MB/s)\n",
            "Selecting previously unselected package fonts-nanum.\n",
            "(Reading database ... 121730 files and directories currently installed.)\n",
            "Preparing to unpack .../fonts-nanum_20200506-1_all.deb ...\n",
            "Unpacking fonts-nanum (20200506-1) ...\n",
            "Setting up fonts-nanum (20200506-1) ...\n",
            "Processing triggers for fontconfig (2.13.1-4.2ubuntu5) ...\n",
            "/usr/share/fonts: caching, new cache contents: 0 fonts, 1 dirs\n",
            "/usr/share/fonts/truetype: caching, new cache contents: 0 fonts, 3 dirs\n",
            "/usr/share/fonts/truetype/humor-sans: caching, new cache contents: 1 fonts, 0 dirs\n",
            "/usr/share/fonts/truetype/liberation: caching, new cache contents: 16 fonts, 0 dirs\n",
            "/usr/share/fonts/truetype/nanum: caching, new cache contents: 12 fonts, 0 dirs\n",
            "/usr/local/share/fonts: caching, new cache contents: 0 fonts, 0 dirs\n",
            "/root/.local/share/fonts: skipping, no such directory\n",
            "/root/.fonts: skipping, no such directory\n",
            "/usr/share/fonts/truetype: skipping, looped directory detected\n",
            "/usr/share/fonts/truetype/humor-sans: skipping, looped directory detected\n",
            "/usr/share/fonts/truetype/liberation: skipping, looped directory detected\n",
            "/usr/share/fonts/truetype/nanum: skipping, looped directory detected\n",
            "/var/cache/fontconfig: cleaning cache directory\n",
            "/root/.cache/fontconfig: not cleaning non-existent cache directory\n",
            "/root/.fontconfig: not cleaning non-existent cache directory\n",
            "fc-cache: succeeded\n"
          ]
        }
      ]
    },
    {
      "cell_type": "code",
      "execution_count": 1,
      "metadata": {
        "id": "DMyCEDQFbaKw"
      },
      "outputs": [],
      "source": [
        "import matplotlib.pyplot as plt\n",
        "import matplotlib as mpl\n",
        "import seaborn as sns\n",
        "\n",
        "mpl.rc('font', family='NanumBarunGothic') # 혹은 다른 설치한 Nanum 폰트 사용"
      ]
    },
    {
      "cell_type": "markdown",
      "source": [
        "## EDA 각 과정에서 insight 도출\n",
        "- 제안 3: 연체 위험도 예측\n",
        " + 문제 정의: 고객의 연체 기록, 신용 등급, 계약 유형 등을 사용하여 미래의 연체 가능성을 예측합니다.\n",
        " + 배경: 연체 위험도가 높은 고객을 사전에 식별하여, 적절한 조치를 취함으로써 재정적 손실을 최소화할 수 있습니다"
      ],
      "metadata": {
        "id": "fkP6fFtGmazi"
      }
    },
    {
      "cell_type": "code",
      "execution_count": 2,
      "metadata": {
        "colab": {
          "base_uri": "https://localhost:8080/",
          "height": 112
        },
        "id": "Cow-6es6lnG_",
        "outputId": "2e935ab6-cc76-40ce-ea3b-d5f3f2906030"
      },
      "outputs": [
        {
          "output_type": "execute_result",
          "data": {
            "text/plain": [
              "         id type_of_contract type_of_contract2 channel    datetime  Term  \\\n",
              "0  66758234               렌탈            Normal  서비스 방문  2019-10-20    60   \n",
              "1  66755948               렌탈  Extension_Rental  서비스 방문  2019-10-20    60   \n",
              "\n",
              "  payment_type product  amount state  overdue_count overdue  credit rating  \\\n",
              "0          CMS      K1   96900  계약확정              0      없음            9.0   \n",
              "1         카드이체      K1  102900  계약확정              0      없음            2.0   \n",
              "\n",
              "    bank cancellation   age  Mileage  \n",
              "0  새마을금고           정상  43.0   1862.0  \n",
              "1   현대카드           정상  62.0   2532.0  "
            ],
            "text/html": [
              "\n",
              "  <div id=\"df-50a8e979-bd3f-4b93-ae4b-894419fb1b9a\" class=\"colab-df-container\">\n",
              "    <div>\n",
              "<style scoped>\n",
              "    .dataframe tbody tr th:only-of-type {\n",
              "        vertical-align: middle;\n",
              "    }\n",
              "\n",
              "    .dataframe tbody tr th {\n",
              "        vertical-align: top;\n",
              "    }\n",
              "\n",
              "    .dataframe thead th {\n",
              "        text-align: right;\n",
              "    }\n",
              "</style>\n",
              "<table border=\"1\" class=\"dataframe\">\n",
              "  <thead>\n",
              "    <tr style=\"text-align: right;\">\n",
              "      <th></th>\n",
              "      <th>id</th>\n",
              "      <th>type_of_contract</th>\n",
              "      <th>type_of_contract2</th>\n",
              "      <th>channel</th>\n",
              "      <th>datetime</th>\n",
              "      <th>Term</th>\n",
              "      <th>payment_type</th>\n",
              "      <th>product</th>\n",
              "      <th>amount</th>\n",
              "      <th>state</th>\n",
              "      <th>overdue_count</th>\n",
              "      <th>overdue</th>\n",
              "      <th>credit rating</th>\n",
              "      <th>bank</th>\n",
              "      <th>cancellation</th>\n",
              "      <th>age</th>\n",
              "      <th>Mileage</th>\n",
              "    </tr>\n",
              "  </thead>\n",
              "  <tbody>\n",
              "    <tr>\n",
              "      <th>0</th>\n",
              "      <td>66758234</td>\n",
              "      <td>렌탈</td>\n",
              "      <td>Normal</td>\n",
              "      <td>서비스 방문</td>\n",
              "      <td>2019-10-20</td>\n",
              "      <td>60</td>\n",
              "      <td>CMS</td>\n",
              "      <td>K1</td>\n",
              "      <td>96900</td>\n",
              "      <td>계약확정</td>\n",
              "      <td>0</td>\n",
              "      <td>없음</td>\n",
              "      <td>9.0</td>\n",
              "      <td>새마을금고</td>\n",
              "      <td>정상</td>\n",
              "      <td>43.0</td>\n",
              "      <td>1862.0</td>\n",
              "    </tr>\n",
              "    <tr>\n",
              "      <th>1</th>\n",
              "      <td>66755948</td>\n",
              "      <td>렌탈</td>\n",
              "      <td>Extension_Rental</td>\n",
              "      <td>서비스 방문</td>\n",
              "      <td>2019-10-20</td>\n",
              "      <td>60</td>\n",
              "      <td>카드이체</td>\n",
              "      <td>K1</td>\n",
              "      <td>102900</td>\n",
              "      <td>계약확정</td>\n",
              "      <td>0</td>\n",
              "      <td>없음</td>\n",
              "      <td>2.0</td>\n",
              "      <td>현대카드</td>\n",
              "      <td>정상</td>\n",
              "      <td>62.0</td>\n",
              "      <td>2532.0</td>\n",
              "    </tr>\n",
              "  </tbody>\n",
              "</table>\n",
              "</div>\n",
              "    <div class=\"colab-df-buttons\">\n",
              "\n",
              "  <div class=\"colab-df-container\">\n",
              "    <button class=\"colab-df-convert\" onclick=\"convertToInteractive('df-50a8e979-bd3f-4b93-ae4b-894419fb1b9a')\"\n",
              "            title=\"Convert this dataframe to an interactive table.\"\n",
              "            style=\"display:none;\">\n",
              "\n",
              "  <svg xmlns=\"http://www.w3.org/2000/svg\" height=\"24px\" viewBox=\"0 -960 960 960\">\n",
              "    <path d=\"M120-120v-720h720v720H120Zm60-500h600v-160H180v160Zm220 220h160v-160H400v160Zm0 220h160v-160H400v160ZM180-400h160v-160H180v160Zm440 0h160v-160H620v160ZM180-180h160v-160H180v160Zm440 0h160v-160H620v160Z\"/>\n",
              "  </svg>\n",
              "    </button>\n",
              "\n",
              "  <style>\n",
              "    .colab-df-container {\n",
              "      display:flex;\n",
              "      gap: 12px;\n",
              "    }\n",
              "\n",
              "    .colab-df-convert {\n",
              "      background-color: #E8F0FE;\n",
              "      border: none;\n",
              "      border-radius: 50%;\n",
              "      cursor: pointer;\n",
              "      display: none;\n",
              "      fill: #1967D2;\n",
              "      height: 32px;\n",
              "      padding: 0 0 0 0;\n",
              "      width: 32px;\n",
              "    }\n",
              "\n",
              "    .colab-df-convert:hover {\n",
              "      background-color: #E2EBFA;\n",
              "      box-shadow: 0px 1px 2px rgba(60, 64, 67, 0.3), 0px 1px 3px 1px rgba(60, 64, 67, 0.15);\n",
              "      fill: #174EA6;\n",
              "    }\n",
              "\n",
              "    .colab-df-buttons div {\n",
              "      margin-bottom: 4px;\n",
              "    }\n",
              "\n",
              "    [theme=dark] .colab-df-convert {\n",
              "      background-color: #3B4455;\n",
              "      fill: #D2E3FC;\n",
              "    }\n",
              "\n",
              "    [theme=dark] .colab-df-convert:hover {\n",
              "      background-color: #434B5C;\n",
              "      box-shadow: 0px 1px 3px 1px rgba(0, 0, 0, 0.15);\n",
              "      filter: drop-shadow(0px 1px 2px rgba(0, 0, 0, 0.3));\n",
              "      fill: #FFFFFF;\n",
              "    }\n",
              "  </style>\n",
              "\n",
              "    <script>\n",
              "      const buttonEl =\n",
              "        document.querySelector('#df-50a8e979-bd3f-4b93-ae4b-894419fb1b9a button.colab-df-convert');\n",
              "      buttonEl.style.display =\n",
              "        google.colab.kernel.accessAllowed ? 'block' : 'none';\n",
              "\n",
              "      async function convertToInteractive(key) {\n",
              "        const element = document.querySelector('#df-50a8e979-bd3f-4b93-ae4b-894419fb1b9a');\n",
              "        const dataTable =\n",
              "          await google.colab.kernel.invokeFunction('convertToInteractive',\n",
              "                                                    [key], {});\n",
              "        if (!dataTable) return;\n",
              "\n",
              "        const docLinkHtml = 'Like what you see? Visit the ' +\n",
              "          '<a target=\"_blank\" href=https://colab.research.google.com/notebooks/data_table.ipynb>data table notebook</a>'\n",
              "          + ' to learn more about interactive tables.';\n",
              "        element.innerHTML = '';\n",
              "        dataTable['output_type'] = 'display_data';\n",
              "        await google.colab.output.renderOutput(dataTable, element);\n",
              "        const docLink = document.createElement('div');\n",
              "        docLink.innerHTML = docLinkHtml;\n",
              "        element.appendChild(docLink);\n",
              "      }\n",
              "    </script>\n",
              "  </div>\n",
              "\n",
              "\n",
              "<div id=\"df-4f479f35-ddfc-4115-b212-b4a1b44ce901\">\n",
              "  <button class=\"colab-df-quickchart\" onclick=\"quickchart('df-4f479f35-ddfc-4115-b212-b4a1b44ce901')\"\n",
              "            title=\"Suggest charts\"\n",
              "            style=\"display:none;\">\n",
              "\n",
              "<svg xmlns=\"http://www.w3.org/2000/svg\" height=\"24px\"viewBox=\"0 0 24 24\"\n",
              "     width=\"24px\">\n",
              "    <g>\n",
              "        <path d=\"M19 3H5c-1.1 0-2 .9-2 2v14c0 1.1.9 2 2 2h14c1.1 0 2-.9 2-2V5c0-1.1-.9-2-2-2zM9 17H7v-7h2v7zm4 0h-2V7h2v10zm4 0h-2v-4h2v4z\"/>\n",
              "    </g>\n",
              "</svg>\n",
              "  </button>\n",
              "\n",
              "<style>\n",
              "  .colab-df-quickchart {\n",
              "      --bg-color: #E8F0FE;\n",
              "      --fill-color: #1967D2;\n",
              "      --hover-bg-color: #E2EBFA;\n",
              "      --hover-fill-color: #174EA6;\n",
              "      --disabled-fill-color: #AAA;\n",
              "      --disabled-bg-color: #DDD;\n",
              "  }\n",
              "\n",
              "  [theme=dark] .colab-df-quickchart {\n",
              "      --bg-color: #3B4455;\n",
              "      --fill-color: #D2E3FC;\n",
              "      --hover-bg-color: #434B5C;\n",
              "      --hover-fill-color: #FFFFFF;\n",
              "      --disabled-bg-color: #3B4455;\n",
              "      --disabled-fill-color: #666;\n",
              "  }\n",
              "\n",
              "  .colab-df-quickchart {\n",
              "    background-color: var(--bg-color);\n",
              "    border: none;\n",
              "    border-radius: 50%;\n",
              "    cursor: pointer;\n",
              "    display: none;\n",
              "    fill: var(--fill-color);\n",
              "    height: 32px;\n",
              "    padding: 0;\n",
              "    width: 32px;\n",
              "  }\n",
              "\n",
              "  .colab-df-quickchart:hover {\n",
              "    background-color: var(--hover-bg-color);\n",
              "    box-shadow: 0 1px 2px rgba(60, 64, 67, 0.3), 0 1px 3px 1px rgba(60, 64, 67, 0.15);\n",
              "    fill: var(--button-hover-fill-color);\n",
              "  }\n",
              "\n",
              "  .colab-df-quickchart-complete:disabled,\n",
              "  .colab-df-quickchart-complete:disabled:hover {\n",
              "    background-color: var(--disabled-bg-color);\n",
              "    fill: var(--disabled-fill-color);\n",
              "    box-shadow: none;\n",
              "  }\n",
              "\n",
              "  .colab-df-spinner {\n",
              "    border: 2px solid var(--fill-color);\n",
              "    border-color: transparent;\n",
              "    border-bottom-color: var(--fill-color);\n",
              "    animation:\n",
              "      spin 1s steps(1) infinite;\n",
              "  }\n",
              "\n",
              "  @keyframes spin {\n",
              "    0% {\n",
              "      border-color: transparent;\n",
              "      border-bottom-color: var(--fill-color);\n",
              "      border-left-color: var(--fill-color);\n",
              "    }\n",
              "    20% {\n",
              "      border-color: transparent;\n",
              "      border-left-color: var(--fill-color);\n",
              "      border-top-color: var(--fill-color);\n",
              "    }\n",
              "    30% {\n",
              "      border-color: transparent;\n",
              "      border-left-color: var(--fill-color);\n",
              "      border-top-color: var(--fill-color);\n",
              "      border-right-color: var(--fill-color);\n",
              "    }\n",
              "    40% {\n",
              "      border-color: transparent;\n",
              "      border-right-color: var(--fill-color);\n",
              "      border-top-color: var(--fill-color);\n",
              "    }\n",
              "    60% {\n",
              "      border-color: transparent;\n",
              "      border-right-color: var(--fill-color);\n",
              "    }\n",
              "    80% {\n",
              "      border-color: transparent;\n",
              "      border-right-color: var(--fill-color);\n",
              "      border-bottom-color: var(--fill-color);\n",
              "    }\n",
              "    90% {\n",
              "      border-color: transparent;\n",
              "      border-bottom-color: var(--fill-color);\n",
              "    }\n",
              "  }\n",
              "</style>\n",
              "\n",
              "  <script>\n",
              "    async function quickchart(key) {\n",
              "      const quickchartButtonEl =\n",
              "        document.querySelector('#' + key + ' button');\n",
              "      quickchartButtonEl.disabled = true;  // To prevent multiple clicks.\n",
              "      quickchartButtonEl.classList.add('colab-df-spinner');\n",
              "      try {\n",
              "        const charts = await google.colab.kernel.invokeFunction(\n",
              "            'suggestCharts', [key], {});\n",
              "      } catch (error) {\n",
              "        console.error('Error during call to suggestCharts:', error);\n",
              "      }\n",
              "      quickchartButtonEl.classList.remove('colab-df-spinner');\n",
              "      quickchartButtonEl.classList.add('colab-df-quickchart-complete');\n",
              "    }\n",
              "    (() => {\n",
              "      let quickchartButtonEl =\n",
              "        document.querySelector('#df-4f479f35-ddfc-4115-b212-b4a1b44ce901 button');\n",
              "      quickchartButtonEl.style.display =\n",
              "        google.colab.kernel.accessAllowed ? 'block' : 'none';\n",
              "    })();\n",
              "  </script>\n",
              "</div>\n",
              "\n",
              "    </div>\n",
              "  </div>\n"
            ]
          },
          "metadata": {},
          "execution_count": 2
        }
      ],
      "source": [
        "import pandas as pd\n",
        "df_LCOCT = pd.read_csv('LetalCarOfContractType.csv')\n",
        "df_LCOCT.dropna(inplace=True)\n",
        "df_LCOCT[:2]"
      ]
    },
    {
      "cell_type": "code",
      "source": [
        "df_LCOCT.info()"
      ],
      "metadata": {
        "colab": {
          "base_uri": "https://localhost:8080/"
        },
        "id": "I5DhgeAOl1GC",
        "outputId": "c326e160-6602-4039-d6c7-fd83d3f6abea"
      },
      "execution_count": 8,
      "outputs": [
        {
          "output_type": "stream",
          "name": "stdout",
          "text": [
            "<class 'pandas.core.frame.DataFrame'>\n",
            "Int64Index: 40480 entries, 0 to 51303\n",
            "Data columns (total 17 columns):\n",
            " #   Column             Non-Null Count  Dtype  \n",
            "---  ------             --------------  -----  \n",
            " 0   id                 40480 non-null  int64  \n",
            " 1   type_of_contract   40480 non-null  object \n",
            " 2   type_of_contract2  40480 non-null  object \n",
            " 3   channel            40480 non-null  object \n",
            " 4   datetime           40480 non-null  object \n",
            " 5   Term               40480 non-null  int64  \n",
            " 6   payment_type       40480 non-null  object \n",
            " 7   product            40480 non-null  object \n",
            " 8   amount             40480 non-null  int64  \n",
            " 9   state              40480 non-null  object \n",
            " 10  overdue_count      40480 non-null  int64  \n",
            " 11  overdue            40480 non-null  object \n",
            " 12  credit rating      40480 non-null  float64\n",
            " 13  bank               40480 non-null  object \n",
            " 14  cancellation       40480 non-null  object \n",
            " 15  age                40480 non-null  float64\n",
            " 16  Mileage            40480 non-null  float64\n",
            "dtypes: float64(3), int64(4), object(10)\n",
            "memory usage: 5.6+ MB\n"
          ]
        }
      ]
    },
    {
      "cell_type": "markdown",
      "source": [
        "### 기술 데이터 분석(DDA)"
      ],
      "metadata": {
        "id": "81LUAiynYMHE"
      }
    },
    {
      "cell_type": "markdown",
      "source": [
        "#### 연체 기록 분포 확인"
      ],
      "metadata": {
        "id": "PNzDRXDEQvoA"
      }
    },
    {
      "cell_type": "code",
      "source": [
        "# 연체 기록 분포 확인\n",
        "df_LCOCT['overdue'].value_counts()"
      ],
      "metadata": {
        "colab": {
          "base_uri": "https://localhost:8080/"
        },
        "id": "T0A0IYpONJDI",
        "outputId": "7296ccfc-abbd-4625-b290-163030478199"
      },
      "execution_count": 9,
      "outputs": [
        {
          "output_type": "execute_result",
          "data": {
            "text/plain": [
              "없음    39019\n",
              "있음     1461\n",
              "Name: overdue, dtype: int64"
            ]
          },
          "metadata": {},
          "execution_count": 9
        }
      ]
    },
    {
      "cell_type": "code",
      "source": [
        "# 연체 기록이 있는 고객만 선별\n",
        "df_is_overdue = df_LCOCT.query('overdue == \"있음\"')\n",
        "# 연체 횟수 확인\n",
        "df_is_overdue['overdue_count'].describe()\n",
        "\n",
        "# 연체 기록이 있는 고객 중 연체 횟수 중앙값은 2 이다. 연체 기록이 있는 고객 중 연체 기록이 중앙값보다 높은 3번 이상인 고객이 연체 위험도가 높다고 판단.\n",
        "# 인사이트 : 연체 기록이 일정 수 이상이 된 고객은 블랙리스트에 등록한다."
      ],
      "metadata": {
        "colab": {
          "base_uri": "https://localhost:8080/"
        },
        "id": "IHHn5NP6mo5R",
        "outputId": "a6b69664-ed35-4d45-e815-ce5aceade98b"
      },
      "execution_count": 4,
      "outputs": [
        {
          "output_type": "execute_result",
          "data": {
            "text/plain": [
              "count    1461.000000\n",
              "mean        4.060917\n",
              "std         4.097074\n",
              "min         1.000000\n",
              "25%         1.000000\n",
              "50%         2.000000\n",
              "75%         7.000000\n",
              "max        15.000000\n",
              "Name: overdue_count, dtype: float64"
            ]
          },
          "metadata": {},
          "execution_count": 4
        }
      ]
    },
    {
      "cell_type": "markdown",
      "source": [
        "#### 신용 등급 분포 확인"
      ],
      "metadata": {
        "id": "W4E_pqAiQswQ"
      }
    },
    {
      "cell_type": "code",
      "source": [
        "# 신용 등급 분포(범주형) 확인\n",
        "df_LCOCT['credit rating'].value_counts()\n",
        "\n",
        "# 대부분의 고객들이 1~5등급 범위의 신용등급을 가지고 있다. 일반적으로 신용등급이 낮을수록(숫자가 클수록) 연체 위험도가 높아질 가능성이 있음."
      ],
      "metadata": {
        "colab": {
          "base_uri": "https://localhost:8080/"
        },
        "id": "k-oYX_TMmo3A",
        "outputId": "c95e95d2-9b2d-455d-87ec-7e7489e5183e"
      },
      "execution_count": 5,
      "outputs": [
        {
          "output_type": "execute_result",
          "data": {
            "text/plain": [
              "1.0     10245\n",
              "2.0      7811\n",
              "4.0      5137\n",
              "3.0      4777\n",
              "5.0      4116\n",
              "6.0      3624\n",
              "7.0      2589\n",
              "8.0      1466\n",
              "9.0       610\n",
              "0.0        60\n",
              "10.0       45\n",
              "Name: credit rating, dtype: int64"
            ]
          },
          "metadata": {},
          "execution_count": 5
        }
      ]
    },
    {
      "cell_type": "code",
      "source": [
        "# 연체 기록이 있는 고객들의 신용 등급 분포(범주형) 확인\n",
        "df_is_overdue['credit rating'].value_counts()\n",
        "\n",
        "# 대부분의 고객들이 6~8등급 범위의 신용등급을 가지고 있다. 신용등급 6~8등급 사이의 고객들이 연체 위험도가 높다고 판단.\n",
        "# 인사이트 : 신용등급에 제한을 둬 대여 조건을 강화한다."
      ],
      "metadata": {
        "colab": {
          "base_uri": "https://localhost:8080/"
        },
        "id": "lmgdd7PBNs6x",
        "outputId": "44150a65-0abc-461d-eb71-adaec6b96428"
      },
      "execution_count": 10,
      "outputs": [
        {
          "output_type": "execute_result",
          "data": {
            "text/plain": [
              "7.0     353\n",
              "8.0     302\n",
              "6.0     249\n",
              "5.0     149\n",
              "9.0     135\n",
              "4.0     114\n",
              "3.0      60\n",
              "2.0      47\n",
              "1.0      40\n",
              "10.0      9\n",
              "0.0       3\n",
              "Name: credit rating, dtype: int64"
            ]
          },
          "metadata": {},
          "execution_count": 10
        }
      ]
    },
    {
      "cell_type": "markdown",
      "source": [
        "#### 지불 방식 분포 확인"
      ],
      "metadata": {
        "id": "UtlFAeGpQpi_"
      }
    },
    {
      "cell_type": "code",
      "source": [
        "# 지불 방식 분포 확인\n",
        "df_LCOCT['payment_type'].value_counts()\n",
        "\n",
        "# 약 1.852배 차이"
      ],
      "metadata": {
        "colab": {
          "base_uri": "https://localhost:8080/"
        },
        "id": "eABfW188OiMI",
        "outputId": "2be37d1c-d932-413e-9227-66c9c8851dd8"
      },
      "execution_count": 14,
      "outputs": [
        {
          "output_type": "execute_result",
          "data": {
            "text/plain": [
              "CMS     26274\n",
              "카드이체    14206\n",
              "Name: payment_type, dtype: int64"
            ]
          },
          "metadata": {},
          "execution_count": 14
        }
      ]
    },
    {
      "cell_type": "code",
      "source": [
        "# 연체 기록이 있는 고객들의 지불 방식 분포 확인\n",
        "df_is_overdue['payment_type'].value_counts()\n",
        "\n",
        "# CMS가 카드이체의 약 6.98배이므로 CMS를 사용한 고객이 연체 위험도가 높다고 판단.\n",
        "# 인사이트 :"
      ],
      "metadata": {
        "colab": {
          "base_uri": "https://localhost:8080/"
        },
        "id": "kc_lzZj5OiOI",
        "outputId": "b37805d1-2e31-4025-9fae-3ea156023baf"
      },
      "execution_count": 13,
      "outputs": [
        {
          "output_type": "execute_result",
          "data": {
            "text/plain": [
              "CMS     1278\n",
              "카드이체     183\n",
              "Name: payment_type, dtype: int64"
            ]
          },
          "metadata": {},
          "execution_count": 13
        }
      ]
    },
    {
      "cell_type": "markdown",
      "source": [
        "### EDA\n",
        "- 추가 확인 후 인사이트 재조정"
      ],
      "metadata": {
        "id": "KUQhctJFiWtw"
      }
    },
    {
      "cell_type": "code",
      "source": [
        "sns.countplot(data=df_is_overdue, x='overdue_count')\n",
        "plt.title(\"연체 기록이 있는 고객들의 연체 횟수\")\n",
        "plt.show()"
      ],
      "metadata": {
        "colab": {
          "base_uri": "https://localhost:8080/",
          "height": 471
        },
        "id": "jxoLf2qkO22_",
        "outputId": "cb704f4d-9a93-4b09-b5da-8225d0d5479a"
      },
      "execution_count": 16,
      "outputs": [
        {
          "output_type": "display_data",
          "data": {
            "text/plain": [
              "<Figure size 640x480 with 1 Axes>"
            ],
            "image/png": "[encoded data removed]"
          },
          "metadata": {}
        }
      ]
    },
    {
      "cell_type": "code",
      "source": [
        "sns.countplot(data=df_is_overdue, x='credit rating')\n",
        "plt.title(\"연체 기록이 있는 고객들의 신용 등급 분포\")\n",
        "plt.show()"
      ],
      "metadata": {
        "colab": {
          "base_uri": "https://localhost:8080/",
          "height": 471
        },
        "id": "_d8CKs1yRk-o",
        "outputId": "0bd85330-049e-4d48-bd92-7f807aefc54a"
      },
      "execution_count": 17,
      "outputs": [
        {
          "output_type": "display_data",
          "data": {
            "text/plain": [
              "<Figure size 640x480 with 1 Axes>"
            ],
            "image/png": "[encoded data removed]"
          },
          "metadata": {}
        }
      ]
    },
    {
      "cell_type": "markdown",
      "source": [
        "## 보고용 insight 작성"
      ],
      "metadata": {
        "id": "YNCvN12KmigJ"
      }
    },
    {
      "cell_type": "markdown",
      "source": [
        "- 연체 기록 분포 확인\n",
        " + 연체 기록이 있는 고객 중에서 분석했을 때, 연체 횟수가 중앙(1 ~ 7)에 분포해 있음. 연체 기록이 있는 고객 중 연체 기록이 중앙값보다 높은 3번 이상인 고객이 연체 위험도가 높다고 판단.\n",
        " + 전략 제안 : 연체 기록이 일정 수 이상이 된 고객은 블랙리스트에 등록한다.\n",
        "\n",
        "- 신용 등급 분포 확인\n",
        " + 분석 결과 : 대부분의 고객들이 6-8등급 범위의 신용등급을 가지고 있음. 신용등급 6-8등급 사이의 고객들이 연체 위험도가 높다고 판단.\n",
        " + 전략 제안 : 신용등급에 제한을 둬 대여 조건을 강화한다.\n",
        "\n",
        "- 지불 방식 분포 확인\n",
        " + 분석 결과 : CMS가 카드이체의 약 7배이므로 CMS를 사용한 고객이 연체 위험도가 높다고 판단.\n",
        " + 전략 제안 : 어떠카지\n"
      ],
      "metadata": {
        "id": "rzCEI9PTuyR8"
      }
    }
  ]
}