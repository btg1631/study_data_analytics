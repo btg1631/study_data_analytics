{
  "nbformat": 4,
  "nbformat_minor": 0,
  "metadata": {
    "colab": {
      "provenance": [],
      "collapsed_sections": [
        "2OlxZUGefz6F",
        "TQHqoaeBCTcn",
        "b6zNk3EaE11f",
        "6hZExOUdGm1W"
      ],
      "authorship_tag": "ABX9TyOAGdup4y1byMI/OVwuWOFr",
      "include_colab_link": true
    },
    "kernelspec": {
      "name": "python3",
      "display_name": "Python 3"
    },
    "language_info": {
      "name": "python"
    }
  },
  "cells": [
    {
      "cell_type": "markdown",
      "metadata": {
        "id": "view-in-github",
        "colab_type": "text"
      },
      "source": [
        "<a href=\"https://colab.research.google.com/github/btg1631/study_data_analytics/blob/main/docs/quests/DDA/extract_5Rank.ipynb\" target=\"_parent\"><img src=\"https://colab.research.google.com/assets/colab-badge.svg\" alt=\"Open In Colab\"/></a>"
      ]
    },
    {
      "cell_type": "markdown",
      "source": [
        "### 한글 폰트 설치 및 matplotlib 시각화"
      ],
      "metadata": {
        "id": "2OlxZUGefz6F"
      }
    },
    {
      "cell_type": "code",
      "source": [
        "# 한글 폰트 설치\n",
        "!apt-get install -y fonts-nanum\n",
        "!fc-cache -fv\n",
        "!rm ~/.cache/matplotlib -rf\n",
        "# 설치 후 colab 경우 Runtime > Restart session 필요"
      ],
      "metadata": {
        "id": "2IV4f2Bcf2A9"
      },
      "execution_count": null,
      "outputs": []
    },
    {
      "cell_type": "code",
      "execution_count": null,
      "metadata": {
        "id": "kSn7qFg0HY3H"
      },
      "outputs": [],
      "source": [
        "import matplotlib.pyplot as plt\n",
        "import matplotlib as mpl\n",
        "\n",
        "mpl.rc('font', family='NanumBarunGothic') # 혹은 다른 설치한 Nanum 폰트 사용"
      ]
    },
    {
      "cell_type": "markdown",
      "source": [
        "### loading dataset file and check dataframe"
      ],
      "metadata": {
        "id": "tMb6US0mnFBf"
      }
    },
    {
      "cell_type": "code",
      "source": [
        "import pandas as pd"
      ],
      "metadata": {
        "id": "zVwHB1A3mq8H"
      },
      "execution_count": 3,
      "outputs": []
    },
    {
      "cell_type": "code",
      "source": [
        "df_SMDWD = pd.read_csv('ShoppingMallDeliveryWithDate.csv')\n",
        "df_SMDWD[10:20]"
      ],
      "metadata": {
        "colab": {
          "base_uri": "https://localhost:8080/",
          "height": 363
        },
        "id": "NX_8xff2nRPn",
        "outputId": "277c5a53-360f-4b8e-d4f7-94642b5c8d6f"
      },
      "execution_count": 9,
      "outputs": [
        {
          "output_type": "execute_result",
          "data": {
            "text/plain": [
              "     결제수단                   배송번호               배송시작일               배송완료일  \\\n",
              "10  무통장입금  D-20181231-0000205-00  2019-01-03 오전 9:30  2019-01-07 오전 5:32   \n",
              "11  무통장입금  D-20181231-0000205-01  2019-01-03 오전 9:30  2019-01-07 오전 5:32   \n",
              "12  무통장입금  D-20181231-0000205-02  2019-01-03 오전 9:30  2019-01-07 오전 5:32   \n",
              "13  무통장입금  D-20181231-0000205-03  2019-01-03 오전 9:30  2019-01-07 오전 5:32   \n",
              "14  무통장입금  D-20181231-0000205-04  2019-01-03 오전 9:30  2019-01-07 오전 5:32   \n",
              "15  무통장입금  D-20181231-0000205-05  2019-01-03 오전 9:30  2019-01-07 오전 5:32   \n",
              "16  무통장입금  D-20181231-0000211-00  2019-01-03 오전 9:30  2019-01-07 오전 5:32   \n",
              "17  무통장입금  D-20181231-0000211-01  2019-01-03 오전 9:30  2019-01-07 오전 5:32   \n",
              "18  무통장입금  D-20181231-0000211-02  2019-01-03 오전 9:30  2019-01-07 오전 5:32   \n",
              "19  무통장입금  D-20181231-0000211-03  2019-01-03 오전 9:30  2019-01-07 오전 5:32   \n",
              "\n",
              "    상품구매금액    상품번호  수량   주문경로       주문일  \n",
              "10   94710  1058.0   1  PC쇼핑몰  20181231  \n",
              "11  107910  1059.0   1  PC쇼핑몰  20181231  \n",
              "12   82170  1071.0   1  PC쇼핑몰  20181231  \n",
              "13   63470  1373.0   1  PC쇼핑몰  20181231  \n",
              "14   75240  1374.0   1  PC쇼핑몰  20181231  \n",
              "15  121110  1037.0   1  PC쇼핑몰  20181231  \n",
              "16  126940  1373.0   2  PC쇼핑몰  20181231  \n",
              "17   75240  1374.0   1  PC쇼핑몰  20181231  \n",
              "18  121110  1037.0   1  PC쇼핑몰  20181231  \n",
              "19   75240  1374.0   1  PC쇼핑몰  20181231  "
            ],
            "text/html": [
              "\n",
              "  <div id=\"df-09d4a9c6-8723-4a87-bf65-23c956fc9051\" class=\"colab-df-container\">\n",
              "    <div>\n",
              "<style scoped>\n",
              "    .dataframe tbody tr th:only-of-type {\n",
              "        vertical-align: middle;\n",
              "    }\n",
              "\n",
              "    .dataframe tbody tr th {\n",
              "        vertical-align: top;\n",
              "    }\n",
              "\n",
              "    .dataframe thead th {\n",
              "        text-align: right;\n",
              "    }\n",
              "</style>\n",
              "<table border=\"1\" class=\"dataframe\">\n",
              "  <thead>\n",
              "    <tr style=\"text-align: right;\">\n",
              "      <th></th>\n",
              "      <th>결제수단</th>\n",
              "      <th>배송번호</th>\n",
              "      <th>배송시작일</th>\n",
              "      <th>배송완료일</th>\n",
              "      <th>상품구매금액</th>\n",
              "      <th>상품번호</th>\n",
              "      <th>수량</th>\n",
              "      <th>주문경로</th>\n",
              "      <th>주문일</th>\n",
              "    </tr>\n",
              "  </thead>\n",
              "  <tbody>\n",
              "    <tr>\n",
              "      <th>10</th>\n",
              "      <td>무통장입금</td>\n",
              "      <td>D-20181231-0000205-00</td>\n",
              "      <td>2019-01-03 오전 9:30</td>\n",
              "      <td>2019-01-07 오전 5:32</td>\n",
              "      <td>94710</td>\n",
              "      <td>1058.0</td>\n",
              "      <td>1</td>\n",
              "      <td>PC쇼핑몰</td>\n",
              "      <td>20181231</td>\n",
              "    </tr>\n",
              "    <tr>\n",
              "      <th>11</th>\n",
              "      <td>무통장입금</td>\n",
              "      <td>D-20181231-0000205-01</td>\n",
              "      <td>2019-01-03 오전 9:30</td>\n",
              "      <td>2019-01-07 오전 5:32</td>\n",
              "      <td>107910</td>\n",
              "      <td>1059.0</td>\n",
              "      <td>1</td>\n",
              "      <td>PC쇼핑몰</td>\n",
              "      <td>20181231</td>\n",
              "    </tr>\n",
              "    <tr>\n",
              "      <th>12</th>\n",
              "      <td>무통장입금</td>\n",
              "      <td>D-20181231-0000205-02</td>\n",
              "      <td>2019-01-03 오전 9:30</td>\n",
              "      <td>2019-01-07 오전 5:32</td>\n",
              "      <td>82170</td>\n",
              "      <td>1071.0</td>\n",
              "      <td>1</td>\n",
              "      <td>PC쇼핑몰</td>\n",
              "      <td>20181231</td>\n",
              "    </tr>\n",
              "    <tr>\n",
              "      <th>13</th>\n",
              "      <td>무통장입금</td>\n",
              "      <td>D-20181231-0000205-03</td>\n",
              "      <td>2019-01-03 오전 9:30</td>\n",
              "      <td>2019-01-07 오전 5:32</td>\n",
              "      <td>63470</td>\n",
              "      <td>1373.0</td>\n",
              "      <td>1</td>\n",
              "      <td>PC쇼핑몰</td>\n",
              "      <td>20181231</td>\n",
              "    </tr>\n",
              "    <tr>\n",
              "      <th>14</th>\n",
              "      <td>무통장입금</td>\n",
              "      <td>D-20181231-0000205-04</td>\n",
              "      <td>2019-01-03 오전 9:30</td>\n",
              "      <td>2019-01-07 오전 5:32</td>\n",
              "      <td>75240</td>\n",
              "      <td>1374.0</td>\n",
              "      <td>1</td>\n",
              "      <td>PC쇼핑몰</td>\n",
              "      <td>20181231</td>\n",
              "    </tr>\n",
              "    <tr>\n",
              "      <th>15</th>\n",
              "      <td>무통장입금</td>\n",
              "      <td>D-20181231-0000205-05</td>\n",
              "      <td>2019-01-03 오전 9:30</td>\n",
              "      <td>2019-01-07 오전 5:32</td>\n",
              "      <td>121110</td>\n",
              "      <td>1037.0</td>\n",
              "      <td>1</td>\n",
              "      <td>PC쇼핑몰</td>\n",
              "      <td>20181231</td>\n",
              "    </tr>\n",
              "    <tr>\n",
              "      <th>16</th>\n",
              "      <td>무통장입금</td>\n",
              "      <td>D-20181231-0000211-00</td>\n",
              "      <td>2019-01-03 오전 9:30</td>\n",
              "      <td>2019-01-07 오전 5:32</td>\n",
              "      <td>126940</td>\n",
              "      <td>1373.0</td>\n",
              "      <td>2</td>\n",
              "      <td>PC쇼핑몰</td>\n",
              "      <td>20181231</td>\n",
              "    </tr>\n",
              "    <tr>\n",
              "      <th>17</th>\n",
              "      <td>무통장입금</td>\n",
              "      <td>D-20181231-0000211-01</td>\n",
              "      <td>2019-01-03 오전 9:30</td>\n",
              "      <td>2019-01-07 오전 5:32</td>\n",
              "      <td>75240</td>\n",
              "      <td>1374.0</td>\n",
              "      <td>1</td>\n",
              "      <td>PC쇼핑몰</td>\n",
              "      <td>20181231</td>\n",
              "    </tr>\n",
              "    <tr>\n",
              "      <th>18</th>\n",
              "      <td>무통장입금</td>\n",
              "      <td>D-20181231-0000211-02</td>\n",
              "      <td>2019-01-03 오전 9:30</td>\n",
              "      <td>2019-01-07 오전 5:32</td>\n",
              "      <td>121110</td>\n",
              "      <td>1037.0</td>\n",
              "      <td>1</td>\n",
              "      <td>PC쇼핑몰</td>\n",
              "      <td>20181231</td>\n",
              "    </tr>\n",
              "    <tr>\n",
              "      <th>19</th>\n",
              "      <td>무통장입금</td>\n",
              "      <td>D-20181231-0000211-03</td>\n",
              "      <td>2019-01-03 오전 9:30</td>\n",
              "      <td>2019-01-07 오전 5:32</td>\n",
              "      <td>75240</td>\n",
              "      <td>1374.0</td>\n",
              "      <td>1</td>\n",
              "      <td>PC쇼핑몰</td>\n",
              "      <td>20181231</td>\n",
              "    </tr>\n",
              "  </tbody>\n",
              "</table>\n",
              "</div>\n",
              "    <div class=\"colab-df-buttons\">\n",
              "\n",
              "  <div class=\"colab-df-container\">\n",
              "    <button class=\"colab-df-convert\" onclick=\"convertToInteractive('df-09d4a9c6-8723-4a87-bf65-23c956fc9051')\"\n",
              "            title=\"Convert this dataframe to an interactive table.\"\n",
              "            style=\"display:none;\">\n",
              "\n",
              "  <svg xmlns=\"http://www.w3.org/2000/svg\" height=\"24px\" viewBox=\"0 -960 960 960\">\n",
              "    <path d=\"M120-120v-720h720v720H120Zm60-500h600v-160H180v160Zm220 220h160v-160H400v160Zm0 220h160v-160H400v160ZM180-400h160v-160H180v160Zm440 0h160v-160H620v160ZM180-180h160v-160H180v160Zm440 0h160v-160H620v160Z\"/>\n",
              "  </svg>\n",
              "    </button>\n",
              "\n",
              "  <style>\n",
              "    .colab-df-container {\n",
              "      display:flex;\n",
              "      gap: 12px;\n",
              "    }\n",
              "\n",
              "    .colab-df-convert {\n",
              "      background-color: #E8F0FE;\n",
              "      border: none;\n",
              "      border-radius: 50%;\n",
              "      cursor: pointer;\n",
              "      display: none;\n",
              "      fill: #1967D2;\n",
              "      height: 32px;\n",
              "      padding: 0 0 0 0;\n",
              "      width: 32px;\n",
              "    }\n",
              "\n",
              "    .colab-df-convert:hover {\n",
              "      background-color: #E2EBFA;\n",
              "      box-shadow: 0px 1px 2px rgba(60, 64, 67, 0.3), 0px 1px 3px 1px rgba(60, 64, 67, 0.15);\n",
              "      fill: #174EA6;\n",
              "    }\n",
              "\n",
              "    .colab-df-buttons div {\n",
              "      margin-bottom: 4px;\n",
              "    }\n",
              "\n",
              "    [theme=dark] .colab-df-convert {\n",
              "      background-color: #3B4455;\n",
              "      fill: #D2E3FC;\n",
              "    }\n",
              "\n",
              "    [theme=dark] .colab-df-convert:hover {\n",
              "      background-color: #434B5C;\n",
              "      box-shadow: 0px 1px 3px 1px rgba(0, 0, 0, 0.15);\n",
              "      filter: drop-shadow(0px 1px 2px rgba(0, 0, 0, 0.3));\n",
              "      fill: #FFFFFF;\n",
              "    }\n",
              "  </style>\n",
              "\n",
              "    <script>\n",
              "      const buttonEl =\n",
              "        document.querySelector('#df-09d4a9c6-8723-4a87-bf65-23c956fc9051 button.colab-df-convert');\n",
              "      buttonEl.style.display =\n",
              "        google.colab.kernel.accessAllowed ? 'block' : 'none';\n",
              "\n",
              "      async function convertToInteractive(key) {\n",
              "        const element = document.querySelector('#df-09d4a9c6-8723-4a87-bf65-23c956fc9051');\n",
              "        const dataTable =\n",
              "          await google.colab.kernel.invokeFunction('convertToInteractive',\n",
              "                                                    [key], {});\n",
              "        if (!dataTable) return;\n",
              "\n",
              "        const docLinkHtml = 'Like what you see? Visit the ' +\n",
              "          '<a target=\"_blank\" href=https://colab.research.google.com/notebooks/data_table.ipynb>data table notebook</a>'\n",
              "          + ' to learn more about interactive tables.';\n",
              "        element.innerHTML = '';\n",
              "        dataTable['output_type'] = 'display_data';\n",
              "        await google.colab.output.renderOutput(dataTable, element);\n",
              "        const docLink = document.createElement('div');\n",
              "        docLink.innerHTML = docLinkHtml;\n",
              "        element.appendChild(docLink);\n",
              "      }\n",
              "    </script>\n",
              "  </div>\n",
              "\n",
              "\n",
              "<div id=\"df-761c74f1-7e7b-43ca-b6fd-cf152f21913b\">\n",
              "  <button class=\"colab-df-quickchart\" onclick=\"quickchart('df-761c74f1-7e7b-43ca-b6fd-cf152f21913b')\"\n",
              "            title=\"Suggest charts\"\n",
              "            style=\"display:none;\">\n",
              "\n",
              "<svg xmlns=\"http://www.w3.org/2000/svg\" height=\"24px\"viewBox=\"0 0 24 24\"\n",
              "     width=\"24px\">\n",
              "    <g>\n",
              "        <path d=\"M19 3H5c-1.1 0-2 .9-2 2v14c0 1.1.9 2 2 2h14c1.1 0 2-.9 2-2V5c0-1.1-.9-2-2-2zM9 17H7v-7h2v7zm4 0h-2V7h2v10zm4 0h-2v-4h2v4z\"/>\n",
              "    </g>\n",
              "</svg>\n",
              "  </button>\n",
              "\n",
              "<style>\n",
              "  .colab-df-quickchart {\n",
              "      --bg-color: #E8F0FE;\n",
              "      --fill-color: #1967D2;\n",
              "      --hover-bg-color: #E2EBFA;\n",
              "      --hover-fill-color: #174EA6;\n",
              "      --disabled-fill-color: #AAA;\n",
              "      --disabled-bg-color: #DDD;\n",
              "  }\n",
              "\n",
              "  [theme=dark] .colab-df-quickchart {\n",
              "      --bg-color: #3B4455;\n",
              "      --fill-color: #D2E3FC;\n",
              "      --hover-bg-color: #434B5C;\n",
              "      --hover-fill-color: #FFFFFF;\n",
              "      --disabled-bg-color: #3B4455;\n",
              "      --disabled-fill-color: #666;\n",
              "  }\n",
              "\n",
              "  .colab-df-quickchart {\n",
              "    background-color: var(--bg-color);\n",
              "    border: none;\n",
              "    border-radius: 50%;\n",
              "    cursor: pointer;\n",
              "    display: none;\n",
              "    fill: var(--fill-color);\n",
              "    height: 32px;\n",
              "    padding: 0;\n",
              "    width: 32px;\n",
              "  }\n",
              "\n",
              "  .colab-df-quickchart:hover {\n",
              "    background-color: var(--hover-bg-color);\n",
              "    box-shadow: 0 1px 2px rgba(60, 64, 67, 0.3), 0 1px 3px 1px rgba(60, 64, 67, 0.15);\n",
              "    fill: var(--button-hover-fill-color);\n",
              "  }\n",
              "\n",
              "  .colab-df-quickchart-complete:disabled,\n",
              "  .colab-df-quickchart-complete:disabled:hover {\n",
              "    background-color: var(--disabled-bg-color);\n",
              "    fill: var(--disabled-fill-color);\n",
              "    box-shadow: none;\n",
              "  }\n",
              "\n",
              "  .colab-df-spinner {\n",
              "    border: 2px solid var(--fill-color);\n",
              "    border-color: transparent;\n",
              "    border-bottom-color: var(--fill-color);\n",
              "    animation:\n",
              "      spin 1s steps(1) infinite;\n",
              "  }\n",
              "\n",
              "  @keyframes spin {\n",
              "    0% {\n",
              "      border-color: transparent;\n",
              "      border-bottom-color: var(--fill-color);\n",
              "      border-left-color: var(--fill-color);\n",
              "    }\n",
              "    20% {\n",
              "      border-color: transparent;\n",
              "      border-left-color: var(--fill-color);\n",
              "      border-top-color: var(--fill-color);\n",
              "    }\n",
              "    30% {\n",
              "      border-color: transparent;\n",
              "      border-left-color: var(--fill-color);\n",
              "      border-top-color: var(--fill-color);\n",
              "      border-right-color: var(--fill-color);\n",
              "    }\n",
              "    40% {\n",
              "      border-color: transparent;\n",
              "      border-right-color: var(--fill-color);\n",
              "      border-top-color: var(--fill-color);\n",
              "    }\n",
              "    60% {\n",
              "      border-color: transparent;\n",
              "      border-right-color: var(--fill-color);\n",
              "    }\n",
              "    80% {\n",
              "      border-color: transparent;\n",
              "      border-right-color: var(--fill-color);\n",
              "      border-bottom-color: var(--fill-color);\n",
              "    }\n",
              "    90% {\n",
              "      border-color: transparent;\n",
              "      border-bottom-color: var(--fill-color);\n",
              "    }\n",
              "  }\n",
              "</style>\n",
              "\n",
              "  <script>\n",
              "    async function quickchart(key) {\n",
              "      const quickchartButtonEl =\n",
              "        document.querySelector('#' + key + ' button');\n",
              "      quickchartButtonEl.disabled = true;  // To prevent multiple clicks.\n",
              "      quickchartButtonEl.classList.add('colab-df-spinner');\n",
              "      try {\n",
              "        const charts = await google.colab.kernel.invokeFunction(\n",
              "            'suggestCharts', [key], {});\n",
              "      } catch (error) {\n",
              "        console.error('Error during call to suggestCharts:', error);\n",
              "      }\n",
              "      quickchartButtonEl.classList.remove('colab-df-spinner');\n",
              "      quickchartButtonEl.classList.add('colab-df-quickchart-complete');\n",
              "    }\n",
              "    (() => {\n",
              "      let quickchartButtonEl =\n",
              "        document.querySelector('#df-761c74f1-7e7b-43ca-b6fd-cf152f21913b button');\n",
              "      quickchartButtonEl.style.display =\n",
              "        google.colab.kernel.accessAllowed ? 'block' : 'none';\n",
              "    })();\n",
              "  </script>\n",
              "</div>\n",
              "\n",
              "    </div>\n",
              "  </div>\n"
            ]
          },
          "metadata": {},
          "execution_count": 9
        }
      ]
    },
    {
      "cell_type": "code",
      "source": [
        "df_SMDWD.info()"
      ],
      "metadata": {
        "colab": {
          "base_uri": "https://localhost:8080/"
        },
        "id": "9WTjCLCeAHRg",
        "outputId": "00f63504-1c73-45a9-c400-4f0b543b1eb7"
      },
      "execution_count": 52,
      "outputs": [
        {
          "output_type": "stream",
          "name": "stdout",
          "text": [
            "<class 'pandas.core.frame.DataFrame'>\n",
            "RangeIndex: 46749 entries, 0 to 46748\n",
            "Data columns (total 9 columns):\n",
            " #   Column  Non-Null Count  Dtype  \n",
            "---  ------  --------------  -----  \n",
            " 0   결제수단    46749 non-null  object \n",
            " 1   배송번호    46749 non-null  object \n",
            " 2   배송시작일   46749 non-null  object \n",
            " 3   배송완료일   46749 non-null  object \n",
            " 4   상품구매금액  46749 non-null  int64  \n",
            " 5   상품번호    46661 non-null  float64\n",
            " 6   수량      46749 non-null  int64  \n",
            " 7   주문경로    46749 non-null  object \n",
            " 8   주문일     46749 non-null  int64  \n",
            "dtypes: float64(1), int64(3), object(5)\n",
            "memory usage: 3.2+ MB\n"
          ]
        }
      ]
    },
    {
      "cell_type": "code",
      "source": [
        "df_SMDWD.describe()   # 수치형 파악"
      ],
      "metadata": {
        "colab": {
          "base_uri": "https://localhost:8080/",
          "height": 300
        },
        "id": "JvfDOQra_ulQ",
        "outputId": "273202a7-fab9-404c-9fdf-46520ded7097"
      },
      "execution_count": 7,
      "outputs": [
        {
          "output_type": "execute_result",
          "data": {
            "text/plain": [
              "             상품구매금액          상품번호            수량           주문일\n",
              "count  4.674900e+04  46661.000000  46749.000000  4.674900e+04\n",
              "mean   6.936814e+04    763.193073      1.177822  2.018404e+07\n",
              "std    6.611247e+04    456.323734      0.683334  5.192403e+03\n",
              "min    0.000000e+00     38.000000      1.000000  2.017010e+07\n",
              "25%    3.288000e+04    378.000000      1.000000  2.018073e+07\n",
              "50%    6.778000e+04    928.000000      1.000000  2.018112e+07\n",
              "75%    9.213000e+04   1209.000000      1.000000  2.019022e+07\n",
              "max    4.963400e+06   1681.000000     50.000000  2.019062e+07"
            ],
            "text/html": [
              "\n",
              "  <div id=\"df-1f90691b-33a0-450d-b7cb-f22384af0a96\" class=\"colab-df-container\">\n",
              "    <div>\n",
              "<style scoped>\n",
              "    .dataframe tbody tr th:only-of-type {\n",
              "        vertical-align: middle;\n",
              "    }\n",
              "\n",
              "    .dataframe tbody tr th {\n",
              "        vertical-align: top;\n",
              "    }\n",
              "\n",
              "    .dataframe thead th {\n",
              "        text-align: right;\n",
              "    }\n",
              "</style>\n",
              "<table border=\"1\" class=\"dataframe\">\n",
              "  <thead>\n",
              "    <tr style=\"text-align: right;\">\n",
              "      <th></th>\n",
              "      <th>상품구매금액</th>\n",
              "      <th>상품번호</th>\n",
              "      <th>수량</th>\n",
              "      <th>주문일</th>\n",
              "    </tr>\n",
              "  </thead>\n",
              "  <tbody>\n",
              "    <tr>\n",
              "      <th>count</th>\n",
              "      <td>4.674900e+04</td>\n",
              "      <td>46661.000000</td>\n",
              "      <td>46749.000000</td>\n",
              "      <td>4.674900e+04</td>\n",
              "    </tr>\n",
              "    <tr>\n",
              "      <th>mean</th>\n",
              "      <td>6.936814e+04</td>\n",
              "      <td>763.193073</td>\n",
              "      <td>1.177822</td>\n",
              "      <td>2.018404e+07</td>\n",
              "    </tr>\n",
              "    <tr>\n",
              "      <th>std</th>\n",
              "      <td>6.611247e+04</td>\n",
              "      <td>456.323734</td>\n",
              "      <td>0.683334</td>\n",
              "      <td>5.192403e+03</td>\n",
              "    </tr>\n",
              "    <tr>\n",
              "      <th>min</th>\n",
              "      <td>0.000000e+00</td>\n",
              "      <td>38.000000</td>\n",
              "      <td>1.000000</td>\n",
              "      <td>2.017010e+07</td>\n",
              "    </tr>\n",
              "    <tr>\n",
              "      <th>25%</th>\n",
              "      <td>3.288000e+04</td>\n",
              "      <td>378.000000</td>\n",
              "      <td>1.000000</td>\n",
              "      <td>2.018073e+07</td>\n",
              "    </tr>\n",
              "    <tr>\n",
              "      <th>50%</th>\n",
              "      <td>6.778000e+04</td>\n",
              "      <td>928.000000</td>\n",
              "      <td>1.000000</td>\n",
              "      <td>2.018112e+07</td>\n",
              "    </tr>\n",
              "    <tr>\n",
              "      <th>75%</th>\n",
              "      <td>9.213000e+04</td>\n",
              "      <td>1209.000000</td>\n",
              "      <td>1.000000</td>\n",
              "      <td>2.019022e+07</td>\n",
              "    </tr>\n",
              "    <tr>\n",
              "      <th>max</th>\n",
              "      <td>4.963400e+06</td>\n",
              "      <td>1681.000000</td>\n",
              "      <td>50.000000</td>\n",
              "      <td>2.019062e+07</td>\n",
              "    </tr>\n",
              "  </tbody>\n",
              "</table>\n",
              "</div>\n",
              "    <div class=\"colab-df-buttons\">\n",
              "\n",
              "  <div class=\"colab-df-container\">\n",
              "    <button class=\"colab-df-convert\" onclick=\"convertToInteractive('df-1f90691b-33a0-450d-b7cb-f22384af0a96')\"\n",
              "            title=\"Convert this dataframe to an interactive table.\"\n",
              "            style=\"display:none;\">\n",
              "\n",
              "  <svg xmlns=\"http://www.w3.org/2000/svg\" height=\"24px\" viewBox=\"0 -960 960 960\">\n",
              "    <path d=\"M120-120v-720h720v720H120Zm60-500h600v-160H180v160Zm220 220h160v-160H400v160Zm0 220h160v-160H400v160ZM180-400h160v-160H180v160Zm440 0h160v-160H620v160ZM180-180h160v-160H180v160Zm440 0h160v-160H620v160Z\"/>\n",
              "  </svg>\n",
              "    </button>\n",
              "\n",
              "  <style>\n",
              "    .colab-df-container {\n",
              "      display:flex;\n",
              "      gap: 12px;\n",
              "    }\n",
              "\n",
              "    .colab-df-convert {\n",
              "      background-color: #E8F0FE;\n",
              "      border: none;\n",
              "      border-radius: 50%;\n",
              "      cursor: pointer;\n",
              "      display: none;\n",
              "      fill: #1967D2;\n",
              "      height: 32px;\n",
              "      padding: 0 0 0 0;\n",
              "      width: 32px;\n",
              "    }\n",
              "\n",
              "    .colab-df-convert:hover {\n",
              "      background-color: #E2EBFA;\n",
              "      box-shadow: 0px 1px 2px rgba(60, 64, 67, 0.3), 0px 1px 3px 1px rgba(60, 64, 67, 0.15);\n",
              "      fill: #174EA6;\n",
              "    }\n",
              "\n",
              "    .colab-df-buttons div {\n",
              "      margin-bottom: 4px;\n",
              "    }\n",
              "\n",
              "    [theme=dark] .colab-df-convert {\n",
              "      background-color: #3B4455;\n",
              "      fill: #D2E3FC;\n",
              "    }\n",
              "\n",
              "    [theme=dark] .colab-df-convert:hover {\n",
              "      background-color: #434B5C;\n",
              "      box-shadow: 0px 1px 3px 1px rgba(0, 0, 0, 0.15);\n",
              "      filter: drop-shadow(0px 1px 2px rgba(0, 0, 0, 0.3));\n",
              "      fill: #FFFFFF;\n",
              "    }\n",
              "  </style>\n",
              "\n",
              "    <script>\n",
              "      const buttonEl =\n",
              "        document.querySelector('#df-1f90691b-33a0-450d-b7cb-f22384af0a96 button.colab-df-convert');\n",
              "      buttonEl.style.display =\n",
              "        google.colab.kernel.accessAllowed ? 'block' : 'none';\n",
              "\n",
              "      async function convertToInteractive(key) {\n",
              "        const element = document.querySelector('#df-1f90691b-33a0-450d-b7cb-f22384af0a96');\n",
              "        const dataTable =\n",
              "          await google.colab.kernel.invokeFunction('convertToInteractive',\n",
              "                                                    [key], {});\n",
              "        if (!dataTable) return;\n",
              "\n",
              "        const docLinkHtml = 'Like what you see? Visit the ' +\n",
              "          '<a target=\"_blank\" href=https://colab.research.google.com/notebooks/data_table.ipynb>data table notebook</a>'\n",
              "          + ' to learn more about interactive tables.';\n",
              "        element.innerHTML = '';\n",
              "        dataTable['output_type'] = 'display_data';\n",
              "        await google.colab.output.renderOutput(dataTable, element);\n",
              "        const docLink = document.createElement('div');\n",
              "        docLink.innerHTML = docLinkHtml;\n",
              "        element.appendChild(docLink);\n",
              "      }\n",
              "    </script>\n",
              "  </div>\n",
              "\n",
              "\n",
              "<div id=\"df-d71a56fd-8029-4a05-947c-4aad23161ac8\">\n",
              "  <button class=\"colab-df-quickchart\" onclick=\"quickchart('df-d71a56fd-8029-4a05-947c-4aad23161ac8')\"\n",
              "            title=\"Suggest charts\"\n",
              "            style=\"display:none;\">\n",
              "\n",
              "<svg xmlns=\"http://www.w3.org/2000/svg\" height=\"24px\"viewBox=\"0 0 24 24\"\n",
              "     width=\"24px\">\n",
              "    <g>\n",
              "        <path d=\"M19 3H5c-1.1 0-2 .9-2 2v14c0 1.1.9 2 2 2h14c1.1 0 2-.9 2-2V5c0-1.1-.9-2-2-2zM9 17H7v-7h2v7zm4 0h-2V7h2v10zm4 0h-2v-4h2v4z\"/>\n",
              "    </g>\n",
              "</svg>\n",
              "  </button>\n",
              "\n",
              "<style>\n",
              "  .colab-df-quickchart {\n",
              "      --bg-color: #E8F0FE;\n",
              "      --fill-color: #1967D2;\n",
              "      --hover-bg-color: #E2EBFA;\n",
              "      --hover-fill-color: #174EA6;\n",
              "      --disabled-fill-color: #AAA;\n",
              "      --disabled-bg-color: #DDD;\n",
              "  }\n",
              "\n",
              "  [theme=dark] .colab-df-quickchart {\n",
              "      --bg-color: #3B4455;\n",
              "      --fill-color: #D2E3FC;\n",
              "      --hover-bg-color: #434B5C;\n",
              "      --hover-fill-color: #FFFFFF;\n",
              "      --disabled-bg-color: #3B4455;\n",
              "      --disabled-fill-color: #666;\n",
              "  }\n",
              "\n",
              "  .colab-df-quickchart {\n",
              "    background-color: var(--bg-color);\n",
              "    border: none;\n",
              "    border-radius: 50%;\n",
              "    cursor: pointer;\n",
              "    display: none;\n",
              "    fill: var(--fill-color);\n",
              "    height: 32px;\n",
              "    padding: 0;\n",
              "    width: 32px;\n",
              "  }\n",
              "\n",
              "  .colab-df-quickchart:hover {\n",
              "    background-color: var(--hover-bg-color);\n",
              "    box-shadow: 0 1px 2px rgba(60, 64, 67, 0.3), 0 1px 3px 1px rgba(60, 64, 67, 0.15);\n",
              "    fill: var(--button-hover-fill-color);\n",
              "  }\n",
              "\n",
              "  .colab-df-quickchart-complete:disabled,\n",
              "  .colab-df-quickchart-complete:disabled:hover {\n",
              "    background-color: var(--disabled-bg-color);\n",
              "    fill: var(--disabled-fill-color);\n",
              "    box-shadow: none;\n",
              "  }\n",
              "\n",
              "  .colab-df-spinner {\n",
              "    border: 2px solid var(--fill-color);\n",
              "    border-color: transparent;\n",
              "    border-bottom-color: var(--fill-color);\n",
              "    animation:\n",
              "      spin 1s steps(1) infinite;\n",
              "  }\n",
              "\n",
              "  @keyframes spin {\n",
              "    0% {\n",
              "      border-color: transparent;\n",
              "      border-bottom-color: var(--fill-color);\n",
              "      border-left-color: var(--fill-color);\n",
              "    }\n",
              "    20% {\n",
              "      border-color: transparent;\n",
              "      border-left-color: var(--fill-color);\n",
              "      border-top-color: var(--fill-color);\n",
              "    }\n",
              "    30% {\n",
              "      border-color: transparent;\n",
              "      border-left-color: var(--fill-color);\n",
              "      border-top-color: var(--fill-color);\n",
              "      border-right-color: var(--fill-color);\n",
              "    }\n",
              "    40% {\n",
              "      border-color: transparent;\n",
              "      border-right-color: var(--fill-color);\n",
              "      border-top-color: var(--fill-color);\n",
              "    }\n",
              "    60% {\n",
              "      border-color: transparent;\n",
              "      border-right-color: var(--fill-color);\n",
              "    }\n",
              "    80% {\n",
              "      border-color: transparent;\n",
              "      border-right-color: var(--fill-color);\n",
              "      border-bottom-color: var(--fill-color);\n",
              "    }\n",
              "    90% {\n",
              "      border-color: transparent;\n",
              "      border-bottom-color: var(--fill-color);\n",
              "    }\n",
              "  }\n",
              "</style>\n",
              "\n",
              "  <script>\n",
              "    async function quickchart(key) {\n",
              "      const quickchartButtonEl =\n",
              "        document.querySelector('#' + key + ' button');\n",
              "      quickchartButtonEl.disabled = true;  // To prevent multiple clicks.\n",
              "      quickchartButtonEl.classList.add('colab-df-spinner');\n",
              "      try {\n",
              "        const charts = await google.colab.kernel.invokeFunction(\n",
              "            'suggestCharts', [key], {});\n",
              "      } catch (error) {\n",
              "        console.error('Error during call to suggestCharts:', error);\n",
              "      }\n",
              "      quickchartButtonEl.classList.remove('colab-df-spinner');\n",
              "      quickchartButtonEl.classList.add('colab-df-quickchart-complete');\n",
              "    }\n",
              "    (() => {\n",
              "      let quickchartButtonEl =\n",
              "        document.querySelector('#df-d71a56fd-8029-4a05-947c-4aad23161ac8 button');\n",
              "      quickchartButtonEl.style.display =\n",
              "        google.colab.kernel.accessAllowed ? 'block' : 'none';\n",
              "    })();\n",
              "  </script>\n",
              "</div>\n",
              "\n",
              "    </div>\n",
              "  </div>\n"
            ]
          },
          "metadata": {},
          "execution_count": 7
        }
      ]
    },
    {
      "cell_type": "code",
      "source": [
        "df_SMDWD.describe(include = object)   # 범주형 파악"
      ],
      "metadata": {
        "colab": {
          "base_uri": "https://localhost:8080/",
          "height": 175
        },
        "id": "PHWqqrttASTQ",
        "outputId": "7f5ec0c4-ade1-4a4d-fb27-19ecb5d34105"
      },
      "execution_count": 11,
      "outputs": [
        {
          "output_type": "execute_result",
          "data": {
            "text/plain": [
              "         결제수단                   배송번호               배송시작일               배송완료일  \\\n",
              "count   46749                  46749               46749               46749   \n",
              "unique     44                  37691                1548                2559   \n",
              "top     무통장입금  D-20180316-0000178-00  2018-12-19 오후 5:36  2019-02-02 오전 5:32   \n",
              "freq    24171                      7                 388                 547   \n",
              "\n",
              "         주문경로  \n",
              "count   46749  \n",
              "unique      3  \n",
              "top     PC쇼핑몰  \n",
              "freq    25695  "
            ],
            "text/html": [
              "\n",
              "  <div id=\"df-92b1d463-8b63-4fc2-abfd-628573630ace\" class=\"colab-df-container\">\n",
              "    <div>\n",
              "<style scoped>\n",
              "    .dataframe tbody tr th:only-of-type {\n",
              "        vertical-align: middle;\n",
              "    }\n",
              "\n",
              "    .dataframe tbody tr th {\n",
              "        vertical-align: top;\n",
              "    }\n",
              "\n",
              "    .dataframe thead th {\n",
              "        text-align: right;\n",
              "    }\n",
              "</style>\n",
              "<table border=\"1\" class=\"dataframe\">\n",
              "  <thead>\n",
              "    <tr style=\"text-align: right;\">\n",
              "      <th></th>\n",
              "      <th>결제수단</th>\n",
              "      <th>배송번호</th>\n",
              "      <th>배송시작일</th>\n",
              "      <th>배송완료일</th>\n",
              "      <th>주문경로</th>\n",
              "    </tr>\n",
              "  </thead>\n",
              "  <tbody>\n",
              "    <tr>\n",
              "      <th>count</th>\n",
              "      <td>46749</td>\n",
              "      <td>46749</td>\n",
              "      <td>46749</td>\n",
              "      <td>46749</td>\n",
              "      <td>46749</td>\n",
              "    </tr>\n",
              "    <tr>\n",
              "      <th>unique</th>\n",
              "      <td>44</td>\n",
              "      <td>37691</td>\n",
              "      <td>1548</td>\n",
              "      <td>2559</td>\n",
              "      <td>3</td>\n",
              "    </tr>\n",
              "    <tr>\n",
              "      <th>top</th>\n",
              "      <td>무통장입금</td>\n",
              "      <td>D-20180316-0000178-00</td>\n",
              "      <td>2018-12-19 오후 5:36</td>\n",
              "      <td>2019-02-02 오전 5:32</td>\n",
              "      <td>PC쇼핑몰</td>\n",
              "    </tr>\n",
              "    <tr>\n",
              "      <th>freq</th>\n",
              "      <td>24171</td>\n",
              "      <td>7</td>\n",
              "      <td>388</td>\n",
              "      <td>547</td>\n",
              "      <td>25695</td>\n",
              "    </tr>\n",
              "  </tbody>\n",
              "</table>\n",
              "</div>\n",
              "    <div class=\"colab-df-buttons\">\n",
              "\n",
              "  <div class=\"colab-df-container\">\n",
              "    <button class=\"colab-df-convert\" onclick=\"convertToInteractive('df-92b1d463-8b63-4fc2-abfd-628573630ace')\"\n",
              "            title=\"Convert this dataframe to an interactive table.\"\n",
              "            style=\"display:none;\">\n",
              "\n",
              "  <svg xmlns=\"http://www.w3.org/2000/svg\" height=\"24px\" viewBox=\"0 -960 960 960\">\n",
              "    <path d=\"M120-120v-720h720v720H120Zm60-500h600v-160H180v160Zm220 220h160v-160H400v160Zm0 220h160v-160H400v160ZM180-400h160v-160H180v160Zm440 0h160v-160H620v160ZM180-180h160v-160H180v160Zm440 0h160v-160H620v160Z\"/>\n",
              "  </svg>\n",
              "    </button>\n",
              "\n",
              "  <style>\n",
              "    .colab-df-container {\n",
              "      display:flex;\n",
              "      gap: 12px;\n",
              "    }\n",
              "\n",
              "    .colab-df-convert {\n",
              "      background-color: #E8F0FE;\n",
              "      border: none;\n",
              "      border-radius: 50%;\n",
              "      cursor: pointer;\n",
              "      display: none;\n",
              "      fill: #1967D2;\n",
              "      height: 32px;\n",
              "      padding: 0 0 0 0;\n",
              "      width: 32px;\n",
              "    }\n",
              "\n",
              "    .colab-df-convert:hover {\n",
              "      background-color: #E2EBFA;\n",
              "      box-shadow: 0px 1px 2px rgba(60, 64, 67, 0.3), 0px 1px 3px 1px rgba(60, 64, 67, 0.15);\n",
              "      fill: #174EA6;\n",
              "    }\n",
              "\n",
              "    .colab-df-buttons div {\n",
              "      margin-bottom: 4px;\n",
              "    }\n",
              "\n",
              "    [theme=dark] .colab-df-convert {\n",
              "      background-color: #3B4455;\n",
              "      fill: #D2E3FC;\n",
              "    }\n",
              "\n",
              "    [theme=dark] .colab-df-convert:hover {\n",
              "      background-color: #434B5C;\n",
              "      box-shadow: 0px 1px 3px 1px rgba(0, 0, 0, 0.15);\n",
              "      filter: drop-shadow(0px 1px 2px rgba(0, 0, 0, 0.3));\n",
              "      fill: #FFFFFF;\n",
              "    }\n",
              "  </style>\n",
              "\n",
              "    <script>\n",
              "      const buttonEl =\n",
              "        document.querySelector('#df-92b1d463-8b63-4fc2-abfd-628573630ace button.colab-df-convert');\n",
              "      buttonEl.style.display =\n",
              "        google.colab.kernel.accessAllowed ? 'block' : 'none';\n",
              "\n",
              "      async function convertToInteractive(key) {\n",
              "        const element = document.querySelector('#df-92b1d463-8b63-4fc2-abfd-628573630ace');\n",
              "        const dataTable =\n",
              "          await google.colab.kernel.invokeFunction('convertToInteractive',\n",
              "                                                    [key], {});\n",
              "        if (!dataTable) return;\n",
              "\n",
              "        const docLinkHtml = 'Like what you see? Visit the ' +\n",
              "          '<a target=\"_blank\" href=https://colab.research.google.com/notebooks/data_table.ipynb>data table notebook</a>'\n",
              "          + ' to learn more about interactive tables.';\n",
              "        element.innerHTML = '';\n",
              "        dataTable['output_type'] = 'display_data';\n",
              "        await google.colab.output.renderOutput(dataTable, element);\n",
              "        const docLink = document.createElement('div');\n",
              "        docLink.innerHTML = docLinkHtml;\n",
              "        element.appendChild(docLink);\n",
              "      }\n",
              "    </script>\n",
              "  </div>\n",
              "\n",
              "\n",
              "<div id=\"df-8d169ef8-f898-4035-87cb-c1751e4fd082\">\n",
              "  <button class=\"colab-df-quickchart\" onclick=\"quickchart('df-8d169ef8-f898-4035-87cb-c1751e4fd082')\"\n",
              "            title=\"Suggest charts\"\n",
              "            style=\"display:none;\">\n",
              "\n",
              "<svg xmlns=\"http://www.w3.org/2000/svg\" height=\"24px\"viewBox=\"0 0 24 24\"\n",
              "     width=\"24px\">\n",
              "    <g>\n",
              "        <path d=\"M19 3H5c-1.1 0-2 .9-2 2v14c0 1.1.9 2 2 2h14c1.1 0 2-.9 2-2V5c0-1.1-.9-2-2-2zM9 17H7v-7h2v7zm4 0h-2V7h2v10zm4 0h-2v-4h2v4z\"/>\n",
              "    </g>\n",
              "</svg>\n",
              "  </button>\n",
              "\n",
              "<style>\n",
              "  .colab-df-quickchart {\n",
              "      --bg-color: #E8F0FE;\n",
              "      --fill-color: #1967D2;\n",
              "      --hover-bg-color: #E2EBFA;\n",
              "      --hover-fill-color: #174EA6;\n",
              "      --disabled-fill-color: #AAA;\n",
              "      --disabled-bg-color: #DDD;\n",
              "  }\n",
              "\n",
              "  [theme=dark] .colab-df-quickchart {\n",
              "      --bg-color: #3B4455;\n",
              "      --fill-color: #D2E3FC;\n",
              "      --hover-bg-color: #434B5C;\n",
              "      --hover-fill-color: #FFFFFF;\n",
              "      --disabled-bg-color: #3B4455;\n",
              "      --disabled-fill-color: #666;\n",
              "  }\n",
              "\n",
              "  .colab-df-quickchart {\n",
              "    background-color: var(--bg-color);\n",
              "    border: none;\n",
              "    border-radius: 50%;\n",
              "    cursor: pointer;\n",
              "    display: none;\n",
              "    fill: var(--fill-color);\n",
              "    height: 32px;\n",
              "    padding: 0;\n",
              "    width: 32px;\n",
              "  }\n",
              "\n",
              "  .colab-df-quickchart:hover {\n",
              "    background-color: var(--hover-bg-color);\n",
              "    box-shadow: 0 1px 2px rgba(60, 64, 67, 0.3), 0 1px 3px 1px rgba(60, 64, 67, 0.15);\n",
              "    fill: var(--button-hover-fill-color);\n",
              "  }\n",
              "\n",
              "  .colab-df-quickchart-complete:disabled,\n",
              "  .colab-df-quickchart-complete:disabled:hover {\n",
              "    background-color: var(--disabled-bg-color);\n",
              "    fill: var(--disabled-fill-color);\n",
              "    box-shadow: none;\n",
              "  }\n",
              "\n",
              "  .colab-df-spinner {\n",
              "    border: 2px solid var(--fill-color);\n",
              "    border-color: transparent;\n",
              "    border-bottom-color: var(--fill-color);\n",
              "    animation:\n",
              "      spin 1s steps(1) infinite;\n",
              "  }\n",
              "\n",
              "  @keyframes spin {\n",
              "    0% {\n",
              "      border-color: transparent;\n",
              "      border-bottom-color: var(--fill-color);\n",
              "      border-left-color: var(--fill-color);\n",
              "    }\n",
              "    20% {\n",
              "      border-color: transparent;\n",
              "      border-left-color: var(--fill-color);\n",
              "      border-top-color: var(--fill-color);\n",
              "    }\n",
              "    30% {\n",
              "      border-color: transparent;\n",
              "      border-left-color: var(--fill-color);\n",
              "      border-top-color: var(--fill-color);\n",
              "      border-right-color: var(--fill-color);\n",
              "    }\n",
              "    40% {\n",
              "      border-color: transparent;\n",
              "      border-right-color: var(--fill-color);\n",
              "      border-top-color: var(--fill-color);\n",
              "    }\n",
              "    60% {\n",
              "      border-color: transparent;\n",
              "      border-right-color: var(--fill-color);\n",
              "    }\n",
              "    80% {\n",
              "      border-color: transparent;\n",
              "      border-right-color: var(--fill-color);\n",
              "      border-bottom-color: var(--fill-color);\n",
              "    }\n",
              "    90% {\n",
              "      border-color: transparent;\n",
              "      border-bottom-color: var(--fill-color);\n",
              "    }\n",
              "  }\n",
              "</style>\n",
              "\n",
              "  <script>\n",
              "    async function quickchart(key) {\n",
              "      const quickchartButtonEl =\n",
              "        document.querySelector('#' + key + ' button');\n",
              "      quickchartButtonEl.disabled = true;  // To prevent multiple clicks.\n",
              "      quickchartButtonEl.classList.add('colab-df-spinner');\n",
              "      try {\n",
              "        const charts = await google.colab.kernel.invokeFunction(\n",
              "            'suggestCharts', [key], {});\n",
              "      } catch (error) {\n",
              "        console.error('Error during call to suggestCharts:', error);\n",
              "      }\n",
              "      quickchartButtonEl.classList.remove('colab-df-spinner');\n",
              "      quickchartButtonEl.classList.add('colab-df-quickchart-complete');\n",
              "    }\n",
              "    (() => {\n",
              "      let quickchartButtonEl =\n",
              "        document.querySelector('#df-8d169ef8-f898-4035-87cb-c1751e4fd082 button');\n",
              "      quickchartButtonEl.style.display =\n",
              "        google.colab.kernel.accessAllowed ? 'block' : 'none';\n",
              "    })();\n",
              "  </script>\n",
              "</div>\n",
              "\n",
              "    </div>\n",
              "  </div>\n"
            ]
          },
          "metadata": {},
          "execution_count": 11
        }
      ]
    },
    {
      "cell_type": "markdown",
      "source": [
        "### 시각화"
      ],
      "metadata": {
        "id": "eOpS4SX6HEwe"
      }
    },
    {
      "cell_type": "code",
      "source": [
        "import seaborn as sns"
      ],
      "metadata": {
        "id": "JJ2jdc8ppWc-"
      },
      "execution_count": 15,
      "outputs": []
    },
    {
      "cell_type": "markdown",
      "source": [
        "#### 결제수단"
      ],
      "metadata": {
        "id": "TQHqoaeBCTcn"
      }
    },
    {
      "cell_type": "code",
      "source": [
        "df_SMDWD['결제수단'].value_counts()"
      ],
      "metadata": {
        "colab": {
          "base_uri": "https://localhost:8080/"
        },
        "id": "IbrFMrb-HoOv",
        "outputId": "7d5c9b37-eace-4b6a-fec1-f255e9284359"
      },
      "execution_count": 53,
      "outputs": [
        {
          "output_type": "execute_result",
          "data": {
            "text/plain": [
              "무통장입금                 24171\n",
              "카드                    13703\n",
              "적립금,무통장입금              3374\n",
              "쿠폰,카드                  1306\n",
              "적립금,카드                 1276\n",
              "쿠폰,무통장입금               1204\n",
              "휴대폰                     430\n",
              "실시간계좌이체                 322\n",
              "예치금,무통장입금               175\n",
              "가상계좌                    130\n",
              "카드,무통장입금                100\n",
              "카카오페이(카드)                77\n",
              "쿠폰,휴대폰                   67\n",
              "페이나우(카드)                 50\n",
              "예치금,적립금,무통장입금            47\n",
              "적립금,휴대폰                  37\n",
              "적립금,가상계좌                 30\n",
              "예치금,카드                   28\n",
              "예치금                      25\n",
              "카카오페이(카카오머니)             22\n",
              "페이나우(실시간 계좌이체)           21\n",
              "에스크로(실시간계좌이체)            20\n",
              "적립금                      16\n",
              "쿠폰,카카오페이(카드)             16\n",
              "쿠폰,카드,무통장입금              13\n",
              "쿠폰,페이나우(카드)              11\n",
              "무통장입금,휴대폰                 9\n",
              "적립금,페이나우(카드)              9\n",
              "예치금,적립금,카드                8\n",
              "적립금,카카오페이(카드)             7\n",
              "쿠폰,에스크로(실시간계좌이체)          6\n",
              "적립금,실시간계좌이체               6\n",
              "예치금,쿠폰,무통장입금              6\n",
              "예치금,휴대폰                   5\n",
              "쿠폰,가상계좌                   4\n",
              "예치금,쿠폰,카드                 4\n",
              "적립금,카카오페이(카카오머니)          3\n",
              "적립금,페이나우(실시간 계좌이체)        3\n",
              "적립금,카드,무통장입금              2\n",
              "무통장입금,실시간계좌이체             2\n",
              "에스크로(가상계좌)                1\n",
              "쿠폰,예치금                    1\n",
              "페이나우(카드),무통장입금            1\n",
              "예치금,실시간계좌이체               1\n",
              "Name: 결제수단, dtype: int64"
            ]
          },
          "metadata": {},
          "execution_count": 53
        }
      ]
    },
    {
      "cell_type": "code",
      "source": [
        "series_SMDWD = df_SMDWD['결제수단'].value_counts()\n",
        "payment_list_top = series_SMDWD.iloc[:3].index.to_list()\n",
        "payment_list_bottom = series_SMDWD.iloc[-3:].index.to_list()"
      ],
      "metadata": {
        "id": "1LNnEJLsBuIw"
      },
      "execution_count": 35,
      "outputs": []
    },
    {
      "cell_type": "code",
      "source": [
        "sns.countplot(data=df_SMDWD, y='결제수단', order=payment_list_top)"
      ],
      "metadata": {
        "colab": {
          "base_uri": "https://localhost:8080/",
          "height": 467
        },
        "id": "tlBng8X0Bd8R",
        "outputId": "45c43dd4-d2d4-4b80-8fb0-5922b6af5272"
      },
      "execution_count": 25,
      "outputs": [
        {
          "output_type": "execute_result",
          "data": {
            "text/plain": [
              "<Axes: xlabel='count', ylabel='결제수단'>"
            ]
          },
          "metadata": {},
          "execution_count": 25
        },
        {
          "output_type": "display_data",
          "data": {
            "text/plain": [
              "<Figure size 640x480 with 1 Axes>"
            ],
            "image/png": "[encoded data removed]"
          },
          "metadata": {}
        }
      ]
    },
    {
      "cell_type": "code",
      "source": [
        "sns.countplot(data=df_SMDWD, y='결제수단', order=payment_list_bottom)"
      ],
      "metadata": {
        "colab": {
          "base_uri": "https://localhost:8080/",
          "height": 467
        },
        "id": "2BAr6WjbEbBo",
        "outputId": "24fce683-f59a-46d4-e53c-e7f8cc76490e"
      },
      "execution_count": null,
      "outputs": [
        {
          "output_type": "execute_result",
          "data": {
            "text/plain": [
              "<Axes: xlabel='count', ylabel='결제수단'>"
            ]
          },
          "metadata": {},
          "execution_count": 36
        },
        {
          "output_type": "display_data",
          "data": {
            "text/plain": [
              "<Figure size 640x480 with 1 Axes>"
            ],
            "image/png": "[encoded data removed]"
          },
          "metadata": {}
        }
      ]
    },
    {
      "cell_type": "markdown",
      "source": [
        "#### 주문경로"
      ],
      "metadata": {
        "id": "b6zNk3EaE11f"
      }
    },
    {
      "cell_type": "code",
      "source": [
        "df_SMDWD['주문경로'].value_counts()"
      ],
      "metadata": {
        "colab": {
          "base_uri": "https://localhost:8080/"
        },
        "id": "a8ilrXaFHrRO",
        "outputId": "af7d5290-23ef-408b-a37a-aa97c1c755e6"
      },
      "execution_count": 54,
      "outputs": [
        {
          "output_type": "execute_result",
          "data": {
            "text/plain": [
              "PC쇼핑몰     25695\n",
              "모바일웹      18531\n",
              "네이버 페이     2523\n",
              "Name: 주문경로, dtype: int64"
            ]
          },
          "metadata": {},
          "execution_count": 54
        }
      ]
    },
    {
      "cell_type": "code",
      "source": [
        "series_SMDWD = df_SMDWD['주문경로'].value_counts()\n",
        "order_list = series_SMDWD.iloc[:3].index.to_list()"
      ],
      "metadata": {
        "id": "3tsYznE7FGsS"
      },
      "execution_count": 40,
      "outputs": []
    },
    {
      "cell_type": "code",
      "source": [
        "sns.countplot(data=df_SMDWD, y='주문경로', order=order_list)"
      ],
      "metadata": {
        "colab": {
          "base_uri": "https://localhost:8080/",
          "height": 467
        },
        "outputId": "79708834-77ea-43b2-ae6c-2d7c370d9185",
        "id": "4I_IIXmmFGsT"
      },
      "execution_count": 41,
      "outputs": [
        {
          "output_type": "execute_result",
          "data": {
            "text/plain": [
              "<Axes: xlabel='count', ylabel='주문경로'>"
            ]
          },
          "metadata": {},
          "execution_count": 41
        },
        {
          "output_type": "display_data",
          "data": {
            "text/plain": [
              "<Figure size 640x480 with 1 Axes>"
            ],
            "image/png": "[encoded data removed]"
          },
          "metadata": {}
        }
      ]
    },
    {
      "cell_type": "markdown",
      "source": [
        "#### 수량"
      ],
      "metadata": {
        "id": "6hZExOUdGm1W"
      }
    },
    {
      "cell_type": "code",
      "source": [
        "df_SMDWD['수량'].value_counts()"
      ],
      "metadata": {
        "colab": {
          "base_uri": "https://localhost:8080/"
        },
        "id": "R5aJNgnvHuQG",
        "outputId": "ba8b3a2c-9a53-4d05-c61a-647f920465e7"
      },
      "execution_count": 55,
      "outputs": [
        {
          "output_type": "execute_result",
          "data": {
            "text/plain": [
              "1     41110\n",
              "2      4199\n",
              "3       878\n",
              "4       252\n",
              "5       223\n",
              "6        40\n",
              "10       16\n",
              "7        11\n",
              "8         7\n",
              "15        5\n",
              "17        2\n",
              "16        1\n",
              "46        1\n",
              "20        1\n",
              "11        1\n",
              "50        1\n",
              "12        1\n",
              "Name: 수량, dtype: int64"
            ]
          },
          "metadata": {},
          "execution_count": 55
        }
      ]
    },
    {
      "cell_type": "code",
      "source": [
        "series_SMDWD = df_SMDWD['수량'].value_counts()\n",
        "payment_count_top = series_SMDWD.iloc[:3].index.to_list()\n",
        "payment_count_bottom = series_SMDWD.iloc[-3:].index.to_list()"
      ],
      "metadata": {
        "id": "87Zzr6l8Gm1d"
      },
      "execution_count": 49,
      "outputs": []
    },
    {
      "cell_type": "code",
      "source": [
        "sns.countplot(data=df_SMDWD, y='수량', order=payment_count_top)"
      ],
      "metadata": {
        "colab": {
          "base_uri": "https://localhost:8080/",
          "height": 467
        },
        "outputId": "b7cef704-22aa-4151-89d5-18f952051978",
        "id": "WwvujORqGu4D"
      },
      "execution_count": 50,
      "outputs": [
        {
          "output_type": "execute_result",
          "data": {
            "text/plain": [
              "<Axes: xlabel='count', ylabel='수량'>"
            ]
          },
          "metadata": {},
          "execution_count": 50
        },
        {
          "output_type": "display_data",
          "data": {
            "text/plain": [
              "<Figure size 640x480 with 1 Axes>"
            ],
            "image/png": "[encoded data removed]"
          },
          "metadata": {}
        }
      ]
    },
    {
      "cell_type": "code",
      "source": [
        "sns.countplot(data=df_SMDWD, y='수량', order=payment_count_bottom)"
      ],
      "metadata": {
        "colab": {
          "base_uri": "https://localhost:8080/",
          "height": 467
        },
        "outputId": "18efb4d4-9785-48f5-d5c4-497c5c77f6bb",
        "id": "UlrBZkfyGu4F"
      },
      "execution_count": 51,
      "outputs": [
        {
          "output_type": "execute_result",
          "data": {
            "text/plain": [
              "<Axes: xlabel='count', ylabel='수량'>"
            ]
          },
          "metadata": {},
          "execution_count": 51
        },
        {
          "output_type": "display_data",
          "data": {
            "text/plain": [
              "<Figure size 640x480 with 1 Axes>"
            ],
            "image/png": "[encoded data removed]"
          },
          "metadata": {}
        }
      ]
    }
  ]
}