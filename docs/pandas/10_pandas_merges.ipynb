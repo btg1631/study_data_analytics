{
  "nbformat": 4,
  "nbformat_minor": 0,
  "metadata": {
    "colab": {
      "provenance": [],
      "authorship_tag": "ABX9TyNMRkSrOr3b7Ce7R5hWwNcI",
      "include_colab_link": true
    },
    "kernelspec": {
      "name": "python3",
      "display_name": "Python 3"
    },
    "language_info": {
      "name": "python"
    }
  },
  "cells": [
    {
      "cell_type": "markdown",
      "metadata": {
        "id": "view-in-github",
        "colab_type": "text"
      },
      "source": [
        "<a href=\"https://colab.research.google.com/github/btg1631/study_data_analytics/blob/main/docs/pandas/10_pandas_merges.ipynb\" target=\"_parent\"><img src=\"https://colab.research.google.com/assets/colab-badge.svg\" alt=\"Open In Colab\"/></a>"
      ]
    },
    {
      "cell_type": "markdown",
      "source": [
        "## pandas.concat()\n",
        "- 중요점 : 같은 컬럼으로 붙임\n"
      ],
      "metadata": {
        "id": "4p3rEdbxsZBD"
      }
    },
    {
      "cell_type": "code",
      "execution_count": null,
      "metadata": {
        "colab": {
          "base_uri": "https://localhost:8080/"
        },
        "id": "iZclP-Uerq0-",
        "outputId": "31fe856e-5cc6-4f34-f30b-06e889790f1d"
      },
      "outputs": [
        {
          "output_type": "execute_result",
          "data": {
            "text/plain": [
              "((10683, 9), (37986, 9), (179365, 9))"
            ]
          },
          "metadata": {},
          "execution_count": 2
        }
      ],
      "source": [
        "import pandas as pd\n",
        "df_BRAZIL = pd.read_csv('BRAZIL.csv')\n",
        "df_ITALY = pd.read_csv('ITALY.csv')\n",
        "df_USA = pd.read_csv('USA.csv')\n",
        "\n",
        "df_BRAZIL.shape, df_ITALY.shape, df_USA.shape"
      ]
    },
    {
      "cell_type": "code",
      "source": [
        "df_merged = pd.concat(objs=[df_BRAZIL, df_ITALY, df_USA])\n",
        "df_merged.shape"
      ],
      "metadata": {
        "colab": {
          "base_uri": "https://localhost:8080/"
        },
        "id": "-Kmrp4Wbs3iS",
        "outputId": "784cf142-68b1-471d-c1e5-2e2a68cddb30"
      },
      "execution_count": null,
      "outputs": [
        {
          "output_type": "execute_result",
          "data": {
            "text/plain": [
              "(228034, 9)"
            ]
          },
          "metadata": {},
          "execution_count": 5
        }
      ]
    },
    {
      "cell_type": "code",
      "source": [],
      "metadata": {
        "id": "by_a2jMitsXr"
      },
      "execution_count": null,
      "outputs": []
    }
  ]
}