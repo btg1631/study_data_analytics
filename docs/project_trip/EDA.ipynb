{
 "cells": [
  {
   "cell_type": "markdown",
   "id": "5ffdc060-d9ed-49b0-875e-3da08cd869b1",
   "metadata": {
    "jp-MarkdownHeadingCollapsed": true
   },
   "source": [
    "## 분석 방향성\n",
    "- 가설: 지역별 키워드 검색량과 관광지 소비량(방문자 수) 간에 상관 관계가 있을 것이다.\n",
    "- 설명: 지역별로 특정 키워드의 검색량이 높을수록 해당 지역의 소비량이 증가할 것으로 예상됨. 따라서 특정 키워드의 검색량이 소비량과 어떤 관련이 있는지 분석하여 상관 관계를 파악합니다.\n",
    "\n",
    "- 키워드 검색과 소비량 상관관계 분석\n",
    "- 문제 정의: 특정 키워드 검색량과 소비량 간의 상관성을 파악하고 분석합니다.\n",
    "- 배경: 어떤 키워드 검색이 소비량에 영향을 미치는지 이해하여 마케팅 전략에 반영할 수 있습니다."
   ]
  },
  {
   "cell_type": "code",
   "execution_count": 1,
   "id": "1e497fee-e556-4749-aae2-9e5a88a09ae8",
   "metadata": {
    "collapsed": true,
    "jupyter": {
     "outputs_hidden": true
    },
    "scrolled": true
   },
   "outputs": [
    {
     "name": "stdout",
     "output_type": "stream",
     "text": [
      "Reading package lists... Done\n",
      "Building dependency tree... Done\n",
      "Reading state information... Done\n",
      "fonts-nanum is already the newest version (20200506-1).\n",
      "0 upgraded, 0 newly installed, 0 to remove and 0 not upgraded.\n",
      "Font directories:\n",
      "\t/root/.local/share/fonts\n",
      "\t/usr/local/share/fonts\n",
      "\t/usr/share/fonts\n",
      "\t/root/.fonts\n",
      "\t/usr/share/fonts/truetype\n",
      "\t/usr/share/fonts/truetype/dejavu\n",
      "\t/usr/share/fonts/truetype/nanum\n",
      "/root/.local/share/fonts: skipping, no such directory\n",
      "/usr/local/share/fonts: caching, new cache contents: 0 fonts, 0 dirs\n",
      "/usr/share/fonts: caching, new cache contents: 0 fonts, 1 dirs\n",
      "/usr/share/fonts/truetype: caching, new cache contents: 0 fonts, 2 dirs\n",
      "/usr/share/fonts/truetype/dejavu: caching, new cache contents: 22 fonts, 0 dirs\n",
      "/usr/share/fonts/truetype/nanum: caching, new cache contents: 12 fonts, 0 dirs\n",
      "/root/.fonts: skipping, no such directory\n",
      "/usr/share/fonts/truetype: skipping, looped directory detected\n",
      "/usr/share/fonts/truetype/dejavu: skipping, looped directory detected\n",
      "/usr/share/fonts/truetype/nanum: skipping, looped directory detected\n",
      "/var/cache/fontconfig: cleaning cache directory\n",
      "/root/.cache/fontconfig: not cleaning non-existent cache directory\n",
      "/root/.fontconfig: not cleaning non-existent cache directory\n",
      "fc-cache: succeeded\n"
     ]
    }
   ],
   "source": [
    "# 한글 폰트 설치\n",
    "!apt-get install -y fonts-nanum\n",
    "!fc-cache -fv\n",
    "!rm ~/.cache/matplotlib -rf\n",
    "# 설치 후 colab 경우 Runtime > Restart session 필요"
   ]
  },
  {
   "cell_type": "code",
   "execution_count": 2,
   "id": "83ad26a5-ad6e-4eb5-ac82-515a1d6f27d2",
   "metadata": {},
   "outputs": [],
   "source": [
    "import pandas as pd\n",
    "import numpy as np\n",
    "import seaborn as sns\n",
    "import matplotlib.pyplot as plt\n",
    "import matplotlib as mpl\n",
    "\n",
    "mpl.rc('font', family='NanumBarunGothic') # 혹은 다른 설치한 Nanum 폰트 사용"
   ]
  },
  {
   "cell_type": "markdown",
   "id": "bbc95ffe-6fd7-4c55-bb25-af21564ec633",
   "metadata": {
    "jp-MarkdownHeadingCollapsed": true
   },
   "source": [
    "## data"
   ]
  },
  {
   "cell_type": "code",
   "execution_count": 3,
   "id": "1fb4d336-7605-4839-8651-a5cea76c4981",
   "metadata": {},
   "outputs": [],
   "source": [
    "df_ksearch_date = pd.read_csv(\"Keyword_search_by_date.csv\")\n",
    "df_Nvisitors_Date = pd.read_csv(\"Number_of_visitors_date.csv\")\n",
    "df_search_trend = pd.read_csv(\"Trend_search_date.csv\")"
   ]
  },
  {
   "cell_type": "code",
   "execution_count": 4,
   "id": "21b48de6-5cac-4f26-afe6-8e48d0842e70",
   "metadata": {},
   "outputs": [
    {
     "data": {
      "text/html": [
       "<div>\n",
       "<style scoped>\n",
       "    .dataframe tbody tr th:only-of-type {\n",
       "        vertical-align: middle;\n",
       "    }\n",
       "\n",
       "    .dataframe tbody tr th {\n",
       "        vertical-align: top;\n",
       "    }\n",
       "\n",
       "    .dataframe thead th {\n",
       "        text-align: right;\n",
       "    }\n",
       "</style>\n",
       "<table border=\"1\" class=\"dataframe\">\n",
       "  <thead>\n",
       "    <tr style=\"text-align: right;\">\n",
       "      <th></th>\n",
       "      <th>_id</th>\n",
       "      <th>destination_type</th>\n",
       "      <th>destination_search</th>\n",
       "      <th>region</th>\n",
       "      <th>std_year</th>\n",
       "      <th>std_month</th>\n",
       "      <th>std_year_month</th>\n",
       "    </tr>\n",
       "  </thead>\n",
       "  <tbody>\n",
       "    <tr>\n",
       "      <th>0</th>\n",
       "      <td>65e92d9cbb908e26c804031e</td>\n",
       "      <td>전체</td>\n",
       "      <td>1937279</td>\n",
       "      <td>강원</td>\n",
       "      <td>2020</td>\n",
       "      <td>1</td>\n",
       "      <td>202001</td>\n",
       "    </tr>\n",
       "    <tr>\n",
       "      <th>1</th>\n",
       "      <td>65e92d9cbb908e26c804031f</td>\n",
       "      <td>전체</td>\n",
       "      <td>1395025</td>\n",
       "      <td>강원</td>\n",
       "      <td>2020</td>\n",
       "      <td>2</td>\n",
       "      <td>202002</td>\n",
       "    </tr>\n",
       "    <tr>\n",
       "      <th>2</th>\n",
       "      <td>65e92d9cbb908e26c8040320</td>\n",
       "      <td>전체</td>\n",
       "      <td>1295467</td>\n",
       "      <td>강원</td>\n",
       "      <td>2020</td>\n",
       "      <td>3</td>\n",
       "      <td>202003</td>\n",
       "    </tr>\n",
       "    <tr>\n",
       "      <th>3</th>\n",
       "      <td>65e92d9cbb908e26c8040321</td>\n",
       "      <td>전체</td>\n",
       "      <td>1592147</td>\n",
       "      <td>강원</td>\n",
       "      <td>2020</td>\n",
       "      <td>4</td>\n",
       "      <td>202004</td>\n",
       "    </tr>\n",
       "    <tr>\n",
       "      <th>4</th>\n",
       "      <td>65e92d9cbb908e26c8040322</td>\n",
       "      <td>전체</td>\n",
       "      <td>2286676</td>\n",
       "      <td>강원</td>\n",
       "      <td>2020</td>\n",
       "      <td>5</td>\n",
       "      <td>202005</td>\n",
       "    </tr>\n",
       "  </tbody>\n",
       "</table>\n",
       "</div>"
      ],
      "text/plain": [
       "                        _id destination_type  destination_search region  \\\n",
       "0  65e92d9cbb908e26c804031e               전체             1937279     강원   \n",
       "1  65e92d9cbb908e26c804031f               전체             1395025     강원   \n",
       "2  65e92d9cbb908e26c8040320               전체             1295467     강원   \n",
       "3  65e92d9cbb908e26c8040321               전체             1592147     강원   \n",
       "4  65e92d9cbb908e26c8040322               전체             2286676     강원   \n",
       "\n",
       "   std_year  std_month  std_year_month  \n",
       "0      2020          1          202001  \n",
       "1      2020          2          202002  \n",
       "2      2020          3          202003  \n",
       "3      2020          4          202004  \n",
       "4      2020          5          202005  "
      ]
     },
     "execution_count": 4,
     "metadata": {},
     "output_type": "execute_result"
    }
   ],
   "source": [
    "df_ksearch_date[:5]"
   ]
  },
  {
   "cell_type": "code",
   "execution_count": 5,
   "id": "8a9fe8cf-c82e-47bc-8bbf-d72c2fc094db",
   "metadata": {},
   "outputs": [
    {
     "data": {
      "text/plain": [
       "destination_type\n",
       "전체       816\n",
       "숙박       816\n",
       "음식       816\n",
       "기타관광     816\n",
       "쇼핑       816\n",
       "문화관광     816\n",
       "역사관광     816\n",
       "자연관광     816\n",
       "체험관광     816\n",
       "레저스포츠    816\n",
       "Name: count, dtype: int64"
      ]
     },
     "execution_count": 5,
     "metadata": {},
     "output_type": "execute_result"
    }
   ],
   "source": [
    "df_ksearch_date['destination_type'].value_counts()"
   ]
  },
  {
   "cell_type": "code",
   "execution_count": 6,
   "id": "b5d1c508-5dce-4463-b128-fd05e3547414",
   "metadata": {},
   "outputs": [
    {
     "data": {
      "text/html": [
       "<div>\n",
       "<style scoped>\n",
       "    .dataframe tbody tr th:only-of-type {\n",
       "        vertical-align: middle;\n",
       "    }\n",
       "\n",
       "    .dataframe tbody tr th {\n",
       "        vertical-align: top;\n",
       "    }\n",
       "\n",
       "    .dataframe thead th {\n",
       "        text-align: right;\n",
       "    }\n",
       "</style>\n",
       "<table border=\"1\" class=\"dataframe\">\n",
       "  <thead>\n",
       "    <tr style=\"text-align: right;\">\n",
       "      <th></th>\n",
       "      <th>_id</th>\n",
       "      <th>industry_major_cate</th>\n",
       "      <th>std_year_month</th>\n",
       "      <th>std_year</th>\n",
       "      <th>std_month</th>\n",
       "      <th>consumption_amount</th>\n",
       "      <th>region</th>\n",
       "    </tr>\n",
       "  </thead>\n",
       "  <tbody>\n",
       "    <tr>\n",
       "      <th>0</th>\n",
       "      <td>65e932a1bb908e26c804492e</td>\n",
       "      <td>전체</td>\n",
       "      <td>202012</td>\n",
       "      <td>2020</td>\n",
       "      <td>12</td>\n",
       "      <td>59888524</td>\n",
       "      <td>강원</td>\n",
       "    </tr>\n",
       "    <tr>\n",
       "      <th>1</th>\n",
       "      <td>65e932a1bb908e26c804492f</td>\n",
       "      <td>전체</td>\n",
       "      <td>202001</td>\n",
       "      <td>2020</td>\n",
       "      <td>1</td>\n",
       "      <td>98147222</td>\n",
       "      <td>강원</td>\n",
       "    </tr>\n",
       "    <tr>\n",
       "      <th>2</th>\n",
       "      <td>65e932a1bb908e26c8044930</td>\n",
       "      <td>전체</td>\n",
       "      <td>202002</td>\n",
       "      <td>2020</td>\n",
       "      <td>2</td>\n",
       "      <td>69547139</td>\n",
       "      <td>강원</td>\n",
       "    </tr>\n",
       "    <tr>\n",
       "      <th>3</th>\n",
       "      <td>65e932a1bb908e26c8044931</td>\n",
       "      <td>전체</td>\n",
       "      <td>202003</td>\n",
       "      <td>2020</td>\n",
       "      <td>3</td>\n",
       "      <td>62071229</td>\n",
       "      <td>강원</td>\n",
       "    </tr>\n",
       "    <tr>\n",
       "      <th>4</th>\n",
       "      <td>65e932a1bb908e26c8044932</td>\n",
       "      <td>전체</td>\n",
       "      <td>202004</td>\n",
       "      <td>2020</td>\n",
       "      <td>4</td>\n",
       "      <td>75022238</td>\n",
       "      <td>강원</td>\n",
       "    </tr>\n",
       "  </tbody>\n",
       "</table>\n",
       "</div>"
      ],
      "text/plain": [
       "                        _id industry_major_cate  std_year_month  std_year  \\\n",
       "0  65e932a1bb908e26c804492e                  전체          202012      2020   \n",
       "1  65e932a1bb908e26c804492f                  전체          202001      2020   \n",
       "2  65e932a1bb908e26c8044930                  전체          202002      2020   \n",
       "3  65e932a1bb908e26c8044931                  전체          202003      2020   \n",
       "4  65e932a1bb908e26c8044932                  전체          202004      2020   \n",
       "\n",
       "   std_month  consumption_amount region  \n",
       "0         12            59888524     강원  \n",
       "1          1            98147222     강원  \n",
       "2          2            69547139     강원  \n",
       "3          3            62071229     강원  \n",
       "4          4            75022238     강원  "
      ]
     },
     "execution_count": 6,
     "metadata": {},
     "output_type": "execute_result"
    }
   ],
   "source": [
    "df_Nvisitors_Date[:5]"
   ]
  },
  {
   "cell_type": "code",
   "execution_count": 7,
   "id": "2f291a4c-cd70-425a-a49f-6bb9ccd0a294",
   "metadata": {},
   "outputs": [
    {
     "data": {
      "text/plain": [
       "industry_major_cate\n",
       "전체        816\n",
       "운송업       816\n",
       "숙박업       816\n",
       "여가서비스업    816\n",
       "식음료업      816\n",
       "쇼핑업       816\n",
       "여행업       797\n",
       "Name: count, dtype: int64"
      ]
     },
     "execution_count": 7,
     "metadata": {},
     "output_type": "execute_result"
    }
   ],
   "source": [
    "df_Nvisitors_Date['industry_major_cate'].value_counts()"
   ]
  },
  {
   "cell_type": "code",
   "execution_count": 8,
   "id": "34e10bc0-0fd6-4786-a370-b93f992dfb4e",
   "metadata": {},
   "outputs": [
    {
     "data": {
      "text/html": [
       "<div>\n",
       "<style scoped>\n",
       "    .dataframe tbody tr th:only-of-type {\n",
       "        vertical-align: middle;\n",
       "    }\n",
       "\n",
       "    .dataframe tbody tr th {\n",
       "        vertical-align: top;\n",
       "    }\n",
       "\n",
       "    .dataframe thead th {\n",
       "        text-align: right;\n",
       "    }\n",
       "</style>\n",
       "<table border=\"1\" class=\"dataframe\">\n",
       "  <thead>\n",
       "    <tr style=\"text-align: right;\">\n",
       "      <th></th>\n",
       "      <th>_id</th>\n",
       "      <th>region</th>\n",
       "      <th>std_year_month</th>\n",
       "      <th>std_year</th>\n",
       "      <th>std_month</th>\n",
       "      <th>tour_trend</th>\n",
       "      <th>num_mention</th>\n",
       "    </tr>\n",
       "  </thead>\n",
       "  <tbody>\n",
       "    <tr>\n",
       "      <th>0</th>\n",
       "      <td>65e92ddfbb908e26c804393d</td>\n",
       "      <td>강원</td>\n",
       "      <td>202007</td>\n",
       "      <td>2020</td>\n",
       "      <td>7</td>\n",
       "      <td>레포츠</td>\n",
       "      <td>58868</td>\n",
       "    </tr>\n",
       "    <tr>\n",
       "      <th>1</th>\n",
       "      <td>65e92ddfbb908e26c804393e</td>\n",
       "      <td>강원</td>\n",
       "      <td>202008</td>\n",
       "      <td>2020</td>\n",
       "      <td>8</td>\n",
       "      <td>레포츠</td>\n",
       "      <td>53624</td>\n",
       "    </tr>\n",
       "    <tr>\n",
       "      <th>2</th>\n",
       "      <td>65e92ddfbb908e26c804393f</td>\n",
       "      <td>강원</td>\n",
       "      <td>202006</td>\n",
       "      <td>2020</td>\n",
       "      <td>6</td>\n",
       "      <td>레포츠</td>\n",
       "      <td>49214</td>\n",
       "    </tr>\n",
       "    <tr>\n",
       "      <th>3</th>\n",
       "      <td>65e92ddfbb908e26c8043940</td>\n",
       "      <td>강원</td>\n",
       "      <td>202010</td>\n",
       "      <td>2020</td>\n",
       "      <td>10</td>\n",
       "      <td>레포츠</td>\n",
       "      <td>47223</td>\n",
       "    </tr>\n",
       "    <tr>\n",
       "      <th>4</th>\n",
       "      <td>65e92ddfbb908e26c8043941</td>\n",
       "      <td>강원</td>\n",
       "      <td>202007</td>\n",
       "      <td>2020</td>\n",
       "      <td>7</td>\n",
       "      <td>휴식/힐링</td>\n",
       "      <td>40740</td>\n",
       "    </tr>\n",
       "  </tbody>\n",
       "</table>\n",
       "</div>"
      ],
      "text/plain": [
       "                        _id region  std_year_month  std_year  std_month  \\\n",
       "0  65e92ddfbb908e26c804393d     강원          202007      2020          7   \n",
       "1  65e92ddfbb908e26c804393e     강원          202008      2020          8   \n",
       "2  65e92ddfbb908e26c804393f     강원          202006      2020          6   \n",
       "3  65e92ddfbb908e26c8043940     강원          202010      2020         10   \n",
       "4  65e92ddfbb908e26c8043941     강원          202007      2020          7   \n",
       "\n",
       "  tour_trend  num_mention  \n",
       "0        레포츠        58868  \n",
       "1        레포츠        53624  \n",
       "2        레포츠        49214  \n",
       "3        레포츠        47223  \n",
       "4      휴식/힐링        40740  "
      ]
     },
     "execution_count": 8,
     "metadata": {},
     "output_type": "execute_result"
    }
   ],
   "source": [
    "df_search_trend[:5]"
   ]
  },
  {
   "cell_type": "code",
   "execution_count": 9,
   "id": "ce490811-6868-4dce-a1df-e282f3f90ffb",
   "metadata": {},
   "outputs": [
    {
     "data": {
      "text/plain": [
       "tour_trend\n",
       "레포츠      816\n",
       "휴식/힐링    816\n",
       "기타       816\n",
       "미식       816\n",
       "체험       816\n",
       "Name: count, dtype: int64"
      ]
     },
     "execution_count": 9,
     "metadata": {},
     "output_type": "execute_result"
    }
   ],
   "source": [
    "df_search_trend['tour_trend'].value_counts()"
   ]
  },
  {
   "cell_type": "code",
   "execution_count": 10,
   "id": "29c706f4-cf83-4366-8545-883fd009e9b9",
   "metadata": {},
   "outputs": [
    {
     "data": {
      "text/plain": [
       "array(['강원', '경기', '경남', '경북', '광주', '대구', '대전', '부산', '서울', '세종', '울산',\n",
       "       '인천', '전남', '전북', '제주', '충남', '충북'], dtype=object)"
      ]
     },
     "execution_count": 10,
     "metadata": {},
     "output_type": "execute_result"
    }
   ],
   "source": [
    "df_search_trend['region'].unique()"
   ]
  },
  {
   "cell_type": "markdown",
   "id": "e099a9e7-0f2d-4cba-8067-24afdb5b0a24",
   "metadata": {
    "jp-MarkdownHeadingCollapsed": true
   },
   "source": [
    "## 전처리"
   ]
  },
  {
   "cell_type": "code",
   "execution_count": 11,
   "id": "3b6aaaee-7eae-4016-8c78-f36a5479c824",
   "metadata": {},
   "outputs": [
    {
     "name": "stdout",
     "output_type": "stream",
     "text": [
      "<class 'pandas.core.frame.DataFrame'>\n",
      "RangeIndex: 8160 entries, 0 to 8159\n",
      "Data columns (total 7 columns):\n",
      " #   Column              Non-Null Count  Dtype \n",
      "---  ------              --------------  ----- \n",
      " 0   _id                 8160 non-null   object\n",
      " 1   destination_type    8160 non-null   object\n",
      " 2   destination_search  8160 non-null   int64 \n",
      " 3   region              8160 non-null   object\n",
      " 4   std_year            8160 non-null   int64 \n",
      " 5   std_month           8160 non-null   int64 \n",
      " 6   std_year_month      8160 non-null   int64 \n",
      "dtypes: int64(4), object(3)\n",
      "memory usage: 446.4+ KB\n"
     ]
    }
   ],
   "source": [
    "df_ksearch_date.info()"
   ]
  },
  {
   "cell_type": "code",
   "execution_count": 12,
   "id": "84ec49cf-50b1-461a-9340-4a349d566573",
   "metadata": {},
   "outputs": [
    {
     "data": {
      "text/plain": [
       "_id                   0\n",
       "destination_type      0\n",
       "destination_search    0\n",
       "region                0\n",
       "std_year              0\n",
       "std_month             0\n",
       "std_year_month        0\n",
       "dtype: int64"
      ]
     },
     "execution_count": 12,
     "metadata": {},
     "output_type": "execute_result"
    }
   ],
   "source": [
    "df_ksearch_date.isnull().sum()"
   ]
  },
  {
   "cell_type": "code",
   "execution_count": 13,
   "id": "ab3bfc60-78b6-462c-9104-f4a34a1c04cc",
   "metadata": {},
   "outputs": [
    {
     "name": "stdout",
     "output_type": "stream",
     "text": [
      "<class 'pandas.core.frame.DataFrame'>\n",
      "RangeIndex: 5693 entries, 0 to 5692\n",
      "Data columns (total 7 columns):\n",
      " #   Column               Non-Null Count  Dtype \n",
      "---  ------               --------------  ----- \n",
      " 0   _id                  5693 non-null   object\n",
      " 1   industry_major_cate  5693 non-null   object\n",
      " 2   std_year_month       5693 non-null   int64 \n",
      " 3   std_year             5693 non-null   int64 \n",
      " 4   std_month            5693 non-null   int64 \n",
      " 5   consumption_amount   5693 non-null   int64 \n",
      " 6   region               5693 non-null   object\n",
      "dtypes: int64(4), object(3)\n",
      "memory usage: 311.5+ KB\n"
     ]
    }
   ],
   "source": [
    "df_Nvisitors_Date.info()"
   ]
  },
  {
   "cell_type": "code",
   "execution_count": 14,
   "id": "ca6beedb-9f53-45bf-8a6e-f03132fdfb42",
   "metadata": {},
   "outputs": [
    {
     "data": {
      "text/plain": [
       "_id                    0\n",
       "industry_major_cate    0\n",
       "std_year_month         0\n",
       "std_year               0\n",
       "std_month              0\n",
       "consumption_amount     0\n",
       "region                 0\n",
       "dtype: int64"
      ]
     },
     "execution_count": 14,
     "metadata": {},
     "output_type": "execute_result"
    }
   ],
   "source": [
    "df_Nvisitors_Date.isnull().sum()"
   ]
  },
  {
   "cell_type": "code",
   "execution_count": 15,
   "id": "c14c2ce5-0be4-48bb-b7fe-d9333e75d668",
   "metadata": {},
   "outputs": [
    {
     "name": "stdout",
     "output_type": "stream",
     "text": [
      "<class 'pandas.core.frame.DataFrame'>\n",
      "RangeIndex: 4080 entries, 0 to 4079\n",
      "Data columns (total 7 columns):\n",
      " #   Column          Non-Null Count  Dtype \n",
      "---  ------          --------------  ----- \n",
      " 0   _id             4080 non-null   object\n",
      " 1   region          4080 non-null   object\n",
      " 2   std_year_month  4080 non-null   int64 \n",
      " 3   std_year        4080 non-null   int64 \n",
      " 4   std_month       4080 non-null   int64 \n",
      " 5   tour_trend      4080 non-null   object\n",
      " 6   num_mention     4080 non-null   int64 \n",
      "dtypes: int64(4), object(3)\n",
      "memory usage: 223.3+ KB\n"
     ]
    }
   ],
   "source": [
    "df_search_trend.info()"
   ]
  },
  {
   "cell_type": "code",
   "execution_count": 16,
   "id": "6124c2c9-f902-4fa9-9071-0994e8d7d45d",
   "metadata": {},
   "outputs": [
    {
     "data": {
      "text/plain": [
       "_id               0\n",
       "region            0\n",
       "std_year_month    0\n",
       "std_year          0\n",
       "std_month         0\n",
       "tour_trend        0\n",
       "num_mention       0\n",
       "dtype: int64"
      ]
     },
     "execution_count": 16,
     "metadata": {},
     "output_type": "execute_result"
    }
   ],
   "source": [
    "df_search_trend.isnull().sum()"
   ]
  },
  {
   "cell_type": "markdown",
   "id": "ef910515-b5a6-4fed-8895-c2f5bc18b295",
   "metadata": {},
   "source": [
    "- 결측치 없음"
   ]
  },
  {
   "cell_type": "markdown",
   "id": "adba5f9e-9905-4cd3-9d52-fb4205ea95b9",
   "metadata": {},
   "source": [
    "## EDA"
   ]
  },
  {
   "cell_type": "markdown",
   "id": "10c18bad-674e-46bb-a857-80c2263ecb26",
   "metadata": {
    "jp-MarkdownHeadingCollapsed": true
   },
   "source": [
    "### 제안 1 : 계절별 카테고리 검색량/소비량 비교"
   ]
  },
  {
   "cell_type": "markdown",
   "id": "1f139d7b-6585-4f4b-b373-4045b42d5690",
   "metadata": {
    "jp-MarkdownHeadingCollapsed": true
   },
   "source": [
    "- 문제 정의 : 카테고리의 계절별 검색 추이를 시각화하여 계절적 패턴을 확인\n",
    "- 배경 : 특정 키워드의 검색량이 계절에 따라 변화할 수 있다.\n",
    "- 예를 들어 여름에는 레저스포츠 관련 키워드의 검색량이 증가할 것으로 예상된다. 이를 통해 계절별 카테고리 검색 추이와 계절적 패턴을 이해할 수 있다."
   ]
  },
  {
   "cell_type": "code",
   "execution_count": 17,
   "id": "a10ca536-cf95-4de6-a687-20909e9ff999",
   "metadata": {},
   "outputs": [],
   "source": [
    "seasons = {\n",
    "    12: '겨울', 1: '겨울', 2: '겨울',\n",
    "    3: '봄', 4: '봄', 5: '봄',\n",
    "    6: '여름', 7: '여름', 8: '여름',\n",
    "    9: '가을', 10: '가을', 11: '가을'\n",
    "}\n",
    "df_ksearch_date['season'] = df_ksearch_date['std_month'].map(seasons)\n",
    "df_Nvisitors_Date['season'] = df_Nvisitors_Date['std_month'].map(seasons)"
   ]
  },
  {
   "cell_type": "code",
   "execution_count": 18,
   "id": "c0d96b7f-ec3b-4921-a9c9-b7097f90ad4b",
   "metadata": {},
   "outputs": [
    {
     "data": {
      "text/html": [
       "<div>\n",
       "<style scoped>\n",
       "    .dataframe tbody tr th:only-of-type {\n",
       "        vertical-align: middle;\n",
       "    }\n",
       "\n",
       "    .dataframe tbody tr th {\n",
       "        vertical-align: top;\n",
       "    }\n",
       "\n",
       "    .dataframe thead th {\n",
       "        text-align: right;\n",
       "    }\n",
       "</style>\n",
       "<table border=\"1\" class=\"dataframe\">\n",
       "  <thead>\n",
       "    <tr style=\"text-align: right;\">\n",
       "      <th></th>\n",
       "      <th>_id</th>\n",
       "      <th>destination_type</th>\n",
       "      <th>destination_search</th>\n",
       "      <th>region</th>\n",
       "      <th>std_year</th>\n",
       "      <th>std_month</th>\n",
       "      <th>std_year_month</th>\n",
       "      <th>season</th>\n",
       "    </tr>\n",
       "  </thead>\n",
       "  <tbody>\n",
       "    <tr>\n",
       "      <th>0</th>\n",
       "      <td>65e92d9cbb908e26c804031e</td>\n",
       "      <td>전체</td>\n",
       "      <td>1937279</td>\n",
       "      <td>강원</td>\n",
       "      <td>2020</td>\n",
       "      <td>1</td>\n",
       "      <td>202001</td>\n",
       "      <td>겨울</td>\n",
       "    </tr>\n",
       "    <tr>\n",
       "      <th>1</th>\n",
       "      <td>65e92d9cbb908e26c804031f</td>\n",
       "      <td>전체</td>\n",
       "      <td>1395025</td>\n",
       "      <td>강원</td>\n",
       "      <td>2020</td>\n",
       "      <td>2</td>\n",
       "      <td>202002</td>\n",
       "      <td>겨울</td>\n",
       "    </tr>\n",
       "    <tr>\n",
       "      <th>2</th>\n",
       "      <td>65e92d9cbb908e26c8040320</td>\n",
       "      <td>전체</td>\n",
       "      <td>1295467</td>\n",
       "      <td>강원</td>\n",
       "      <td>2020</td>\n",
       "      <td>3</td>\n",
       "      <td>202003</td>\n",
       "      <td>봄</td>\n",
       "    </tr>\n",
       "    <tr>\n",
       "      <th>3</th>\n",
       "      <td>65e92d9cbb908e26c8040321</td>\n",
       "      <td>전체</td>\n",
       "      <td>1592147</td>\n",
       "      <td>강원</td>\n",
       "      <td>2020</td>\n",
       "      <td>4</td>\n",
       "      <td>202004</td>\n",
       "      <td>봄</td>\n",
       "    </tr>\n",
       "    <tr>\n",
       "      <th>4</th>\n",
       "      <td>65e92d9cbb908e26c8040322</td>\n",
       "      <td>전체</td>\n",
       "      <td>2286676</td>\n",
       "      <td>강원</td>\n",
       "      <td>2020</td>\n",
       "      <td>5</td>\n",
       "      <td>202005</td>\n",
       "      <td>봄</td>\n",
       "    </tr>\n",
       "    <tr>\n",
       "      <th>...</th>\n",
       "      <td>...</td>\n",
       "      <td>...</td>\n",
       "      <td>...</td>\n",
       "      <td>...</td>\n",
       "      <td>...</td>\n",
       "      <td>...</td>\n",
       "      <td>...</td>\n",
       "      <td>...</td>\n",
       "    </tr>\n",
       "    <tr>\n",
       "      <th>8155</th>\n",
       "      <td>65e92d9dbb908e26c80422f9</td>\n",
       "      <td>문화관광</td>\n",
       "      <td>80761</td>\n",
       "      <td>충북</td>\n",
       "      <td>2023</td>\n",
       "      <td>12</td>\n",
       "      <td>202312</td>\n",
       "      <td>겨울</td>\n",
       "    </tr>\n",
       "    <tr>\n",
       "      <th>8156</th>\n",
       "      <td>65e92d9dbb908e26c80422fa</td>\n",
       "      <td>역사관광</td>\n",
       "      <td>20072</td>\n",
       "      <td>충북</td>\n",
       "      <td>2023</td>\n",
       "      <td>12</td>\n",
       "      <td>202312</td>\n",
       "      <td>겨울</td>\n",
       "    </tr>\n",
       "    <tr>\n",
       "      <th>8157</th>\n",
       "      <td>65e92d9dbb908e26c80422fb</td>\n",
       "      <td>자연관광</td>\n",
       "      <td>25920</td>\n",
       "      <td>충북</td>\n",
       "      <td>2023</td>\n",
       "      <td>12</td>\n",
       "      <td>202312</td>\n",
       "      <td>겨울</td>\n",
       "    </tr>\n",
       "    <tr>\n",
       "      <th>8158</th>\n",
       "      <td>65e92d9dbb908e26c80422fc</td>\n",
       "      <td>체험관광</td>\n",
       "      <td>11141</td>\n",
       "      <td>충북</td>\n",
       "      <td>2023</td>\n",
       "      <td>12</td>\n",
       "      <td>202312</td>\n",
       "      <td>겨울</td>\n",
       "    </tr>\n",
       "    <tr>\n",
       "      <th>8159</th>\n",
       "      <td>65e92d9dbb908e26c80422fd</td>\n",
       "      <td>레저스포츠</td>\n",
       "      <td>60623</td>\n",
       "      <td>충북</td>\n",
       "      <td>2023</td>\n",
       "      <td>12</td>\n",
       "      <td>202312</td>\n",
       "      <td>겨울</td>\n",
       "    </tr>\n",
       "  </tbody>\n",
       "</table>\n",
       "<p>8160 rows × 8 columns</p>\n",
       "</div>"
      ],
      "text/plain": [
       "                           _id destination_type  destination_search region  \\\n",
       "0     65e92d9cbb908e26c804031e               전체             1937279     강원   \n",
       "1     65e92d9cbb908e26c804031f               전체             1395025     강원   \n",
       "2     65e92d9cbb908e26c8040320               전체             1295467     강원   \n",
       "3     65e92d9cbb908e26c8040321               전체             1592147     강원   \n",
       "4     65e92d9cbb908e26c8040322               전체             2286676     강원   \n",
       "...                        ...              ...                 ...    ...   \n",
       "8155  65e92d9dbb908e26c80422f9             문화관광               80761     충북   \n",
       "8156  65e92d9dbb908e26c80422fa             역사관광               20072     충북   \n",
       "8157  65e92d9dbb908e26c80422fb             자연관광               25920     충북   \n",
       "8158  65e92d9dbb908e26c80422fc             체험관광               11141     충북   \n",
       "8159  65e92d9dbb908e26c80422fd            레저스포츠               60623     충북   \n",
       "\n",
       "      std_year  std_month  std_year_month season  \n",
       "0         2020          1          202001     겨울  \n",
       "1         2020          2          202002     겨울  \n",
       "2         2020          3          202003      봄  \n",
       "3         2020          4          202004      봄  \n",
       "4         2020          5          202005      봄  \n",
       "...        ...        ...             ...    ...  \n",
       "8155      2023         12          202312     겨울  \n",
       "8156      2023         12          202312     겨울  \n",
       "8157      2023         12          202312     겨울  \n",
       "8158      2023         12          202312     겨울  \n",
       "8159      2023         12          202312     겨울  \n",
       "\n",
       "[8160 rows x 8 columns]"
      ]
     },
     "execution_count": 18,
     "metadata": {},
     "output_type": "execute_result"
    }
   ],
   "source": [
    "df_ksearch_date"
   ]
  },
  {
   "cell_type": "code",
   "execution_count": 19,
   "id": "784fdd4e-a5e0-4214-8b80-8bfa9213ac18",
   "metadata": {},
   "outputs": [],
   "source": [
    "df_ksearch_date = df_ksearch_date.query('destination_type != \"전체\"')\n",
    "df_Nvisitors_Date = df_Nvisitors_Date.query('industry_major_cate != \"전체\"')"
   ]
  },
  {
   "cell_type": "code",
   "execution_count": 20,
   "id": "30c4d104-7719-47e3-ab6c-4dd29ca67024",
   "metadata": {},
   "outputs": [],
   "source": [
    "# 계절별 데이터 확인\n",
    "df_ksearch_winter = df_ksearch_date.query('season == \"겨울\"')\n",
    "df_ksearch_spring = df_ksearch_date.query('season == \"봄\"')\n",
    "df_ksearch_summer = df_ksearch_date.query('season == \"여름\"')\n",
    "df_ksearch_fall = df_ksearch_date.query('season == \"가을\"')"
   ]
  },
  {
   "cell_type": "markdown",
   "id": "fe644c03-0ca1-4ecf-8404-adfc9e710365",
   "metadata": {},
   "source": [
    "#### 각 계절별 카테고리 검색량/소비량 중앙값(median) 비교 그래프\n",
    "- 각 검색량/소비량 데이터가 정규분포를 따르지 않으므로 평균값의 비교는 적절하지 않다고 판단. 중앙값 이용"
   ]
  },
  {
   "cell_type": "code",
   "execution_count": 35,
   "id": "026ced2f-f8e9-4a52-8f81-0c91dc163184",
   "metadata": {},
   "outputs": [
    {
     "data": {
      "text/html": [
       "<div>\n",
       "<style scoped>\n",
       "    .dataframe tbody tr th:only-of-type {\n",
       "        vertical-align: middle;\n",
       "    }\n",
       "\n",
       "    .dataframe tbody tr th {\n",
       "        vertical-align: top;\n",
       "    }\n",
       "\n",
       "    .dataframe thead th {\n",
       "        text-align: right;\n",
       "    }\n",
       "</style>\n",
       "<table border=\"1\" class=\"dataframe\">\n",
       "  <thead>\n",
       "    <tr style=\"text-align: right;\">\n",
       "      <th>season</th>\n",
       "      <th>가을</th>\n",
       "      <th>겨울</th>\n",
       "      <th>봄</th>\n",
       "      <th>여름</th>\n",
       "    </tr>\n",
       "    <tr>\n",
       "      <th>destination_type</th>\n",
       "      <th></th>\n",
       "      <th></th>\n",
       "      <th></th>\n",
       "      <th></th>\n",
       "    </tr>\n",
       "  </thead>\n",
       "  <tbody>\n",
       "    <tr>\n",
       "      <th>기타관광</th>\n",
       "      <td>184865.0</td>\n",
       "      <td>136141.0</td>\n",
       "      <td>148628.0</td>\n",
       "      <td>175070.5</td>\n",
       "    </tr>\n",
       "    <tr>\n",
       "      <th>레저스포츠</th>\n",
       "      <td>64666.5</td>\n",
       "      <td>37991.0</td>\n",
       "      <td>55277.0</td>\n",
       "      <td>63686.5</td>\n",
       "    </tr>\n",
       "    <tr>\n",
       "      <th>문화관광</th>\n",
       "      <td>147305.0</td>\n",
       "      <td>92139.5</td>\n",
       "      <td>112278.0</td>\n",
       "      <td>141512.0</td>\n",
       "    </tr>\n",
       "    <tr>\n",
       "      <th>쇼핑</th>\n",
       "      <td>111129.5</td>\n",
       "      <td>83361.5</td>\n",
       "      <td>81935.0</td>\n",
       "      <td>94511.0</td>\n",
       "    </tr>\n",
       "    <tr>\n",
       "      <th>숙박</th>\n",
       "      <td>169229.5</td>\n",
       "      <td>116849.5</td>\n",
       "      <td>127977.5</td>\n",
       "      <td>187096.5</td>\n",
       "    </tr>\n",
       "    <tr>\n",
       "      <th>역사관광</th>\n",
       "      <td>52178.5</td>\n",
       "      <td>33610.0</td>\n",
       "      <td>45328.0</td>\n",
       "      <td>43682.0</td>\n",
       "    </tr>\n",
       "    <tr>\n",
       "      <th>음식</th>\n",
       "      <td>519853.0</td>\n",
       "      <td>379345.0</td>\n",
       "      <td>462935.0</td>\n",
       "      <td>548095.0</td>\n",
       "    </tr>\n",
       "    <tr>\n",
       "      <th>자연관광</th>\n",
       "      <td>99406.0</td>\n",
       "      <td>60219.5</td>\n",
       "      <td>71325.0</td>\n",
       "      <td>97895.0</td>\n",
       "    </tr>\n",
       "    <tr>\n",
       "      <th>체험관광</th>\n",
       "      <td>7361.5</td>\n",
       "      <td>5201.0</td>\n",
       "      <td>6635.0</td>\n",
       "      <td>7429.0</td>\n",
       "    </tr>\n",
       "  </tbody>\n",
       "</table>\n",
       "</div>"
      ],
      "text/plain": [
       "season                  가을        겨울         봄        여름\n",
       "destination_type                                        \n",
       "기타관광              184865.0  136141.0  148628.0  175070.5\n",
       "레저스포츠              64666.5   37991.0   55277.0   63686.5\n",
       "문화관광              147305.0   92139.5  112278.0  141512.0\n",
       "쇼핑                111129.5   83361.5   81935.0   94511.0\n",
       "숙박                169229.5  116849.5  127977.5  187096.5\n",
       "역사관광               52178.5   33610.0   45328.0   43682.0\n",
       "음식                519853.0  379345.0  462935.0  548095.0\n",
       "자연관광               99406.0   60219.5   71325.0   97895.0\n",
       "체험관광                7361.5    5201.0    6635.0    7429.0"
      ]
     },
     "execution_count": 35,
     "metadata": {},
     "output_type": "execute_result"
    }
   ],
   "source": [
    "grouped = df_ksearch_date.groupby(['destination_type', 'season'])\n",
    "cate_season_median = grouped['destination_search'].median().unstack()\n",
    "cate_season_median"
   ]
  },
  {
   "cell_type": "code",
   "execution_count": 22,
   "id": "5dcdc599-3a1e-4e80-b6d4-87bc97e7cb84",
   "metadata": {},
   "outputs": [
    {
     "data": {
      "text/html": [
       "<div>\n",
       "<style scoped>\n",
       "    .dataframe tbody tr th:only-of-type {\n",
       "        vertical-align: middle;\n",
       "    }\n",
       "\n",
       "    .dataframe tbody tr th {\n",
       "        vertical-align: top;\n",
       "    }\n",
       "\n",
       "    .dataframe thead th {\n",
       "        text-align: right;\n",
       "    }\n",
       "</style>\n",
       "<table border=\"1\" class=\"dataframe\">\n",
       "  <thead>\n",
       "    <tr style=\"text-align: right;\">\n",
       "      <th>season</th>\n",
       "      <th>가을</th>\n",
       "      <th>겨울</th>\n",
       "      <th>봄</th>\n",
       "      <th>여름</th>\n",
       "    </tr>\n",
       "    <tr>\n",
       "      <th>industry_major_cate</th>\n",
       "      <th></th>\n",
       "      <th></th>\n",
       "      <th></th>\n",
       "      <th></th>\n",
       "    </tr>\n",
       "  </thead>\n",
       "  <tbody>\n",
       "    <tr>\n",
       "      <th>쇼핑업</th>\n",
       "      <td>27257214.5</td>\n",
       "      <td>22564068.5</td>\n",
       "      <td>25750618.5</td>\n",
       "      <td>23695040.5</td>\n",
       "    </tr>\n",
       "    <tr>\n",
       "      <th>숙박업</th>\n",
       "      <td>4730802.5</td>\n",
       "      <td>4057502.5</td>\n",
       "      <td>3871148.5</td>\n",
       "      <td>5202556.5</td>\n",
       "    </tr>\n",
       "    <tr>\n",
       "      <th>식음료업</th>\n",
       "      <td>52588623.5</td>\n",
       "      <td>42003533.0</td>\n",
       "      <td>49524472.5</td>\n",
       "      <td>54377820.0</td>\n",
       "    </tr>\n",
       "    <tr>\n",
       "      <th>여가서비스업</th>\n",
       "      <td>9336731.0</td>\n",
       "      <td>5334538.0</td>\n",
       "      <td>8816662.0</td>\n",
       "      <td>9482516.0</td>\n",
       "    </tr>\n",
       "    <tr>\n",
       "      <th>여행업</th>\n",
       "      <td>28529.0</td>\n",
       "      <td>22598.0</td>\n",
       "      <td>26167.0</td>\n",
       "      <td>34845.0</td>\n",
       "    </tr>\n",
       "    <tr>\n",
       "      <th>운송업</th>\n",
       "      <td>162617.0</td>\n",
       "      <td>91903.0</td>\n",
       "      <td>130944.0</td>\n",
       "      <td>146063.5</td>\n",
       "    </tr>\n",
       "  </tbody>\n",
       "</table>\n",
       "</div>"
      ],
      "text/plain": [
       "season                       가을          겨울           봄          여름\n",
       "industry_major_cate                                                \n",
       "쇼핑업                  27257214.5  22564068.5  25750618.5  23695040.5\n",
       "숙박업                   4730802.5   4057502.5   3871148.5   5202556.5\n",
       "식음료업                 52588623.5  42003533.0  49524472.5  54377820.0\n",
       "여가서비스업                9336731.0   5334538.0   8816662.0   9482516.0\n",
       "여행업                     28529.0     22598.0     26167.0     34845.0\n",
       "운송업                    162617.0     91903.0    130944.0    146063.5"
      ]
     },
     "execution_count": 22,
     "metadata": {},
     "output_type": "execute_result"
    }
   ],
   "source": [
    "grouped = df_Nvisitors_Date.groupby(['industry_major_cate', 'season'])\n",
    "df_Nvisitors_median = grouped['consumption_amount'].median().unstack()\n",
    "df_Nvisitors_median"
   ]
  },
  {
   "cell_type": "code",
   "execution_count": 23,
   "id": "1dee06e0-01aa-4936-ba30-929fb58f21d6",
   "metadata": {},
   "outputs": [
    {
     "data": {
      "text/plain": [
       "Text(0.5, 1.0, '계절별 카테고리 검색량 중앙값')"
      ]
     },
     "execution_count": 23,
     "metadata": {},
     "output_type": "execute_result"
    },
    {
     "data": {
      "image/png": "[encoded data removed]",
      "text/plain": [
       "<Figure size 640x480 with 1 Axes>"
      ]
     },
     "metadata": {},
     "output_type": "display_data"
    }
   ],
   "source": [
    "cate_season_median.plot(kind='bar')\n",
    "plt.title(\"계절별 카테고리 검색량 중앙값\")"
   ]
  },
  {
   "cell_type": "code",
   "execution_count": 24,
   "id": "c50d5bd8-0a14-475d-8093-bd0cbcd61b37",
   "metadata": {},
   "outputs": [
    {
     "data": {
      "text/plain": [
       "Text(0.5, 1.0, '계절별 카테고리 소비량 중앙값')"
      ]
     },
     "execution_count": 24,
     "metadata": {},
     "output_type": "execute_result"
    },
    {
     "data": {
      "image/png": "[encoded data removed]",
      "text/plain": [
       "<Figure size 640x480 with 1 Axes>"
      ]
     },
     "metadata": {},
     "output_type": "display_data"
    }
   ],
   "source": [
    "df_Nvisitors_median.plot(kind='bar')\n",
    "plt.title(\"계절별 카테고리 소비량 중앙값\")"
   ]
  },
  {
   "cell_type": "markdown",
   "id": "a4f1438a-d430-45a1-9d18-eb3e5faaec8c",
   "metadata": {},
   "source": [
    "- 계절 전체적으로 겨울의 검색량이 적고, 가을의 검색량이 많다.   --> 가을에 여행을 많이 가고 겨울에는 비교적 적게 간다.\n",
    "- 카테고리 중 음식(식음료업)의 검색량이 가장 많고, 소비량도 가장 많다.\n",
    "- 레저스포츠의 경우 전체 계절 중 여름에 검색량이 많을 것으로 예상했으나 가을과 비슷함.\n",
    "- 숙박과 음식의 경우 가을보다 여름의 검색량이 더 많다.\n",
    "- 체험관광과 역사관광의 경우 선호도가 떨어진다.\n",
    "- 쇼핑업은 가을에, 식음료업은 여름에 선호도가 높다.\n",
    "- 전략 제안 : 사용자가 지역 검색 시, 지역 맛집 추천을 우선으로 한다면 어떨까? "
   ]
  },
  {
   "cell_type": "markdown",
   "id": "f6f7fce7-6ef7-47a0-aa7d-af12b486259e",
   "metadata": {
    "jp-MarkdownHeadingCollapsed": true
   },
   "source": [
    "### 제안 2 : 지역별 여행 트렌드 선호도 분석"
   ]
  },
  {
   "cell_type": "markdown",
   "id": "96914eb0-4dd6-40f3-a788-1f2b69831518",
   "metadata": {},
   "source": [
    "- 지역별 카테고리 방문자 선호도 비교: 트렌드 검색량 데이터 이용\n",
    "- 해당 트렌드(카테고리)에 대한 검색량을 비교하여 선호도를 분석할 수 있습니다."
   ]
  },
  {
   "cell_type": "code",
   "execution_count": 25,
   "id": "687fcaa0-f0af-4359-9439-951644793e50",
   "metadata": {},
   "outputs": [
    {
     "data": {
      "text/html": [
       "<div>\n",
       "<style scoped>\n",
       "    .dataframe tbody tr th:only-of-type {\n",
       "        vertical-align: middle;\n",
       "    }\n",
       "\n",
       "    .dataframe tbody tr th {\n",
       "        vertical-align: top;\n",
       "    }\n",
       "\n",
       "    .dataframe thead th {\n",
       "        text-align: right;\n",
       "    }\n",
       "</style>\n",
       "<table border=\"1\" class=\"dataframe\">\n",
       "  <thead>\n",
       "    <tr style=\"text-align: right;\">\n",
       "      <th></th>\n",
       "      <th>_id</th>\n",
       "      <th>region</th>\n",
       "      <th>std_year_month</th>\n",
       "      <th>std_year</th>\n",
       "      <th>std_month</th>\n",
       "      <th>tour_trend</th>\n",
       "      <th>num_mention</th>\n",
       "    </tr>\n",
       "  </thead>\n",
       "  <tbody>\n",
       "    <tr>\n",
       "      <th>0</th>\n",
       "      <td>65e92ddfbb908e26c804393d</td>\n",
       "      <td>강원</td>\n",
       "      <td>202007</td>\n",
       "      <td>2020</td>\n",
       "      <td>7</td>\n",
       "      <td>레포츠</td>\n",
       "      <td>58868</td>\n",
       "    </tr>\n",
       "    <tr>\n",
       "      <th>1</th>\n",
       "      <td>65e92ddfbb908e26c804393e</td>\n",
       "      <td>강원</td>\n",
       "      <td>202008</td>\n",
       "      <td>2020</td>\n",
       "      <td>8</td>\n",
       "      <td>레포츠</td>\n",
       "      <td>53624</td>\n",
       "    </tr>\n",
       "    <tr>\n",
       "      <th>2</th>\n",
       "      <td>65e92ddfbb908e26c804393f</td>\n",
       "      <td>강원</td>\n",
       "      <td>202006</td>\n",
       "      <td>2020</td>\n",
       "      <td>6</td>\n",
       "      <td>레포츠</td>\n",
       "      <td>49214</td>\n",
       "    </tr>\n",
       "    <tr>\n",
       "      <th>3</th>\n",
       "      <td>65e92ddfbb908e26c8043940</td>\n",
       "      <td>강원</td>\n",
       "      <td>202010</td>\n",
       "      <td>2020</td>\n",
       "      <td>10</td>\n",
       "      <td>레포츠</td>\n",
       "      <td>47223</td>\n",
       "    </tr>\n",
       "    <tr>\n",
       "      <th>4</th>\n",
       "      <td>65e92ddfbb908e26c8043941</td>\n",
       "      <td>강원</td>\n",
       "      <td>202007</td>\n",
       "      <td>2020</td>\n",
       "      <td>7</td>\n",
       "      <td>휴식/힐링</td>\n",
       "      <td>40740</td>\n",
       "    </tr>\n",
       "    <tr>\n",
       "      <th>...</th>\n",
       "      <td>...</td>\n",
       "      <td>...</td>\n",
       "      <td>...</td>\n",
       "      <td>...</td>\n",
       "      <td>...</td>\n",
       "      <td>...</td>\n",
       "      <td>...</td>\n",
       "    </tr>\n",
       "    <tr>\n",
       "      <th>4075</th>\n",
       "      <td>65e92de0bb908e26c8044928</td>\n",
       "      <td>충북</td>\n",
       "      <td>202301</td>\n",
       "      <td>2023</td>\n",
       "      <td>1</td>\n",
       "      <td>체험</td>\n",
       "      <td>868</td>\n",
       "    </tr>\n",
       "    <tr>\n",
       "      <th>4076</th>\n",
       "      <td>65e92de0bb908e26c8044929</td>\n",
       "      <td>충북</td>\n",
       "      <td>202302</td>\n",
       "      <td>2023</td>\n",
       "      <td>2</td>\n",
       "      <td>미식</td>\n",
       "      <td>843</td>\n",
       "    </tr>\n",
       "    <tr>\n",
       "      <th>4077</th>\n",
       "      <td>65e92de0bb908e26c804492a</td>\n",
       "      <td>충북</td>\n",
       "      <td>202312</td>\n",
       "      <td>2023</td>\n",
       "      <td>12</td>\n",
       "      <td>미식</td>\n",
       "      <td>832</td>\n",
       "    </tr>\n",
       "    <tr>\n",
       "      <th>4078</th>\n",
       "      <td>65e92de0bb908e26c804492b</td>\n",
       "      <td>충북</td>\n",
       "      <td>202311</td>\n",
       "      <td>2023</td>\n",
       "      <td>11</td>\n",
       "      <td>미식</td>\n",
       "      <td>797</td>\n",
       "    </tr>\n",
       "    <tr>\n",
       "      <th>4079</th>\n",
       "      <td>65e92de0bb908e26c804492c</td>\n",
       "      <td>충북</td>\n",
       "      <td>202301</td>\n",
       "      <td>2023</td>\n",
       "      <td>1</td>\n",
       "      <td>미식</td>\n",
       "      <td>794</td>\n",
       "    </tr>\n",
       "  </tbody>\n",
       "</table>\n",
       "<p>4080 rows × 7 columns</p>\n",
       "</div>"
      ],
      "text/plain": [
       "                           _id region  std_year_month  std_year  std_month  \\\n",
       "0     65e92ddfbb908e26c804393d     강원          202007      2020          7   \n",
       "1     65e92ddfbb908e26c804393e     강원          202008      2020          8   \n",
       "2     65e92ddfbb908e26c804393f     강원          202006      2020          6   \n",
       "3     65e92ddfbb908e26c8043940     강원          202010      2020         10   \n",
       "4     65e92ddfbb908e26c8043941     강원          202007      2020          7   \n",
       "...                        ...    ...             ...       ...        ...   \n",
       "4075  65e92de0bb908e26c8044928     충북          202301      2023          1   \n",
       "4076  65e92de0bb908e26c8044929     충북          202302      2023          2   \n",
       "4077  65e92de0bb908e26c804492a     충북          202312      2023         12   \n",
       "4078  65e92de0bb908e26c804492b     충북          202311      2023         11   \n",
       "4079  65e92de0bb908e26c804492c     충북          202301      2023          1   \n",
       "\n",
       "     tour_trend  num_mention  \n",
       "0           레포츠        58868  \n",
       "1           레포츠        53624  \n",
       "2           레포츠        49214  \n",
       "3           레포츠        47223  \n",
       "4         휴식/힐링        40740  \n",
       "...         ...          ...  \n",
       "4075         체험          868  \n",
       "4076         미식          843  \n",
       "4077         미식          832  \n",
       "4078         미식          797  \n",
       "4079         미식          794  \n",
       "\n",
       "[4080 rows x 7 columns]"
      ]
     },
     "execution_count": 25,
     "metadata": {},
     "output_type": "execute_result"
    }
   ],
   "source": [
    "df_search_trend"
   ]
  },
  {
   "cell_type": "code",
   "execution_count": 26,
   "id": "b772ffa1-8a84-4a03-96bb-46023ec851e3",
   "metadata": {
    "scrolled": true
   },
   "outputs": [
    {
     "data": {
      "text/html": [
       "<div>\n",
       "<style scoped>\n",
       "    .dataframe tbody tr th:only-of-type {\n",
       "        vertical-align: middle;\n",
       "    }\n",
       "\n",
       "    .dataframe tbody tr th {\n",
       "        vertical-align: top;\n",
       "    }\n",
       "\n",
       "    .dataframe thead th {\n",
       "        text-align: right;\n",
       "    }\n",
       "</style>\n",
       "<table border=\"1\" class=\"dataframe\">\n",
       "  <thead>\n",
       "    <tr style=\"text-align: right;\">\n",
       "      <th>tour_trend</th>\n",
       "      <th>기타</th>\n",
       "      <th>레포츠</th>\n",
       "      <th>미식</th>\n",
       "      <th>체험</th>\n",
       "      <th>휴식/힐링</th>\n",
       "    </tr>\n",
       "    <tr>\n",
       "      <th>region</th>\n",
       "      <th></th>\n",
       "      <th></th>\n",
       "      <th></th>\n",
       "      <th></th>\n",
       "      <th></th>\n",
       "    </tr>\n",
       "  </thead>\n",
       "  <tbody>\n",
       "    <tr>\n",
       "      <th>강원</th>\n",
       "      <td>7998.5</td>\n",
       "      <td>41748.0</td>\n",
       "      <td>2773.0</td>\n",
       "      <td>2998.5</td>\n",
       "      <td>31907.0</td>\n",
       "    </tr>\n",
       "    <tr>\n",
       "      <th>경기</th>\n",
       "      <td>18185.5</td>\n",
       "      <td>59539.5</td>\n",
       "      <td>6161.0</td>\n",
       "      <td>5368.5</td>\n",
       "      <td>61038.0</td>\n",
       "    </tr>\n",
       "    <tr>\n",
       "      <th>경남</th>\n",
       "      <td>5371.0</td>\n",
       "      <td>26023.5</td>\n",
       "      <td>1425.5</td>\n",
       "      <td>2997.5</td>\n",
       "      <td>20501.5</td>\n",
       "    </tr>\n",
       "    <tr>\n",
       "      <th>경북</th>\n",
       "      <td>5084.0</td>\n",
       "      <td>19141.0</td>\n",
       "      <td>1397.0</td>\n",
       "      <td>3417.5</td>\n",
       "      <td>18057.5</td>\n",
       "    </tr>\n",
       "    <tr>\n",
       "      <th>광주</th>\n",
       "      <td>1186.0</td>\n",
       "      <td>2701.0</td>\n",
       "      <td>544.5</td>\n",
       "      <td>308.0</td>\n",
       "      <td>3696.0</td>\n",
       "    </tr>\n",
       "    <tr>\n",
       "      <th>대구</th>\n",
       "      <td>2991.0</td>\n",
       "      <td>6739.5</td>\n",
       "      <td>1851.5</td>\n",
       "      <td>656.0</td>\n",
       "      <td>9156.5</td>\n",
       "    </tr>\n",
       "    <tr>\n",
       "      <th>대전</th>\n",
       "      <td>1483.0</td>\n",
       "      <td>3488.5</td>\n",
       "      <td>1000.5</td>\n",
       "      <td>430.0</td>\n",
       "      <td>4771.0</td>\n",
       "    </tr>\n",
       "    <tr>\n",
       "      <th>부산</th>\n",
       "      <td>30374.0</td>\n",
       "      <td>20024.0</td>\n",
       "      <td>5187.5</td>\n",
       "      <td>1853.5</td>\n",
       "      <td>29445.0</td>\n",
       "    </tr>\n",
       "    <tr>\n",
       "      <th>서울</th>\n",
       "      <td>24713.0</td>\n",
       "      <td>38781.5</td>\n",
       "      <td>11638.5</td>\n",
       "      <td>3197.0</td>\n",
       "      <td>60961.0</td>\n",
       "    </tr>\n",
       "    <tr>\n",
       "      <th>세종</th>\n",
       "      <td>255.0</td>\n",
       "      <td>534.0</td>\n",
       "      <td>82.5</td>\n",
       "      <td>108.5</td>\n",
       "      <td>936.0</td>\n",
       "    </tr>\n",
       "    <tr>\n",
       "      <th>울산</th>\n",
       "      <td>1026.0</td>\n",
       "      <td>3939.5</td>\n",
       "      <td>512.0</td>\n",
       "      <td>457.5</td>\n",
       "      <td>4162.5</td>\n",
       "    </tr>\n",
       "    <tr>\n",
       "      <th>인천</th>\n",
       "      <td>5002.5</td>\n",
       "      <td>11228.5</td>\n",
       "      <td>1831.0</td>\n",
       "      <td>1339.0</td>\n",
       "      <td>13031.5</td>\n",
       "    </tr>\n",
       "    <tr>\n",
       "      <th>전남</th>\n",
       "      <td>5353.5</td>\n",
       "      <td>17274.5</td>\n",
       "      <td>1186.0</td>\n",
       "      <td>3305.5</td>\n",
       "      <td>17874.5</td>\n",
       "    </tr>\n",
       "    <tr>\n",
       "      <th>전북</th>\n",
       "      <td>2948.0</td>\n",
       "      <td>9945.5</td>\n",
       "      <td>887.5</td>\n",
       "      <td>2199.0</td>\n",
       "      <td>9592.0</td>\n",
       "    </tr>\n",
       "    <tr>\n",
       "      <th>제주</th>\n",
       "      <td>40878.0</td>\n",
       "      <td>14939.0</td>\n",
       "      <td>2551.0</td>\n",
       "      <td>3747.0</td>\n",
       "      <td>21603.0</td>\n",
       "    </tr>\n",
       "    <tr>\n",
       "      <th>충남</th>\n",
       "      <td>3075.0</td>\n",
       "      <td>14961.5</td>\n",
       "      <td>1310.0</td>\n",
       "      <td>2578.5</td>\n",
       "      <td>13534.0</td>\n",
       "    </tr>\n",
       "    <tr>\n",
       "      <th>충북</th>\n",
       "      <td>1862.5</td>\n",
       "      <td>10996.5</td>\n",
       "      <td>663.5</td>\n",
       "      <td>1111.0</td>\n",
       "      <td>9040.0</td>\n",
       "    </tr>\n",
       "  </tbody>\n",
       "</table>\n",
       "</div>"
      ],
      "text/plain": [
       "tour_trend       기타      레포츠       미식      체험    휴식/힐링\n",
       "region                                                \n",
       "강원           7998.5  41748.0   2773.0  2998.5  31907.0\n",
       "경기          18185.5  59539.5   6161.0  5368.5  61038.0\n",
       "경남           5371.0  26023.5   1425.5  2997.5  20501.5\n",
       "경북           5084.0  19141.0   1397.0  3417.5  18057.5\n",
       "광주           1186.0   2701.0    544.5   308.0   3696.0\n",
       "대구           2991.0   6739.5   1851.5   656.0   9156.5\n",
       "대전           1483.0   3488.5   1000.5   430.0   4771.0\n",
       "부산          30374.0  20024.0   5187.5  1853.5  29445.0\n",
       "서울          24713.0  38781.5  11638.5  3197.0  60961.0\n",
       "세종            255.0    534.0     82.5   108.5    936.0\n",
       "울산           1026.0   3939.5    512.0   457.5   4162.5\n",
       "인천           5002.5  11228.5   1831.0  1339.0  13031.5\n",
       "전남           5353.5  17274.5   1186.0  3305.5  17874.5\n",
       "전북           2948.0   9945.5    887.5  2199.0   9592.0\n",
       "제주          40878.0  14939.0   2551.0  3747.0  21603.0\n",
       "충남           3075.0  14961.5   1310.0  2578.5  13534.0\n",
       "충북           1862.5  10996.5    663.5  1111.0   9040.0"
      ]
     },
     "execution_count": 26,
     "metadata": {},
     "output_type": "execute_result"
    }
   ],
   "source": [
    "grouped = df_search_trend.groupby(['region', 'tour_trend'])\n",
    "trend_median = grouped['num_mention'].median().unstack()\n",
    "trend_median"
   ]
  },
  {
   "cell_type": "code",
   "execution_count": 27,
   "id": "ef5582b5-c414-4012-8006-012185ae049d",
   "metadata": {},
   "outputs": [
    {
     "data": {
      "text/plain": [
       "Text(0.5, 1.0, '지역별 카테고리 검색량 평균')"
      ]
     },
     "execution_count": 27,
     "metadata": {},
     "output_type": "execute_result"
    },
    {
     "data": {
      "image/png": "[encoded data removed]",
      "text/plain": [
       "<Figure size 640x480 with 1 Axes>"
      ]
     },
     "metadata": {},
     "output_type": "display_data"
    }
   ],
   "source": [
    "trend_median.plot(kind='bar')\n",
    "plt.title(\"지역별 카테고리 검색량 평균\")"
   ]
  },
  {
   "cell_type": "markdown",
   "id": "9962a596-9a10-43e0-90c0-48d8d719ede1",
   "metadata": {},
   "source": [
    "- 광주, 대구, 대전, 세종, 울산 의 경우 검색량이 적음 -> 여행 지역으로서의 선호도가 떨어짐.\n",
    "- 전체적으로 레포츠와 휴식/힐링의 검색량이 높게 나타남.\n",
    "- 서울, 경기, 강원, 부산, 제주 지역의 선호도가 높음\n",
    "- 부산과 제주는 기타 카테고리의 선호도가 가장 높게 나타남.\n",
    "- 서울, 경기 지역에서 휴식/힐링 카테고리가 높게 나타나는 점이 의외임. -> 말 그대로 휴식/힐링이 아니라 숙소 검색까지 합친 것이라면 이해됨"
   ]
  },
  {
   "cell_type": "markdown",
   "id": "aa3e0848-3f9e-4ae0-b2f4-f60ba9931411",
   "metadata": {},
   "source": [
    "- 지역마다의 검색량과 방문자 선호도 분석:\n",
    "- 데이터셋에 있는 지역 정보를 기반으로 지역별 검색량과 방문자 수를 비교하여 지역마다의 선호도와 관심사를 파악할 수 있습니다."
   ]
  },
  {
   "cell_type": "code",
   "execution_count": 28,
   "id": "50e62bdc-fddd-473d-93e7-94d0aeaf9ed1",
   "metadata": {
    "scrolled": true
   },
   "outputs": [
    {
     "data": {
      "text/html": [
       "<div>\n",
       "<style scoped>\n",
       "    .dataframe tbody tr th:only-of-type {\n",
       "        vertical-align: middle;\n",
       "    }\n",
       "\n",
       "    .dataframe tbody tr th {\n",
       "        vertical-align: top;\n",
       "    }\n",
       "\n",
       "    .dataframe thead th {\n",
       "        text-align: right;\n",
       "    }\n",
       "</style>\n",
       "<table border=\"1\" class=\"dataframe\">\n",
       "  <thead>\n",
       "    <tr style=\"text-align: right;\">\n",
       "      <th></th>\n",
       "      <th>destination_search</th>\n",
       "    </tr>\n",
       "    <tr>\n",
       "      <th>region</th>\n",
       "      <th></th>\n",
       "    </tr>\n",
       "  </thead>\n",
       "  <tbody>\n",
       "    <tr>\n",
       "      <th>강원</th>\n",
       "      <td>124018490</td>\n",
       "    </tr>\n",
       "    <tr>\n",
       "      <th>경기</th>\n",
       "      <td>475468913</td>\n",
       "    </tr>\n",
       "    <tr>\n",
       "      <th>경남</th>\n",
       "      <td>77370296</td>\n",
       "    </tr>\n",
       "    <tr>\n",
       "      <th>경북</th>\n",
       "      <td>71565241</td>\n",
       "    </tr>\n",
       "    <tr>\n",
       "      <th>광주</th>\n",
       "      <td>22672796</td>\n",
       "    </tr>\n",
       "    <tr>\n",
       "      <th>대구</th>\n",
       "      <td>43530309</td>\n",
       "    </tr>\n",
       "    <tr>\n",
       "      <th>대전</th>\n",
       "      <td>32832027</td>\n",
       "    </tr>\n",
       "    <tr>\n",
       "      <th>부산</th>\n",
       "      <td>82016182</td>\n",
       "    </tr>\n",
       "    <tr>\n",
       "      <th>서울</th>\n",
       "      <td>242574722</td>\n",
       "    </tr>\n",
       "    <tr>\n",
       "      <th>세종</th>\n",
       "      <td>10289811</td>\n",
       "    </tr>\n",
       "    <tr>\n",
       "      <th>울산</th>\n",
       "      <td>21974386</td>\n",
       "    </tr>\n",
       "    <tr>\n",
       "      <th>인천</th>\n",
       "      <td>102321620</td>\n",
       "    </tr>\n",
       "    <tr>\n",
       "      <th>전남</th>\n",
       "      <td>55166061</td>\n",
       "    </tr>\n",
       "    <tr>\n",
       "      <th>전북</th>\n",
       "      <td>43987460</td>\n",
       "    </tr>\n",
       "    <tr>\n",
       "      <th>제주</th>\n",
       "      <td>68713836</td>\n",
       "    </tr>\n",
       "    <tr>\n",
       "      <th>충남</th>\n",
       "      <td>80209321</td>\n",
       "    </tr>\n",
       "    <tr>\n",
       "      <th>충북</th>\n",
       "      <td>50194369</td>\n",
       "    </tr>\n",
       "  </tbody>\n",
       "</table>\n",
       "</div>"
      ],
      "text/plain": [
       "        destination_search\n",
       "region                    \n",
       "강원               124018490\n",
       "경기               475468913\n",
       "경남                77370296\n",
       "경북                71565241\n",
       "광주                22672796\n",
       "대구                43530309\n",
       "대전                32832027\n",
       "부산                82016182\n",
       "서울               242574722\n",
       "세종                10289811\n",
       "울산                21974386\n",
       "인천               102321620\n",
       "전남                55166061\n",
       "전북                43987460\n",
       "제주                68713836\n",
       "충남                80209321\n",
       "충북                50194369"
      ]
     },
     "execution_count": 28,
     "metadata": {},
     "output_type": "execute_result"
    }
   ],
   "source": [
    "df_ksearch_sum = pd.pivot_table(data=df_ksearch_date[['destination_search', 'region']]\n",
    "               , index=['region'], values=['destination_search'], aggfunc= 'sum')\n",
    "df_ksearch_sum"
   ]
  },
  {
   "cell_type": "code",
   "execution_count": 29,
   "id": "a65474b2-e091-4b50-8174-84200215d8ac",
   "metadata": {
    "scrolled": true
   },
   "outputs": [
    {
     "data": {
      "text/html": [
       "<div>\n",
       "<style scoped>\n",
       "    .dataframe tbody tr th:only-of-type {\n",
       "        vertical-align: middle;\n",
       "    }\n",
       "\n",
       "    .dataframe tbody tr th {\n",
       "        vertical-align: top;\n",
       "    }\n",
       "\n",
       "    .dataframe thead th {\n",
       "        text-align: right;\n",
       "    }\n",
       "</style>\n",
       "<table border=\"1\" class=\"dataframe\">\n",
       "  <thead>\n",
       "    <tr style=\"text-align: right;\">\n",
       "      <th></th>\n",
       "      <th>consumption_amount</th>\n",
       "    </tr>\n",
       "    <tr>\n",
       "      <th>region</th>\n",
       "      <th></th>\n",
       "    </tr>\n",
       "  </thead>\n",
       "  <tbody>\n",
       "    <tr>\n",
       "      <th>강원</th>\n",
       "      <td>4908100260</td>\n",
       "    </tr>\n",
       "    <tr>\n",
       "      <th>경기</th>\n",
       "      <td>34914714219</td>\n",
       "    </tr>\n",
       "    <tr>\n",
       "      <th>경남</th>\n",
       "      <td>5771857494</td>\n",
       "    </tr>\n",
       "    <tr>\n",
       "      <th>경북</th>\n",
       "      <td>4654283535</td>\n",
       "    </tr>\n",
       "    <tr>\n",
       "      <th>광주</th>\n",
       "      <td>3537130531</td>\n",
       "    </tr>\n",
       "    <tr>\n",
       "      <th>대구</th>\n",
       "      <td>6567972396</td>\n",
       "    </tr>\n",
       "    <tr>\n",
       "      <th>대전</th>\n",
       "      <td>5160175157</td>\n",
       "    </tr>\n",
       "    <tr>\n",
       "      <th>부산</th>\n",
       "      <td>11162514886</td>\n",
       "    </tr>\n",
       "    <tr>\n",
       "      <th>서울</th>\n",
       "      <td>42920026910</td>\n",
       "    </tr>\n",
       "    <tr>\n",
       "      <th>세종</th>\n",
       "      <td>384225032</td>\n",
       "    </tr>\n",
       "    <tr>\n",
       "      <th>울산</th>\n",
       "      <td>2078380887</td>\n",
       "    </tr>\n",
       "    <tr>\n",
       "      <th>인천</th>\n",
       "      <td>6640478830</td>\n",
       "    </tr>\n",
       "    <tr>\n",
       "      <th>전남</th>\n",
       "      <td>3577527662</td>\n",
       "    </tr>\n",
       "    <tr>\n",
       "      <th>전북</th>\n",
       "      <td>2984365852</td>\n",
       "    </tr>\n",
       "    <tr>\n",
       "      <th>제주</th>\n",
       "      <td>4159168799</td>\n",
       "    </tr>\n",
       "    <tr>\n",
       "      <th>충남</th>\n",
       "      <td>4375691297</td>\n",
       "    </tr>\n",
       "    <tr>\n",
       "      <th>충북</th>\n",
       "      <td>3885181107</td>\n",
       "    </tr>\n",
       "  </tbody>\n",
       "</table>\n",
       "</div>"
      ],
      "text/plain": [
       "        consumption_amount\n",
       "region                    \n",
       "강원              4908100260\n",
       "경기             34914714219\n",
       "경남              5771857494\n",
       "경북              4654283535\n",
       "광주              3537130531\n",
       "대구              6567972396\n",
       "대전              5160175157\n",
       "부산             11162514886\n",
       "서울             42920026910\n",
       "세종               384225032\n",
       "울산              2078380887\n",
       "인천              6640478830\n",
       "전남              3577527662\n",
       "전북              2984365852\n",
       "제주              4159168799\n",
       "충남              4375691297\n",
       "충북              3885181107"
      ]
     },
     "execution_count": 29,
     "metadata": {},
     "output_type": "execute_result"
    }
   ],
   "source": [
    "df_Nvisitors_sum = pd.pivot_table(data=df_Nvisitors_Date[['consumption_amount', 'region']]\n",
    "               , index=['region'], values=['consumption_amount'], aggfunc= 'sum')\n",
    "df_Nvisitors_sum"
   ]
  },
  {
   "cell_type": "code",
   "execution_count": 30,
   "id": "2d7f7f4a-060b-4462-b4e7-d6429e0f0dff",
   "metadata": {},
   "outputs": [
    {
     "data": {
      "text/plain": [
       "Text(0.5, 1.0, '지역 검색량 총 수')"
      ]
     },
     "execution_count": 30,
     "metadata": {},
     "output_type": "execute_result"
    },
    {
     "data": {
      "image/png": "[encoded data removed]",
      "text/plain": [
       "<Figure size 640x480 with 1 Axes>"
      ]
     },
     "metadata": {},
     "output_type": "display_data"
    }
   ],
   "source": [
    "plt.plot(df_ksearch_sum)\n",
    "plt.title(\"지역 검색량 총 수\")"
   ]
  },
  {
   "cell_type": "code",
   "execution_count": 31,
   "id": "26fd7da5-2ac5-45b0-bb03-4cfb601d9cfb",
   "metadata": {},
   "outputs": [
    {
     "data": {
      "text/plain": [
       "Text(0.5, 1.0, '지역 방문객 소비량 총 수')"
      ]
     },
     "execution_count": 31,
     "metadata": {},
     "output_type": "execute_result"
    },
    {
     "data": {
      "image/png": "[encoded data removed]",
      "text/plain": [
       "<Figure size 640x480 with 1 Axes>"
      ]
     },
     "metadata": {},
     "output_type": "display_data"
    }
   ],
   "source": [
    "plt.plot(df_Nvisitors_sum)\n",
    "plt.title(\"지역 방문객 소비량 총 수\")"
   ]
  },
  {
   "cell_type": "markdown",
   "id": "bd134100-739a-43aa-9f3c-d4db8a0c559d",
   "metadata": {},
   "source": [
    "- 경기 지역의 검색량이 가장 높은 반면 지역 소비량은 서울이 가장 높다.\n",
    "- 선호도가 가장 낮은 지역 : 세종"
   ]
  },
  {
   "cell_type": "markdown",
   "id": "cf95df0f-b3fb-4d1d-be82-100e34555ec2",
   "metadata": {
    "jp-MarkdownHeadingCollapsed": true
   },
   "source": [
    "### 제안 3 : 연도별 여행 트렌드 선호도 분석"
   ]
  },
  {
   "cell_type": "markdown",
   "id": "cfb9ad92-fd8f-4193-923b-f76475ed3534",
   "metadata": {},
   "source": [
    "- 연도별 소비자 행동 분석\n",
    "- 문제 정의: 연도별로 소비자의 행동 변화를 파악하고 향후 전략에 반영할 수 있는 인사이트를 도출합니다.\n",
    "- 배경: 시간이 지남에 따라 사용자의 관심사와 행동이 변화하기 때문에, 효율적인 타겟팅을 위해 중요한 분석입니다.\n",
    "- 년도 및 월별 데이터를 활용하여 시계열 분석을 수행하여 어떤 여행 카테고리나 활동이 특정 시기에 더 인기가 있는지 예측할 수 있습니다."
   ]
  },
  {
   "cell_type": "code",
   "execution_count": 32,
   "id": "baecb5a0-f3c6-4d9c-840c-1046ab621019",
   "metadata": {},
   "outputs": [
    {
     "data": {
      "text/html": [
       "<div>\n",
       "<style scoped>\n",
       "    .dataframe tbody tr th:only-of-type {\n",
       "        vertical-align: middle;\n",
       "    }\n",
       "\n",
       "    .dataframe tbody tr th {\n",
       "        vertical-align: top;\n",
       "    }\n",
       "\n",
       "    .dataframe thead th {\n",
       "        text-align: right;\n",
       "    }\n",
       "</style>\n",
       "<table border=\"1\" class=\"dataframe\">\n",
       "  <thead>\n",
       "    <tr style=\"text-align: right;\">\n",
       "      <th></th>\n",
       "      <th>_id</th>\n",
       "      <th>region</th>\n",
       "      <th>std_year_month</th>\n",
       "      <th>std_year</th>\n",
       "      <th>std_month</th>\n",
       "      <th>tour_trend</th>\n",
       "      <th>num_mention</th>\n",
       "    </tr>\n",
       "  </thead>\n",
       "  <tbody>\n",
       "    <tr>\n",
       "      <th>0</th>\n",
       "      <td>65e92ddfbb908e26c804393d</td>\n",
       "      <td>강원</td>\n",
       "      <td>202007</td>\n",
       "      <td>2020</td>\n",
       "      <td>7</td>\n",
       "      <td>레포츠</td>\n",
       "      <td>58868</td>\n",
       "    </tr>\n",
       "    <tr>\n",
       "      <th>1</th>\n",
       "      <td>65e92ddfbb908e26c804393e</td>\n",
       "      <td>강원</td>\n",
       "      <td>202008</td>\n",
       "      <td>2020</td>\n",
       "      <td>8</td>\n",
       "      <td>레포츠</td>\n",
       "      <td>53624</td>\n",
       "    </tr>\n",
       "    <tr>\n",
       "      <th>2</th>\n",
       "      <td>65e92ddfbb908e26c804393f</td>\n",
       "      <td>강원</td>\n",
       "      <td>202006</td>\n",
       "      <td>2020</td>\n",
       "      <td>6</td>\n",
       "      <td>레포츠</td>\n",
       "      <td>49214</td>\n",
       "    </tr>\n",
       "    <tr>\n",
       "      <th>3</th>\n",
       "      <td>65e92ddfbb908e26c8043940</td>\n",
       "      <td>강원</td>\n",
       "      <td>202010</td>\n",
       "      <td>2020</td>\n",
       "      <td>10</td>\n",
       "      <td>레포츠</td>\n",
       "      <td>47223</td>\n",
       "    </tr>\n",
       "    <tr>\n",
       "      <th>4</th>\n",
       "      <td>65e92ddfbb908e26c8043941</td>\n",
       "      <td>강원</td>\n",
       "      <td>202007</td>\n",
       "      <td>2020</td>\n",
       "      <td>7</td>\n",
       "      <td>휴식/힐링</td>\n",
       "      <td>40740</td>\n",
       "    </tr>\n",
       "    <tr>\n",
       "      <th>...</th>\n",
       "      <td>...</td>\n",
       "      <td>...</td>\n",
       "      <td>...</td>\n",
       "      <td>...</td>\n",
       "      <td>...</td>\n",
       "      <td>...</td>\n",
       "      <td>...</td>\n",
       "    </tr>\n",
       "    <tr>\n",
       "      <th>4075</th>\n",
       "      <td>65e92de0bb908e26c8044928</td>\n",
       "      <td>충북</td>\n",
       "      <td>202301</td>\n",
       "      <td>2023</td>\n",
       "      <td>1</td>\n",
       "      <td>체험</td>\n",
       "      <td>868</td>\n",
       "    </tr>\n",
       "    <tr>\n",
       "      <th>4076</th>\n",
       "      <td>65e92de0bb908e26c8044929</td>\n",
       "      <td>충북</td>\n",
       "      <td>202302</td>\n",
       "      <td>2023</td>\n",
       "      <td>2</td>\n",
       "      <td>미식</td>\n",
       "      <td>843</td>\n",
       "    </tr>\n",
       "    <tr>\n",
       "      <th>4077</th>\n",
       "      <td>65e92de0bb908e26c804492a</td>\n",
       "      <td>충북</td>\n",
       "      <td>202312</td>\n",
       "      <td>2023</td>\n",
       "      <td>12</td>\n",
       "      <td>미식</td>\n",
       "      <td>832</td>\n",
       "    </tr>\n",
       "    <tr>\n",
       "      <th>4078</th>\n",
       "      <td>65e92de0bb908e26c804492b</td>\n",
       "      <td>충북</td>\n",
       "      <td>202311</td>\n",
       "      <td>2023</td>\n",
       "      <td>11</td>\n",
       "      <td>미식</td>\n",
       "      <td>797</td>\n",
       "    </tr>\n",
       "    <tr>\n",
       "      <th>4079</th>\n",
       "      <td>65e92de0bb908e26c804492c</td>\n",
       "      <td>충북</td>\n",
       "      <td>202301</td>\n",
       "      <td>2023</td>\n",
       "      <td>1</td>\n",
       "      <td>미식</td>\n",
       "      <td>794</td>\n",
       "    </tr>\n",
       "  </tbody>\n",
       "</table>\n",
       "<p>4080 rows × 7 columns</p>\n",
       "</div>"
      ],
      "text/plain": [
       "                           _id region  std_year_month  std_year  std_month  \\\n",
       "0     65e92ddfbb908e26c804393d     강원          202007      2020          7   \n",
       "1     65e92ddfbb908e26c804393e     강원          202008      2020          8   \n",
       "2     65e92ddfbb908e26c804393f     강원          202006      2020          6   \n",
       "3     65e92ddfbb908e26c8043940     강원          202010      2020         10   \n",
       "4     65e92ddfbb908e26c8043941     강원          202007      2020          7   \n",
       "...                        ...    ...             ...       ...        ...   \n",
       "4075  65e92de0bb908e26c8044928     충북          202301      2023          1   \n",
       "4076  65e92de0bb908e26c8044929     충북          202302      2023          2   \n",
       "4077  65e92de0bb908e26c804492a     충북          202312      2023         12   \n",
       "4078  65e92de0bb908e26c804492b     충북          202311      2023         11   \n",
       "4079  65e92de0bb908e26c804492c     충북          202301      2023          1   \n",
       "\n",
       "     tour_trend  num_mention  \n",
       "0           레포츠        58868  \n",
       "1           레포츠        53624  \n",
       "2           레포츠        49214  \n",
       "3           레포츠        47223  \n",
       "4         휴식/힐링        40740  \n",
       "...         ...          ...  \n",
       "4075         체험          868  \n",
       "4076         미식          843  \n",
       "4077         미식          832  \n",
       "4078         미식          797  \n",
       "4079         미식          794  \n",
       "\n",
       "[4080 rows x 7 columns]"
      ]
     },
     "execution_count": 32,
     "metadata": {},
     "output_type": "execute_result"
    }
   ],
   "source": [
    "df_search_trend"
   ]
  },
  {
   "cell_type": "code",
   "execution_count": 36,
   "id": "e9e94aad-1d38-4b07-a408-9978c7e55a67",
   "metadata": {},
   "outputs": [
    {
     "data": {
      "text/html": [
       "<div>\n",
       "<style scoped>\n",
       "    .dataframe tbody tr th:only-of-type {\n",
       "        vertical-align: middle;\n",
       "    }\n",
       "\n",
       "    .dataframe tbody tr th {\n",
       "        vertical-align: top;\n",
       "    }\n",
       "\n",
       "    .dataframe thead th {\n",
       "        text-align: right;\n",
       "    }\n",
       "</style>\n",
       "<table border=\"1\" class=\"dataframe\">\n",
       "  <thead>\n",
       "    <tr style=\"text-align: right;\">\n",
       "      <th>tour_trend</th>\n",
       "      <th>기타</th>\n",
       "      <th>레포츠</th>\n",
       "      <th>미식</th>\n",
       "      <th>체험</th>\n",
       "      <th>휴식/힐링</th>\n",
       "    </tr>\n",
       "    <tr>\n",
       "      <th>std_year</th>\n",
       "      <th></th>\n",
       "      <th></th>\n",
       "      <th></th>\n",
       "      <th></th>\n",
       "      <th></th>\n",
       "    </tr>\n",
       "  </thead>\n",
       "  <tbody>\n",
       "    <tr>\n",
       "      <th>2020</th>\n",
       "      <td>3586.0</td>\n",
       "      <td>10260.0</td>\n",
       "      <td>1166.5</td>\n",
       "      <td>1494.5</td>\n",
       "      <td>10519.5</td>\n",
       "    </tr>\n",
       "    <tr>\n",
       "      <th>2021</th>\n",
       "      <td>3093.0</td>\n",
       "      <td>11781.5</td>\n",
       "      <td>1216.5</td>\n",
       "      <td>1580.5</td>\n",
       "      <td>12266.5</td>\n",
       "    </tr>\n",
       "    <tr>\n",
       "      <th>2022</th>\n",
       "      <td>3888.0</td>\n",
       "      <td>13880.5</td>\n",
       "      <td>1517.0</td>\n",
       "      <td>2005.0</td>\n",
       "      <td>14415.0</td>\n",
       "    </tr>\n",
       "    <tr>\n",
       "      <th>2023</th>\n",
       "      <td>5403.5</td>\n",
       "      <td>17367.5</td>\n",
       "      <td>1888.5</td>\n",
       "      <td>2680.5</td>\n",
       "      <td>21022.5</td>\n",
       "    </tr>\n",
       "  </tbody>\n",
       "</table>\n",
       "</div>"
      ],
      "text/plain": [
       "tour_trend      기타      레포츠      미식      체험    휴식/힐링\n",
       "std_year                                            \n",
       "2020        3586.0  10260.0  1166.5  1494.5  10519.5\n",
       "2021        3093.0  11781.5  1216.5  1580.5  12266.5\n",
       "2022        3888.0  13880.5  1517.0  2005.0  14415.0\n",
       "2023        5403.5  17367.5  1888.5  2680.5  21022.5"
      ]
     },
     "execution_count": 36,
     "metadata": {},
     "output_type": "execute_result"
    }
   ],
   "source": [
    "# 연도별 중앙값\n",
    "grouped = df_search_trend.groupby(['std_year', 'tour_trend'])\n",
    "trend_median = grouped['num_mention'].median().unstack()\n",
    "trend_median"
   ]
  },
  {
   "cell_type": "code",
   "execution_count": 37,
   "id": "8688b94e-49c5-4614-aed3-5290cf132f1a",
   "metadata": {},
   "outputs": [
    {
     "data": {
      "text/plain": [
       "Text(0.5, 1.0, '연도별 여행 트렌드 검색량 중앙값')"
      ]
     },
     "execution_count": 37,
     "metadata": {},
     "output_type": "execute_result"
    },
    {
     "data": {
      "image/png": "[encoded data removed]",
      "text/plain": [
       "<Figure size 640x480 with 1 Axes>"
      ]
     },
     "metadata": {},
     "output_type": "display_data"
    }
   ],
   "source": [
    "trend_median.plot(kind='bar')\n",
    "plt.title(\"연도별 여행 트렌드 검색량 중앙값\")"
   ]
  },
  {
   "cell_type": "markdown",
   "id": "77eaa736-7597-41f5-a6fc-0f46131e66e6",
   "metadata": {},
   "source": [
    "- 해가 지날수록 여행에 대한 관심이 높아지고 있음.\n",
    "- 2024년엔 더 높아질 것으로 예상 됨.\n",
    "- 2020, 2021, 2022 년엔 레포츠와 휴식/힐링 카테고리의 검색량이 비슷했으나 2023년엔 휴식/힐링 카테고리의 선호도가 더 높아짐. --> \"호캉스\"라는 키워드가 떠오르기 시작한 시기라서 검색량이 증가한 것인지 추가 분석을 해볼 수 있겠음."
   ]
  },
  {
   "cell_type": "code",
   "execution_count": null,
   "id": "5a88b662-d1be-4b49-a384-9bdb3a5770ba",
   "metadata": {},
   "outputs": [],
   "source": []
  }
 ],
 "metadata": {
  "kernelspec": {
   "display_name": "Python 3 (ipykernel)",
   "language": "python",
   "name": "python3"
  },
  "language_info": {
   "codemirror_mode": {
    "name": "ipython",
    "version": 3
   },
   "file_extension": ".py",
   "mimetype": "text/x-python",
   "name": "python",
   "nbconvert_exporter": "python",
   "pygments_lexer": "ipython3",
   "version": "3.11.8"
  }
 },
 "nbformat": 4,
 "nbformat_minor": 5
}
