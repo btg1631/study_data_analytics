{
 "cells": [
  {
   "cell_type": "code",
   "execution_count": 1,
   "id": "1e497fee-e556-4749-aae2-9e5a88a09ae8",
   "metadata": {
    "collapsed": true,
    "jupyter": {
     "outputs_hidden": true
    }
   },
   "outputs": [
    {
     "name": "stdout",
     "output_type": "stream",
     "text": [
      "Reading package lists... Done\n",
      "Building dependency tree... Done\n",
      "Reading state information... Done\n",
      "fonts-nanum is already the newest version (20200506-1).\n",
      "0 upgraded, 0 newly installed, 0 to remove and 0 not upgraded.\n",
      "Font directories:\n",
      "\t/root/.local/share/fonts\n",
      "\t/usr/local/share/fonts\n",
      "\t/usr/share/fonts\n",
      "\t/root/.fonts\n",
      "\t/usr/share/fonts/truetype\n",
      "\t/usr/share/fonts/truetype/dejavu\n",
      "\t/usr/share/fonts/truetype/nanum\n",
      "/root/.local/share/fonts: skipping, no such directory\n",
      "/usr/local/share/fonts: caching, new cache contents: 0 fonts, 0 dirs\n",
      "/usr/share/fonts: caching, new cache contents: 0 fonts, 1 dirs\n",
      "/usr/share/fonts/truetype: caching, new cache contents: 0 fonts, 2 dirs\n",
      "/usr/share/fonts/truetype/dejavu: caching, new cache contents: 22 fonts, 0 dirs\n",
      "/usr/share/fonts/truetype/nanum: caching, new cache contents: 12 fonts, 0 dirs\n",
      "/root/.fonts: skipping, no such directory\n",
      "/usr/share/fonts/truetype: skipping, looped directory detected\n",
      "/usr/share/fonts/truetype/dejavu: skipping, looped directory detected\n",
      "/usr/share/fonts/truetype/nanum: skipping, looped directory detected\n",
      "/var/cache/fontconfig: cleaning cache directory\n",
      "/root/.cache/fontconfig: not cleaning non-existent cache directory\n",
      "/root/.fontconfig: not cleaning non-existent cache directory\n",
      "fc-cache: succeeded\n"
     ]
    }
   ],
   "source": [
    "# 한글 폰트 설치\n",
    "!apt-get install -y fonts-nanum\n",
    "!fc-cache -fv\n",
    "!rm ~/.cache/matplotlib -rf\n",
    "# 설치 후 colab 경우 Runtime > Restart session 필요"
   ]
  },
  {
   "cell_type": "code",
   "execution_count": 2,
   "id": "83ad26a5-ad6e-4eb5-ac82-515a1d6f27d2",
   "metadata": {},
   "outputs": [],
   "source": [
    "import pandas as pd\n",
    "import numpy as np\n",
    "import seaborn as sns\n",
    "import matplotlib.pyplot as plt\n",
    "import matplotlib as mpl\n",
    "\n",
    "mpl.rc('font', family='NanumBarunGothic') # 혹은 다른 설치한 Nanum 폰트 사용"
   ]
  },
  {
   "cell_type": "markdown",
   "id": "bbc95ffe-6fd7-4c55-bb25-af21564ec633",
   "metadata": {
    "jp-MarkdownHeadingCollapsed": true
   },
   "source": [
    "## data"
   ]
  },
  {
   "cell_type": "code",
   "execution_count": 3,
   "id": "1fb4d336-7605-4839-8651-a5cea76c4981",
   "metadata": {},
   "outputs": [],
   "source": [
    "df_ksearch_date = pd.read_csv(\"Keyword_search_by_date.csv\")\n",
    "df_Nvisitors_Date = pd.read_csv(\"Number_of_visitors_date.csv\")\n",
    "df_search_trend = pd.read_csv(\"Trend_search_date.csv\")"
   ]
  },
  {
   "cell_type": "code",
   "execution_count": 35,
   "id": "21b48de6-5cac-4f26-afe6-8e48d0842e70",
   "metadata": {},
   "outputs": [
    {
     "data": {
      "text/html": [
       "<div>\n",
       "<style scoped>\n",
       "    .dataframe tbody tr th:only-of-type {\n",
       "        vertical-align: middle;\n",
       "    }\n",
       "\n",
       "    .dataframe tbody tr th {\n",
       "        vertical-align: top;\n",
       "    }\n",
       "\n",
       "    .dataframe thead th {\n",
       "        text-align: right;\n",
       "    }\n",
       "</style>\n",
       "<table border=\"1\" class=\"dataframe\">\n",
       "  <thead>\n",
       "    <tr style=\"text-align: right;\">\n",
       "      <th></th>\n",
       "      <th>_id</th>\n",
       "      <th>destination_type</th>\n",
       "      <th>destination_search</th>\n",
       "      <th>region</th>\n",
       "      <th>std_year</th>\n",
       "      <th>std_month</th>\n",
       "      <th>std_year_month</th>\n",
       "    </tr>\n",
       "  </thead>\n",
       "  <tbody>\n",
       "    <tr>\n",
       "      <th>0</th>\n",
       "      <td>65e92d9cbb908e26c804031e</td>\n",
       "      <td>전체</td>\n",
       "      <td>1937279</td>\n",
       "      <td>강원</td>\n",
       "      <td>2020</td>\n",
       "      <td>1</td>\n",
       "      <td>202001</td>\n",
       "    </tr>\n",
       "    <tr>\n",
       "      <th>1</th>\n",
       "      <td>65e92d9cbb908e26c804031f</td>\n",
       "      <td>전체</td>\n",
       "      <td>1395025</td>\n",
       "      <td>강원</td>\n",
       "      <td>2020</td>\n",
       "      <td>2</td>\n",
       "      <td>202002</td>\n",
       "    </tr>\n",
       "    <tr>\n",
       "      <th>2</th>\n",
       "      <td>65e92d9cbb908e26c8040320</td>\n",
       "      <td>전체</td>\n",
       "      <td>1295467</td>\n",
       "      <td>강원</td>\n",
       "      <td>2020</td>\n",
       "      <td>3</td>\n",
       "      <td>202003</td>\n",
       "    </tr>\n",
       "    <tr>\n",
       "      <th>3</th>\n",
       "      <td>65e92d9cbb908e26c8040321</td>\n",
       "      <td>전체</td>\n",
       "      <td>1592147</td>\n",
       "      <td>강원</td>\n",
       "      <td>2020</td>\n",
       "      <td>4</td>\n",
       "      <td>202004</td>\n",
       "    </tr>\n",
       "    <tr>\n",
       "      <th>4</th>\n",
       "      <td>65e92d9cbb908e26c8040322</td>\n",
       "      <td>전체</td>\n",
       "      <td>2286676</td>\n",
       "      <td>강원</td>\n",
       "      <td>2020</td>\n",
       "      <td>5</td>\n",
       "      <td>202005</td>\n",
       "    </tr>\n",
       "  </tbody>\n",
       "</table>\n",
       "</div>"
      ],
      "text/plain": [
       "                        _id destination_type  destination_search region  \\\n",
       "0  65e92d9cbb908e26c804031e               전체             1937279     강원   \n",
       "1  65e92d9cbb908e26c804031f               전체             1395025     강원   \n",
       "2  65e92d9cbb908e26c8040320               전체             1295467     강원   \n",
       "3  65e92d9cbb908e26c8040321               전체             1592147     강원   \n",
       "4  65e92d9cbb908e26c8040322               전체             2286676     강원   \n",
       "\n",
       "   std_year  std_month  std_year_month  \n",
       "0      2020          1          202001  \n",
       "1      2020          2          202002  \n",
       "2      2020          3          202003  \n",
       "3      2020          4          202004  \n",
       "4      2020          5          202005  "
      ]
     },
     "execution_count": 35,
     "metadata": {},
     "output_type": "execute_result"
    }
   ],
   "source": [
    "df_ksearch_date[:5]"
   ]
  },
  {
   "cell_type": "code",
   "execution_count": 161,
   "id": "8a9fe8cf-c82e-47bc-8bbf-d72c2fc094db",
   "metadata": {},
   "outputs": [
    {
     "data": {
      "text/plain": [
       "destination_type\n",
       "전체       816\n",
       "숙박       816\n",
       "음식       816\n",
       "기타관광     816\n",
       "쇼핑       816\n",
       "문화관광     816\n",
       "역사관광     816\n",
       "자연관광     816\n",
       "체험관광     816\n",
       "레저스포츠    816\n",
       "Name: count, dtype: int64"
      ]
     },
     "execution_count": 161,
     "metadata": {},
     "output_type": "execute_result"
    }
   ],
   "source": [
    "df_ksearch_date['destination_type'].value_counts()"
   ]
  },
  {
   "cell_type": "code",
   "execution_count": 149,
   "id": "b5d1c508-5dce-4463-b128-fd05e3547414",
   "metadata": {},
   "outputs": [
    {
     "data": {
      "text/html": [
       "<div>\n",
       "<style scoped>\n",
       "    .dataframe tbody tr th:only-of-type {\n",
       "        vertical-align: middle;\n",
       "    }\n",
       "\n",
       "    .dataframe tbody tr th {\n",
       "        vertical-align: top;\n",
       "    }\n",
       "\n",
       "    .dataframe thead th {\n",
       "        text-align: right;\n",
       "    }\n",
       "</style>\n",
       "<table border=\"1\" class=\"dataframe\">\n",
       "  <thead>\n",
       "    <tr style=\"text-align: right;\">\n",
       "      <th></th>\n",
       "      <th>_id</th>\n",
       "      <th>industry_major_cate</th>\n",
       "      <th>std_year_month</th>\n",
       "      <th>std_year</th>\n",
       "      <th>std_month</th>\n",
       "      <th>consumption_amount</th>\n",
       "      <th>region</th>\n",
       "      <th>season</th>\n",
       "    </tr>\n",
       "  </thead>\n",
       "  <tbody>\n",
       "    <tr>\n",
       "      <th>12</th>\n",
       "      <td>65e932a1bb908e26c804493a</td>\n",
       "      <td>운송업</td>\n",
       "      <td>202010</td>\n",
       "      <td>2020</td>\n",
       "      <td>10</td>\n",
       "      <td>146418</td>\n",
       "      <td>강원</td>\n",
       "      <td>가을</td>\n",
       "    </tr>\n",
       "    <tr>\n",
       "      <th>13</th>\n",
       "      <td>65e932a1bb908e26c804493b</td>\n",
       "      <td>운송업</td>\n",
       "      <td>202008</td>\n",
       "      <td>2020</td>\n",
       "      <td>8</td>\n",
       "      <td>101424</td>\n",
       "      <td>강원</td>\n",
       "      <td>여름</td>\n",
       "    </tr>\n",
       "    <tr>\n",
       "      <th>14</th>\n",
       "      <td>65e932a1bb908e26c804493c</td>\n",
       "      <td>여행업</td>\n",
       "      <td>202010</td>\n",
       "      <td>2020</td>\n",
       "      <td>10</td>\n",
       "      <td>217630</td>\n",
       "      <td>강원</td>\n",
       "      <td>가을</td>\n",
       "    </tr>\n",
       "    <tr>\n",
       "      <th>15</th>\n",
       "      <td>65e932a1bb908e26c804493d</td>\n",
       "      <td>숙박업</td>\n",
       "      <td>202010</td>\n",
       "      <td>2020</td>\n",
       "      <td>10</td>\n",
       "      <td>13753657</td>\n",
       "      <td>강원</td>\n",
       "      <td>가을</td>\n",
       "    </tr>\n",
       "    <tr>\n",
       "      <th>16</th>\n",
       "      <td>65e932a1bb908e26c804493e</td>\n",
       "      <td>여행업</td>\n",
       "      <td>202009</td>\n",
       "      <td>2020</td>\n",
       "      <td>9</td>\n",
       "      <td>120133</td>\n",
       "      <td>강원</td>\n",
       "      <td>가을</td>\n",
       "    </tr>\n",
       "  </tbody>\n",
       "</table>\n",
       "</div>"
      ],
      "text/plain": [
       "                         _id industry_major_cate  std_year_month  std_year  \\\n",
       "12  65e932a1bb908e26c804493a                 운송업          202010      2020   \n",
       "13  65e932a1bb908e26c804493b                 운송업          202008      2020   \n",
       "14  65e932a1bb908e26c804493c                 여행업          202010      2020   \n",
       "15  65e932a1bb908e26c804493d                 숙박업          202010      2020   \n",
       "16  65e932a1bb908e26c804493e                 여행업          202009      2020   \n",
       "\n",
       "    std_month  consumption_amount region season  \n",
       "12         10              146418     강원     가을  \n",
       "13          8              101424     강원     여름  \n",
       "14         10              217630     강원     가을  \n",
       "15         10            13753657     강원     가을  \n",
       "16          9              120133     강원     가을  "
      ]
     },
     "execution_count": 149,
     "metadata": {},
     "output_type": "execute_result"
    }
   ],
   "source": [
    "df_Nvisitors_Date[:5]"
   ]
  },
  {
   "cell_type": "code",
   "execution_count": 151,
   "id": "2f291a4c-cd70-425a-a49f-6bb9ccd0a294",
   "metadata": {},
   "outputs": [
    {
     "data": {
      "text/plain": [
       "industry_major_cate\n",
       "운송업       816\n",
       "숙박업       816\n",
       "여가서비스업    816\n",
       "식음료업      816\n",
       "쇼핑업       816\n",
       "여행업       797\n",
       "Name: count, dtype: int64"
      ]
     },
     "execution_count": 151,
     "metadata": {},
     "output_type": "execute_result"
    }
   ],
   "source": [
    "df_Nvisitors_Date['industry_major_cate'].value_counts()"
   ]
  },
  {
   "cell_type": "code",
   "execution_count": 92,
   "id": "34e10bc0-0fd6-4786-a370-b93f992dfb4e",
   "metadata": {},
   "outputs": [
    {
     "data": {
      "text/html": [
       "<div>\n",
       "<style scoped>\n",
       "    .dataframe tbody tr th:only-of-type {\n",
       "        vertical-align: middle;\n",
       "    }\n",
       "\n",
       "    .dataframe tbody tr th {\n",
       "        vertical-align: top;\n",
       "    }\n",
       "\n",
       "    .dataframe thead th {\n",
       "        text-align: right;\n",
       "    }\n",
       "</style>\n",
       "<table border=\"1\" class=\"dataframe\">\n",
       "  <thead>\n",
       "    <tr style=\"text-align: right;\">\n",
       "      <th></th>\n",
       "      <th>_id</th>\n",
       "      <th>region</th>\n",
       "      <th>std_year_month</th>\n",
       "      <th>std_year</th>\n",
       "      <th>std_month</th>\n",
       "      <th>tour_trend</th>\n",
       "      <th>num_mention</th>\n",
       "    </tr>\n",
       "  </thead>\n",
       "  <tbody>\n",
       "    <tr>\n",
       "      <th>0</th>\n",
       "      <td>65e92ddfbb908e26c804393d</td>\n",
       "      <td>강원</td>\n",
       "      <td>202007</td>\n",
       "      <td>2020</td>\n",
       "      <td>7</td>\n",
       "      <td>레포츠</td>\n",
       "      <td>58868</td>\n",
       "    </tr>\n",
       "    <tr>\n",
       "      <th>1</th>\n",
       "      <td>65e92ddfbb908e26c804393e</td>\n",
       "      <td>강원</td>\n",
       "      <td>202008</td>\n",
       "      <td>2020</td>\n",
       "      <td>8</td>\n",
       "      <td>레포츠</td>\n",
       "      <td>53624</td>\n",
       "    </tr>\n",
       "    <tr>\n",
       "      <th>2</th>\n",
       "      <td>65e92ddfbb908e26c804393f</td>\n",
       "      <td>강원</td>\n",
       "      <td>202006</td>\n",
       "      <td>2020</td>\n",
       "      <td>6</td>\n",
       "      <td>레포츠</td>\n",
       "      <td>49214</td>\n",
       "    </tr>\n",
       "    <tr>\n",
       "      <th>3</th>\n",
       "      <td>65e92ddfbb908e26c8043940</td>\n",
       "      <td>강원</td>\n",
       "      <td>202010</td>\n",
       "      <td>2020</td>\n",
       "      <td>10</td>\n",
       "      <td>레포츠</td>\n",
       "      <td>47223</td>\n",
       "    </tr>\n",
       "    <tr>\n",
       "      <th>4</th>\n",
       "      <td>65e92ddfbb908e26c8043941</td>\n",
       "      <td>강원</td>\n",
       "      <td>202007</td>\n",
       "      <td>2020</td>\n",
       "      <td>7</td>\n",
       "      <td>휴식/힐링</td>\n",
       "      <td>40740</td>\n",
       "    </tr>\n",
       "  </tbody>\n",
       "</table>\n",
       "</div>"
      ],
      "text/plain": [
       "                        _id region  std_year_month  std_year  std_month  \\\n",
       "0  65e92ddfbb908e26c804393d     강원          202007      2020          7   \n",
       "1  65e92ddfbb908e26c804393e     강원          202008      2020          8   \n",
       "2  65e92ddfbb908e26c804393f     강원          202006      2020          6   \n",
       "3  65e92ddfbb908e26c8043940     강원          202010      2020         10   \n",
       "4  65e92ddfbb908e26c8043941     강원          202007      2020          7   \n",
       "\n",
       "  tour_trend  num_mention  \n",
       "0        레포츠        58868  \n",
       "1        레포츠        53624  \n",
       "2        레포츠        49214  \n",
       "3        레포츠        47223  \n",
       "4      휴식/힐링        40740  "
      ]
     },
     "execution_count": 92,
     "metadata": {},
     "output_type": "execute_result"
    }
   ],
   "source": [
    "df_search_trend[:5]"
   ]
  },
  {
   "cell_type": "code",
   "execution_count": 152,
   "id": "ce490811-6868-4dce-a1df-e282f3f90ffb",
   "metadata": {},
   "outputs": [
    {
     "data": {
      "text/plain": [
       "tour_trend\n",
       "레포츠      816\n",
       "휴식/힐링    816\n",
       "기타       816\n",
       "미식       816\n",
       "체험       816\n",
       "Name: count, dtype: int64"
      ]
     },
     "execution_count": 152,
     "metadata": {},
     "output_type": "execute_result"
    }
   ],
   "source": [
    "df_search_trend['tour_trend'].value_counts()"
   ]
  },
  {
   "cell_type": "code",
   "execution_count": 167,
   "id": "29c706f4-cf83-4366-8545-883fd009e9b9",
   "metadata": {},
   "outputs": [
    {
     "data": {
      "text/plain": [
       "array(['강원', '경기', '경남', '경북', '광주', '대구', '대전', '부산', '서울', '세종', '울산',\n",
       "       '인천', '전남', '전북', '제주', '충남', '충북'], dtype=object)"
      ]
     },
     "execution_count": 167,
     "metadata": {},
     "output_type": "execute_result"
    }
   ],
   "source": [
    "df_search_trend['region'].unique()"
   ]
  },
  {
   "cell_type": "markdown",
   "id": "e099a9e7-0f2d-4cba-8067-24afdb5b0a24",
   "metadata": {
    "jp-MarkdownHeadingCollapsed": true
   },
   "source": [
    "## 전처리"
   ]
  },
  {
   "cell_type": "code",
   "execution_count": 37,
   "id": "3b6aaaee-7eae-4016-8c78-f36a5479c824",
   "metadata": {},
   "outputs": [
    {
     "name": "stdout",
     "output_type": "stream",
     "text": [
      "<class 'pandas.core.frame.DataFrame'>\n",
      "RangeIndex: 8160 entries, 0 to 8159\n",
      "Data columns (total 7 columns):\n",
      " #   Column              Non-Null Count  Dtype \n",
      "---  ------              --------------  ----- \n",
      " 0   _id                 8160 non-null   object\n",
      " 1   destination_type    8160 non-null   object\n",
      " 2   destination_search  8160 non-null   int64 \n",
      " 3   region              8160 non-null   object\n",
      " 4   std_year            8160 non-null   int64 \n",
      " 5   std_month           8160 non-null   int64 \n",
      " 6   std_year_month      8160 non-null   int64 \n",
      "dtypes: int64(4), object(3)\n",
      "memory usage: 446.4+ KB\n"
     ]
    }
   ],
   "source": [
    "df_ksearch_date.info()"
   ]
  },
  {
   "cell_type": "code",
   "execution_count": 38,
   "id": "84ec49cf-50b1-461a-9340-4a349d566573",
   "metadata": {},
   "outputs": [
    {
     "data": {
      "text/plain": [
       "_id                   0\n",
       "destination_type      0\n",
       "destination_search    0\n",
       "region                0\n",
       "std_year              0\n",
       "std_month             0\n",
       "std_year_month        0\n",
       "dtype: int64"
      ]
     },
     "execution_count": 38,
     "metadata": {},
     "output_type": "execute_result"
    }
   ],
   "source": [
    "df_ksearch_date.isnull().sum()"
   ]
  },
  {
   "cell_type": "code",
   "execution_count": 39,
   "id": "ab3bfc60-78b6-462c-9104-f4a34a1c04cc",
   "metadata": {},
   "outputs": [
    {
     "name": "stdout",
     "output_type": "stream",
     "text": [
      "<class 'pandas.core.frame.DataFrame'>\n",
      "RangeIndex: 5693 entries, 0 to 5692\n",
      "Data columns (total 7 columns):\n",
      " #   Column               Non-Null Count  Dtype \n",
      "---  ------               --------------  ----- \n",
      " 0   _id                  5693 non-null   object\n",
      " 1   industry_major_cate  5693 non-null   object\n",
      " 2   std_year_month       5693 non-null   int64 \n",
      " 3   std_year             5693 non-null   int64 \n",
      " 4   std_month            5693 non-null   int64 \n",
      " 5   consumption_amount   5693 non-null   int64 \n",
      " 6   region               5693 non-null   object\n",
      "dtypes: int64(4), object(3)\n",
      "memory usage: 311.5+ KB\n"
     ]
    }
   ],
   "source": [
    "df_Nvisitors_Date.info()"
   ]
  },
  {
   "cell_type": "code",
   "execution_count": 40,
   "id": "ca6beedb-9f53-45bf-8a6e-f03132fdfb42",
   "metadata": {},
   "outputs": [
    {
     "data": {
      "text/plain": [
       "_id                    0\n",
       "industry_major_cate    0\n",
       "std_year_month         0\n",
       "std_year               0\n",
       "std_month              0\n",
       "consumption_amount     0\n",
       "region                 0\n",
       "dtype: int64"
      ]
     },
     "execution_count": 40,
     "metadata": {},
     "output_type": "execute_result"
    }
   ],
   "source": [
    "df_Nvisitors_Date.isnull().sum()"
   ]
  },
  {
   "cell_type": "code",
   "execution_count": 135,
   "id": "c14c2ce5-0be4-48bb-b7fe-d9333e75d668",
   "metadata": {},
   "outputs": [
    {
     "name": "stdout",
     "output_type": "stream",
     "text": [
      "<class 'pandas.core.frame.DataFrame'>\n",
      "RangeIndex: 4080 entries, 0 to 4079\n",
      "Data columns (total 7 columns):\n",
      " #   Column          Non-Null Count  Dtype \n",
      "---  ------          --------------  ----- \n",
      " 0   _id             4080 non-null   object\n",
      " 1   region          4080 non-null   object\n",
      " 2   std_year_month  4080 non-null   int64 \n",
      " 3   std_year        4080 non-null   int64 \n",
      " 4   std_month       4080 non-null   int64 \n",
      " 5   tour_trend      4080 non-null   object\n",
      " 6   num_mention     4080 non-null   int64 \n",
      "dtypes: int64(4), object(3)\n",
      "memory usage: 223.3+ KB\n"
     ]
    }
   ],
   "source": [
    "df_search_trend.info()"
   ]
  },
  {
   "cell_type": "code",
   "execution_count": 136,
   "id": "6124c2c9-f902-4fa9-9071-0994e8d7d45d",
   "metadata": {},
   "outputs": [
    {
     "data": {
      "text/plain": [
       "_id               0\n",
       "region            0\n",
       "std_year_month    0\n",
       "std_year          0\n",
       "std_month         0\n",
       "tour_trend        0\n",
       "num_mention       0\n",
       "dtype: int64"
      ]
     },
     "execution_count": 136,
     "metadata": {},
     "output_type": "execute_result"
    }
   ],
   "source": [
    "df_search_trend.isnull().sum()"
   ]
  },
  {
   "cell_type": "markdown",
   "id": "ef910515-b5a6-4fed-8895-c2f5bc18b295",
   "metadata": {},
   "source": [
    "- 결측치 없음"
   ]
  },
  {
   "cell_type": "markdown",
   "id": "adba5f9e-9905-4cd3-9d52-fb4205ea95b9",
   "metadata": {},
   "source": [
    "## EDA"
   ]
  },
  {
   "cell_type": "markdown",
   "id": "10c18bad-674e-46bb-a857-80c2263ecb26",
   "metadata": {
    "jp-MarkdownHeadingCollapsed": true
   },
   "source": [
    "### 제안 1 : 계절별 카테고리 검색량/소비량 평균 비교"
   ]
  },
  {
   "cell_type": "markdown",
   "id": "1f139d7b-6585-4f4b-b373-4045b42d5690",
   "metadata": {
    "jp-MarkdownHeadingCollapsed": true
   },
   "source": [
    "- 문제 정의 : 카테고리의 계절별 검색 추이를 시각화하여 계절적 패턴을 확인\n",
    "- 배경 : 특정 키워드의 검색량이 계절에 따라 변화할 수 있다.\n",
    "- 예를 들어 여름에는 레저스포츠 관련 키워드의 검색량이 증가할 것으로 예상된다. 이를 통해 계절별 카테고리 검색 추이와 계절적 패턴을 이해할 수 있다."
   ]
  },
  {
   "cell_type": "code",
   "execution_count": 94,
   "id": "a10ca536-cf95-4de6-a687-20909e9ff999",
   "metadata": {},
   "outputs": [],
   "source": [
    "seasons = {\n",
    "    12: '겨울', 1: '겨울', 2: '겨울',\n",
    "    3: '봄', 4: '봄', 5: '봄',\n",
    "    6: '여름', 7: '여름', 8: '여름',\n",
    "    9: '가을', 10: '가을', 11: '가을'\n",
    "}\n",
    "df_ksearch_date['season'] = df_ksearch_date['std_month'].map(seasons)\n",
    "df_Nvisitors_Date['season'] = df_Nvisitors_Date['std_month'].map(seasons)"
   ]
  },
  {
   "cell_type": "code",
   "execution_count": 95,
   "id": "c0d96b7f-ec3b-4921-a9c9-b7097f90ad4b",
   "metadata": {},
   "outputs": [
    {
     "data": {
      "text/html": [
       "<div>\n",
       "<style scoped>\n",
       "    .dataframe tbody tr th:only-of-type {\n",
       "        vertical-align: middle;\n",
       "    }\n",
       "\n",
       "    .dataframe tbody tr th {\n",
       "        vertical-align: top;\n",
       "    }\n",
       "\n",
       "    .dataframe thead th {\n",
       "        text-align: right;\n",
       "    }\n",
       "</style>\n",
       "<table border=\"1\" class=\"dataframe\">\n",
       "  <thead>\n",
       "    <tr style=\"text-align: right;\">\n",
       "      <th></th>\n",
       "      <th>_id</th>\n",
       "      <th>destination_type</th>\n",
       "      <th>destination_search</th>\n",
       "      <th>region</th>\n",
       "      <th>std_year</th>\n",
       "      <th>std_month</th>\n",
       "      <th>std_year_month</th>\n",
       "      <th>season</th>\n",
       "    </tr>\n",
       "  </thead>\n",
       "  <tbody>\n",
       "    <tr>\n",
       "      <th>0</th>\n",
       "      <td>65e92d9cbb908e26c804031e</td>\n",
       "      <td>전체</td>\n",
       "      <td>1937279</td>\n",
       "      <td>강원</td>\n",
       "      <td>2020</td>\n",
       "      <td>1</td>\n",
       "      <td>202001</td>\n",
       "      <td>겨울</td>\n",
       "    </tr>\n",
       "    <tr>\n",
       "      <th>1</th>\n",
       "      <td>65e92d9cbb908e26c804031f</td>\n",
       "      <td>전체</td>\n",
       "      <td>1395025</td>\n",
       "      <td>강원</td>\n",
       "      <td>2020</td>\n",
       "      <td>2</td>\n",
       "      <td>202002</td>\n",
       "      <td>겨울</td>\n",
       "    </tr>\n",
       "    <tr>\n",
       "      <th>2</th>\n",
       "      <td>65e92d9cbb908e26c8040320</td>\n",
       "      <td>전체</td>\n",
       "      <td>1295467</td>\n",
       "      <td>강원</td>\n",
       "      <td>2020</td>\n",
       "      <td>3</td>\n",
       "      <td>202003</td>\n",
       "      <td>봄</td>\n",
       "    </tr>\n",
       "    <tr>\n",
       "      <th>3</th>\n",
       "      <td>65e92d9cbb908e26c8040321</td>\n",
       "      <td>전체</td>\n",
       "      <td>1592147</td>\n",
       "      <td>강원</td>\n",
       "      <td>2020</td>\n",
       "      <td>4</td>\n",
       "      <td>202004</td>\n",
       "      <td>봄</td>\n",
       "    </tr>\n",
       "    <tr>\n",
       "      <th>4</th>\n",
       "      <td>65e92d9cbb908e26c8040322</td>\n",
       "      <td>전체</td>\n",
       "      <td>2286676</td>\n",
       "      <td>강원</td>\n",
       "      <td>2020</td>\n",
       "      <td>5</td>\n",
       "      <td>202005</td>\n",
       "      <td>봄</td>\n",
       "    </tr>\n",
       "    <tr>\n",
       "      <th>...</th>\n",
       "      <td>...</td>\n",
       "      <td>...</td>\n",
       "      <td>...</td>\n",
       "      <td>...</td>\n",
       "      <td>...</td>\n",
       "      <td>...</td>\n",
       "      <td>...</td>\n",
       "      <td>...</td>\n",
       "    </tr>\n",
       "    <tr>\n",
       "      <th>8155</th>\n",
       "      <td>65e92d9dbb908e26c80422f9</td>\n",
       "      <td>문화관광</td>\n",
       "      <td>80761</td>\n",
       "      <td>충북</td>\n",
       "      <td>2023</td>\n",
       "      <td>12</td>\n",
       "      <td>202312</td>\n",
       "      <td>겨울</td>\n",
       "    </tr>\n",
       "    <tr>\n",
       "      <th>8156</th>\n",
       "      <td>65e92d9dbb908e26c80422fa</td>\n",
       "      <td>역사관광</td>\n",
       "      <td>20072</td>\n",
       "      <td>충북</td>\n",
       "      <td>2023</td>\n",
       "      <td>12</td>\n",
       "      <td>202312</td>\n",
       "      <td>겨울</td>\n",
       "    </tr>\n",
       "    <tr>\n",
       "      <th>8157</th>\n",
       "      <td>65e92d9dbb908e26c80422fb</td>\n",
       "      <td>자연관광</td>\n",
       "      <td>25920</td>\n",
       "      <td>충북</td>\n",
       "      <td>2023</td>\n",
       "      <td>12</td>\n",
       "      <td>202312</td>\n",
       "      <td>겨울</td>\n",
       "    </tr>\n",
       "    <tr>\n",
       "      <th>8158</th>\n",
       "      <td>65e92d9dbb908e26c80422fc</td>\n",
       "      <td>체험관광</td>\n",
       "      <td>11141</td>\n",
       "      <td>충북</td>\n",
       "      <td>2023</td>\n",
       "      <td>12</td>\n",
       "      <td>202312</td>\n",
       "      <td>겨울</td>\n",
       "    </tr>\n",
       "    <tr>\n",
       "      <th>8159</th>\n",
       "      <td>65e92d9dbb908e26c80422fd</td>\n",
       "      <td>레저스포츠</td>\n",
       "      <td>60623</td>\n",
       "      <td>충북</td>\n",
       "      <td>2023</td>\n",
       "      <td>12</td>\n",
       "      <td>202312</td>\n",
       "      <td>겨울</td>\n",
       "    </tr>\n",
       "  </tbody>\n",
       "</table>\n",
       "<p>8160 rows × 8 columns</p>\n",
       "</div>"
      ],
      "text/plain": [
       "                           _id destination_type  destination_search region  \\\n",
       "0     65e92d9cbb908e26c804031e               전체             1937279     강원   \n",
       "1     65e92d9cbb908e26c804031f               전체             1395025     강원   \n",
       "2     65e92d9cbb908e26c8040320               전체             1295467     강원   \n",
       "3     65e92d9cbb908e26c8040321               전체             1592147     강원   \n",
       "4     65e92d9cbb908e26c8040322               전체             2286676     강원   \n",
       "...                        ...              ...                 ...    ...   \n",
       "8155  65e92d9dbb908e26c80422f9             문화관광               80761     충북   \n",
       "8156  65e92d9dbb908e26c80422fa             역사관광               20072     충북   \n",
       "8157  65e92d9dbb908e26c80422fb             자연관광               25920     충북   \n",
       "8158  65e92d9dbb908e26c80422fc             체험관광               11141     충북   \n",
       "8159  65e92d9dbb908e26c80422fd            레저스포츠               60623     충북   \n",
       "\n",
       "      std_year  std_month  std_year_month season  \n",
       "0         2020          1          202001     겨울  \n",
       "1         2020          2          202002     겨울  \n",
       "2         2020          3          202003      봄  \n",
       "3         2020          4          202004      봄  \n",
       "4         2020          5          202005      봄  \n",
       "...        ...        ...             ...    ...  \n",
       "8155      2023         12          202312     겨울  \n",
       "8156      2023         12          202312     겨울  \n",
       "8157      2023         12          202312     겨울  \n",
       "8158      2023         12          202312     겨울  \n",
       "8159      2023         12          202312     겨울  \n",
       "\n",
       "[8160 rows x 8 columns]"
      ]
     },
     "execution_count": 95,
     "metadata": {},
     "output_type": "execute_result"
    }
   ],
   "source": [
    "df_ksearch_date"
   ]
  },
  {
   "cell_type": "code",
   "execution_count": 96,
   "id": "784fdd4e-a5e0-4214-8b80-8bfa9213ac18",
   "metadata": {},
   "outputs": [],
   "source": [
    "df_ksearch_date = df_ksearch_date.query('destination_type != \"전체\"')\n",
    "df_Nvisitors_Date = df_Nvisitors_Date.query('industry_major_cate != \"전체\"')"
   ]
  },
  {
   "cell_type": "code",
   "execution_count": 97,
   "id": "30c4d104-7719-47e3-ab6c-4dd29ca67024",
   "metadata": {},
   "outputs": [],
   "source": [
    "# 계절별 데이터 확인\n",
    "df_ksearch_winter = df_ksearch_date.query('season == \"겨울\"')\n",
    "df_ksearch_spring = df_ksearch_date.query('season == \"봄\"')\n",
    "df_ksearch_summer = df_ksearch_date.query('season == \"여름\"')\n",
    "df_ksearch_fall = df_ksearch_date.query('season == \"가을\"')"
   ]
  },
  {
   "cell_type": "markdown",
   "id": "fe644c03-0ca1-4ecf-8404-adfc9e710365",
   "metadata": {
    "jp-MarkdownHeadingCollapsed": true
   },
   "source": [
    "#### 각 계절별 카테고리 검색량/소비량 평균 비교 그래프"
   ]
  },
  {
   "cell_type": "code",
   "execution_count": 99,
   "id": "026ced2f-f8e9-4a52-8f81-0c91dc163184",
   "metadata": {},
   "outputs": [
    {
     "data": {
      "text/html": [
       "<div>\n",
       "<style scoped>\n",
       "    .dataframe tbody tr th:only-of-type {\n",
       "        vertical-align: middle;\n",
       "    }\n",
       "\n",
       "    .dataframe tbody tr th {\n",
       "        vertical-align: top;\n",
       "    }\n",
       "\n",
       "    .dataframe thead th {\n",
       "        text-align: right;\n",
       "    }\n",
       "</style>\n",
       "<table border=\"1\" class=\"dataframe\">\n",
       "  <thead>\n",
       "    <tr style=\"text-align: right;\">\n",
       "      <th>season</th>\n",
       "      <th>가을</th>\n",
       "      <th>겨울</th>\n",
       "      <th>봄</th>\n",
       "      <th>여름</th>\n",
       "    </tr>\n",
       "    <tr>\n",
       "      <th>destination_type</th>\n",
       "      <th></th>\n",
       "      <th></th>\n",
       "      <th></th>\n",
       "      <th></th>\n",
       "    </tr>\n",
       "  </thead>\n",
       "  <tbody>\n",
       "    <tr>\n",
       "      <th>기타관광</th>\n",
       "      <td>219165.014706</td>\n",
       "      <td>167629.156863</td>\n",
       "      <td>183180.245098</td>\n",
       "      <td>198967.740196</td>\n",
       "    </tr>\n",
       "    <tr>\n",
       "      <th>레저스포츠</th>\n",
       "      <td>127843.735294</td>\n",
       "      <td>63300.593137</td>\n",
       "      <td>114445.455882</td>\n",
       "      <td>125152.151961</td>\n",
       "    </tr>\n",
       "    <tr>\n",
       "      <th>문화관광</th>\n",
       "      <td>258831.681373</td>\n",
       "      <td>170681.436275</td>\n",
       "      <td>223161.946078</td>\n",
       "      <td>244138.156863</td>\n",
       "    </tr>\n",
       "    <tr>\n",
       "      <th>쇼핑</th>\n",
       "      <td>298700.142157</td>\n",
       "      <td>258901.019608</td>\n",
       "      <td>262200.465686</td>\n",
       "      <td>273296.519608</td>\n",
       "    </tr>\n",
       "    <tr>\n",
       "      <th>숙박</th>\n",
       "      <td>222473.593137</td>\n",
       "      <td>173472.117647</td>\n",
       "      <td>179602.446078</td>\n",
       "      <td>251251.867647</td>\n",
       "    </tr>\n",
       "    <tr>\n",
       "      <th>역사관광</th>\n",
       "      <td>74220.960784</td>\n",
       "      <td>43614.245098</td>\n",
       "      <td>63757.852941</td>\n",
       "      <td>57132.137255</td>\n",
       "    </tr>\n",
       "    <tr>\n",
       "      <th>음식</th>\n",
       "      <td>822748.235294</td>\n",
       "      <td>652162.318627</td>\n",
       "      <td>758441.828431</td>\n",
       "      <td>898512.779412</td>\n",
       "    </tr>\n",
       "    <tr>\n",
       "      <th>자연관광</th>\n",
       "      <td>125356.789216</td>\n",
       "      <td>78358.107843</td>\n",
       "      <td>100928.504902</td>\n",
       "      <td>134349.700980</td>\n",
       "    </tr>\n",
       "    <tr>\n",
       "      <th>체험관광</th>\n",
       "      <td>11581.617647</td>\n",
       "      <td>9330.294118</td>\n",
       "      <td>9801.578431</td>\n",
       "      <td>10493.053922</td>\n",
       "    </tr>\n",
       "  </tbody>\n",
       "</table>\n",
       "</div>"
      ],
      "text/plain": [
       "season                       가을             겨울              봄             여름\n",
       "destination_type                                                            \n",
       "기타관광              219165.014706  167629.156863  183180.245098  198967.740196\n",
       "레저스포츠             127843.735294   63300.593137  114445.455882  125152.151961\n",
       "문화관광              258831.681373  170681.436275  223161.946078  244138.156863\n",
       "쇼핑                298700.142157  258901.019608  262200.465686  273296.519608\n",
       "숙박                222473.593137  173472.117647  179602.446078  251251.867647\n",
       "역사관광               74220.960784   43614.245098   63757.852941   57132.137255\n",
       "음식                822748.235294  652162.318627  758441.828431  898512.779412\n",
       "자연관광              125356.789216   78358.107843  100928.504902  134349.700980\n",
       "체험관광               11581.617647    9330.294118    9801.578431   10493.053922"
      ]
     },
     "execution_count": 99,
     "metadata": {},
     "output_type": "execute_result"
    }
   ],
   "source": [
    "grouped = df_ksearch_date.groupby(['destination_type', 'season'])\n",
    "cate_season_mean = grouped['destination_search'].mean().unstack()\n",
    "cate_season_mean"
   ]
  },
  {
   "cell_type": "code",
   "execution_count": 141,
   "id": "5dcdc599-3a1e-4e80-b6d4-87bc97e7cb84",
   "metadata": {},
   "outputs": [
    {
     "data": {
      "text/html": [
       "<div>\n",
       "<style scoped>\n",
       "    .dataframe tbody tr th:only-of-type {\n",
       "        vertical-align: middle;\n",
       "    }\n",
       "\n",
       "    .dataframe tbody tr th {\n",
       "        vertical-align: top;\n",
       "    }\n",
       "\n",
       "    .dataframe thead th {\n",
       "        text-align: right;\n",
       "    }\n",
       "</style>\n",
       "<table border=\"1\" class=\"dataframe\">\n",
       "  <thead>\n",
       "    <tr style=\"text-align: right;\">\n",
       "      <th>season</th>\n",
       "      <th>가을</th>\n",
       "      <th>겨울</th>\n",
       "      <th>봄</th>\n",
       "      <th>여름</th>\n",
       "    </tr>\n",
       "    <tr>\n",
       "      <th>industry_major_cate</th>\n",
       "      <th></th>\n",
       "      <th></th>\n",
       "      <th></th>\n",
       "      <th></th>\n",
       "    </tr>\n",
       "  </thead>\n",
       "  <tbody>\n",
       "    <tr>\n",
       "      <th>쇼핑업</th>\n",
       "      <td>6.359027e+07</td>\n",
       "      <td>5.716982e+07</td>\n",
       "      <td>6.084553e+07</td>\n",
       "      <td>5.724758e+07</td>\n",
       "    </tr>\n",
       "    <tr>\n",
       "      <th>숙박업</th>\n",
       "      <td>6.938402e+06</td>\n",
       "      <td>6.748086e+06</td>\n",
       "      <td>6.262176e+06</td>\n",
       "      <td>8.149391e+06</td>\n",
       "    </tr>\n",
       "    <tr>\n",
       "      <th>식음료업</th>\n",
       "      <td>9.590639e+07</td>\n",
       "      <td>8.449975e+07</td>\n",
       "      <td>9.487454e+07</td>\n",
       "      <td>9.946051e+07</td>\n",
       "    </tr>\n",
       "    <tr>\n",
       "      <th>여가서비스업</th>\n",
       "      <td>1.512450e+07</td>\n",
       "      <td>8.396440e+06</td>\n",
       "      <td>1.435501e+07</td>\n",
       "      <td>1.557980e+07</td>\n",
       "    </tr>\n",
       "    <tr>\n",
       "      <th>여행업</th>\n",
       "      <td>3.259775e+05</td>\n",
       "      <td>3.148846e+05</td>\n",
       "      <td>2.481003e+05</td>\n",
       "      <td>3.053437e+05</td>\n",
       "    </tr>\n",
       "    <tr>\n",
       "      <th>운송업</th>\n",
       "      <td>7.181636e+06</td>\n",
       "      <td>6.410596e+06</td>\n",
       "      <td>6.670873e+06</td>\n",
       "      <td>7.352431e+06</td>\n",
       "    </tr>\n",
       "  </tbody>\n",
       "</table>\n",
       "</div>"
      ],
      "text/plain": [
       "season                         가을            겨울             봄            여름\n",
       "industry_major_cate                                                        \n",
       "쇼핑업                  6.359027e+07  5.716982e+07  6.084553e+07  5.724758e+07\n",
       "숙박업                  6.938402e+06  6.748086e+06  6.262176e+06  8.149391e+06\n",
       "식음료업                 9.590639e+07  8.449975e+07  9.487454e+07  9.946051e+07\n",
       "여가서비스업               1.512450e+07  8.396440e+06  1.435501e+07  1.557980e+07\n",
       "여행업                  3.259775e+05  3.148846e+05  2.481003e+05  3.053437e+05\n",
       "운송업                  7.181636e+06  6.410596e+06  6.670873e+06  7.352431e+06"
      ]
     },
     "execution_count": 141,
     "metadata": {},
     "output_type": "execute_result"
    }
   ],
   "source": [
    "grouped = df_Nvisitors_Date.groupby(['industry_major_cate', 'season'])\n",
    "df_Nvisitors_mean = grouped['consumption_amount'].mean().unstack()\n",
    "df_Nvisitors_mean"
   ]
  },
  {
   "cell_type": "code",
   "execution_count": 137,
   "id": "1dee06e0-01aa-4936-ba30-929fb58f21d6",
   "metadata": {},
   "outputs": [
    {
     "data": {
      "text/plain": [
       "Text(0.5, 1.0, '계절별 카테고리 검색량 평균')"
      ]
     },
     "execution_count": 137,
     "metadata": {},
     "output_type": "execute_result"
    },
    {
     "data": {
      "image/png": "[encoded data removed]",
      "text/plain": [
       "<Figure size 640x480 with 1 Axes>"
      ]
     },
     "metadata": {},
     "output_type": "display_data"
    }
   ],
   "source": [
    "cate_season_mean.plot(kind='bar')\n",
    "plt.title(\"계절별 카테고리 검색량 평균\")"
   ]
  },
  {
   "cell_type": "code",
   "execution_count": 153,
   "id": "c50d5bd8-0a14-475d-8093-bd0cbcd61b37",
   "metadata": {},
   "outputs": [
    {
     "data": {
      "text/plain": [
       "Text(0.5, 1.0, '계절별 카테고리 소비량 평균')"
      ]
     },
     "execution_count": 153,
     "metadata": {},
     "output_type": "execute_result"
    },
    {
     "data": {
      "image/png": "[encoded data removed]",
      "text/plain": [
       "<Figure size 640x480 with 1 Axes>"
      ]
     },
     "metadata": {},
     "output_type": "display_data"
    }
   ],
   "source": [
    "df_Nvisitors_mean.plot(kind='bar')\n",
    "plt.title(\"계절별 카테고리 소비량 평균\")"
   ]
  },
  {
   "cell_type": "markdown",
   "id": "a4f1438a-d430-45a1-9d18-eb3e5faaec8c",
   "metadata": {},
   "source": [
    "- 계절 전체적으로 겨울의 검색량이 적고, 가을의 검색량이 많다.   --> 가을에 여행을 많이 가고 겨울에는 비교적 적게 간다.\n",
    "- 카테고리 중 음식(식음료업)의 검색량이 가장 많고, 소비량도 가장 많다.\n",
    "- 레저스포츠의 경우 전체 계절 중 여름에 검색량이 많을 것으로 예상했으나 가을과 비슷함.\n",
    "- 숙박, 음식, 자연관광의 경우 가을보다 여름의 검색량이 더 많다.\n",
    "- 체험관광과 역사관광의 경우 선호도가 떨어진다.\n",
    "- 전략 제안 : 사용자가 지역 검색 시, 지역 맛집 추천을 우선으로 한다면 어떨까? "
   ]
  },
  {
   "cell_type": "markdown",
   "id": "f6f7fce7-6ef7-47a0-aa7d-af12b486259e",
   "metadata": {
    "jp-MarkdownHeadingCollapsed": true
   },
   "source": [
    "### 제안 2 : 지역별 여행 트렌드 선호도 분석"
   ]
  },
  {
   "cell_type": "markdown",
   "id": "96914eb0-4dd6-40f3-a788-1f2b69831518",
   "metadata": {},
   "source": [
    "- 지역별 카테고리 방문자 선호도 비교: 트렌드 검색량 데이터 이용\n",
    "- 해당 트렌드(카테고리)에 대한 검색량을 비교하여 선호도를 분석할 수 있습니다."
   ]
  },
  {
   "cell_type": "code",
   "execution_count": 105,
   "id": "687fcaa0-f0af-4359-9439-951644793e50",
   "metadata": {},
   "outputs": [
    {
     "data": {
      "text/html": [
       "<div>\n",
       "<style scoped>\n",
       "    .dataframe tbody tr th:only-of-type {\n",
       "        vertical-align: middle;\n",
       "    }\n",
       "\n",
       "    .dataframe tbody tr th {\n",
       "        vertical-align: top;\n",
       "    }\n",
       "\n",
       "    .dataframe thead th {\n",
       "        text-align: right;\n",
       "    }\n",
       "</style>\n",
       "<table border=\"1\" class=\"dataframe\">\n",
       "  <thead>\n",
       "    <tr style=\"text-align: right;\">\n",
       "      <th></th>\n",
       "      <th>_id</th>\n",
       "      <th>region</th>\n",
       "      <th>std_year_month</th>\n",
       "      <th>std_year</th>\n",
       "      <th>std_month</th>\n",
       "      <th>tour_trend</th>\n",
       "      <th>num_mention</th>\n",
       "    </tr>\n",
       "  </thead>\n",
       "  <tbody>\n",
       "    <tr>\n",
       "      <th>0</th>\n",
       "      <td>65e92ddfbb908e26c804393d</td>\n",
       "      <td>강원</td>\n",
       "      <td>202007</td>\n",
       "      <td>2020</td>\n",
       "      <td>7</td>\n",
       "      <td>레포츠</td>\n",
       "      <td>58868</td>\n",
       "    </tr>\n",
       "    <tr>\n",
       "      <th>1</th>\n",
       "      <td>65e92ddfbb908e26c804393e</td>\n",
       "      <td>강원</td>\n",
       "      <td>202008</td>\n",
       "      <td>2020</td>\n",
       "      <td>8</td>\n",
       "      <td>레포츠</td>\n",
       "      <td>53624</td>\n",
       "    </tr>\n",
       "    <tr>\n",
       "      <th>2</th>\n",
       "      <td>65e92ddfbb908e26c804393f</td>\n",
       "      <td>강원</td>\n",
       "      <td>202006</td>\n",
       "      <td>2020</td>\n",
       "      <td>6</td>\n",
       "      <td>레포츠</td>\n",
       "      <td>49214</td>\n",
       "    </tr>\n",
       "    <tr>\n",
       "      <th>3</th>\n",
       "      <td>65e92ddfbb908e26c8043940</td>\n",
       "      <td>강원</td>\n",
       "      <td>202010</td>\n",
       "      <td>2020</td>\n",
       "      <td>10</td>\n",
       "      <td>레포츠</td>\n",
       "      <td>47223</td>\n",
       "    </tr>\n",
       "    <tr>\n",
       "      <th>4</th>\n",
       "      <td>65e92ddfbb908e26c8043941</td>\n",
       "      <td>강원</td>\n",
       "      <td>202007</td>\n",
       "      <td>2020</td>\n",
       "      <td>7</td>\n",
       "      <td>휴식/힐링</td>\n",
       "      <td>40740</td>\n",
       "    </tr>\n",
       "    <tr>\n",
       "      <th>...</th>\n",
       "      <td>...</td>\n",
       "      <td>...</td>\n",
       "      <td>...</td>\n",
       "      <td>...</td>\n",
       "      <td>...</td>\n",
       "      <td>...</td>\n",
       "      <td>...</td>\n",
       "    </tr>\n",
       "    <tr>\n",
       "      <th>4075</th>\n",
       "      <td>65e92de0bb908e26c8044928</td>\n",
       "      <td>충북</td>\n",
       "      <td>202301</td>\n",
       "      <td>2023</td>\n",
       "      <td>1</td>\n",
       "      <td>체험</td>\n",
       "      <td>868</td>\n",
       "    </tr>\n",
       "    <tr>\n",
       "      <th>4076</th>\n",
       "      <td>65e92de0bb908e26c8044929</td>\n",
       "      <td>충북</td>\n",
       "      <td>202302</td>\n",
       "      <td>2023</td>\n",
       "      <td>2</td>\n",
       "      <td>미식</td>\n",
       "      <td>843</td>\n",
       "    </tr>\n",
       "    <tr>\n",
       "      <th>4077</th>\n",
       "      <td>65e92de0bb908e26c804492a</td>\n",
       "      <td>충북</td>\n",
       "      <td>202312</td>\n",
       "      <td>2023</td>\n",
       "      <td>12</td>\n",
       "      <td>미식</td>\n",
       "      <td>832</td>\n",
       "    </tr>\n",
       "    <tr>\n",
       "      <th>4078</th>\n",
       "      <td>65e92de0bb908e26c804492b</td>\n",
       "      <td>충북</td>\n",
       "      <td>202311</td>\n",
       "      <td>2023</td>\n",
       "      <td>11</td>\n",
       "      <td>미식</td>\n",
       "      <td>797</td>\n",
       "    </tr>\n",
       "    <tr>\n",
       "      <th>4079</th>\n",
       "      <td>65e92de0bb908e26c804492c</td>\n",
       "      <td>충북</td>\n",
       "      <td>202301</td>\n",
       "      <td>2023</td>\n",
       "      <td>1</td>\n",
       "      <td>미식</td>\n",
       "      <td>794</td>\n",
       "    </tr>\n",
       "  </tbody>\n",
       "</table>\n",
       "<p>4080 rows × 7 columns</p>\n",
       "</div>"
      ],
      "text/plain": [
       "                           _id region  std_year_month  std_year  std_month  \\\n",
       "0     65e92ddfbb908e26c804393d     강원          202007      2020          7   \n",
       "1     65e92ddfbb908e26c804393e     강원          202008      2020          8   \n",
       "2     65e92ddfbb908e26c804393f     강원          202006      2020          6   \n",
       "3     65e92ddfbb908e26c8043940     강원          202010      2020         10   \n",
       "4     65e92ddfbb908e26c8043941     강원          202007      2020          7   \n",
       "...                        ...    ...             ...       ...        ...   \n",
       "4075  65e92de0bb908e26c8044928     충북          202301      2023          1   \n",
       "4076  65e92de0bb908e26c8044929     충북          202302      2023          2   \n",
       "4077  65e92de0bb908e26c804492a     충북          202312      2023         12   \n",
       "4078  65e92de0bb908e26c804492b     충북          202311      2023         11   \n",
       "4079  65e92de0bb908e26c804492c     충북          202301      2023          1   \n",
       "\n",
       "     tour_trend  num_mention  \n",
       "0           레포츠        58868  \n",
       "1           레포츠        53624  \n",
       "2           레포츠        49214  \n",
       "3           레포츠        47223  \n",
       "4         휴식/힐링        40740  \n",
       "...         ...          ...  \n",
       "4075         체험          868  \n",
       "4076         미식          843  \n",
       "4077         미식          832  \n",
       "4078         미식          797  \n",
       "4079         미식          794  \n",
       "\n",
       "[4080 rows x 7 columns]"
      ]
     },
     "execution_count": 105,
     "metadata": {},
     "output_type": "execute_result"
    }
   ],
   "source": [
    "df_search_trend"
   ]
  },
  {
   "cell_type": "code",
   "execution_count": 109,
   "id": "b772ffa1-8a84-4a03-96bb-46023ec851e3",
   "metadata": {
    "scrolled": true
   },
   "outputs": [
    {
     "data": {
      "text/html": [
       "<div>\n",
       "<style scoped>\n",
       "    .dataframe tbody tr th:only-of-type {\n",
       "        vertical-align: middle;\n",
       "    }\n",
       "\n",
       "    .dataframe tbody tr th {\n",
       "        vertical-align: top;\n",
       "    }\n",
       "\n",
       "    .dataframe thead th {\n",
       "        text-align: right;\n",
       "    }\n",
       "</style>\n",
       "<table border=\"1\" class=\"dataframe\">\n",
       "  <thead>\n",
       "    <tr style=\"text-align: right;\">\n",
       "      <th>tour_trend</th>\n",
       "      <th>기타</th>\n",
       "      <th>레포츠</th>\n",
       "      <th>미식</th>\n",
       "      <th>체험</th>\n",
       "      <th>휴식/힐링</th>\n",
       "    </tr>\n",
       "    <tr>\n",
       "      <th>region</th>\n",
       "      <th></th>\n",
       "      <th></th>\n",
       "      <th></th>\n",
       "      <th></th>\n",
       "      <th></th>\n",
       "    </tr>\n",
       "  </thead>\n",
       "  <tbody>\n",
       "    <tr>\n",
       "      <th>강원</th>\n",
       "      <td>7945.854167</td>\n",
       "      <td>43269.416667</td>\n",
       "      <td>2984.541667</td>\n",
       "      <td>3128.708333</td>\n",
       "      <td>32012.541667</td>\n",
       "    </tr>\n",
       "    <tr>\n",
       "      <th>경기</th>\n",
       "      <td>18597.125000</td>\n",
       "      <td>59578.333333</td>\n",
       "      <td>6746.333333</td>\n",
       "      <td>5603.104167</td>\n",
       "      <td>63913.229167</td>\n",
       "    </tr>\n",
       "    <tr>\n",
       "      <th>경남</th>\n",
       "      <td>5497.333333</td>\n",
       "      <td>25842.625000</td>\n",
       "      <td>1435.250000</td>\n",
       "      <td>3019.062500</td>\n",
       "      <td>21082.562500</td>\n",
       "    </tr>\n",
       "    <tr>\n",
       "      <th>경북</th>\n",
       "      <td>5031.145833</td>\n",
       "      <td>19355.270833</td>\n",
       "      <td>1421.645833</td>\n",
       "      <td>3664.625000</td>\n",
       "      <td>19323.812500</td>\n",
       "    </tr>\n",
       "    <tr>\n",
       "      <th>광주</th>\n",
       "      <td>1280.916667</td>\n",
       "      <td>2710.729167</td>\n",
       "      <td>588.125000</td>\n",
       "      <td>324.895833</td>\n",
       "      <td>3877.583333</td>\n",
       "    </tr>\n",
       "    <tr>\n",
       "      <th>대구</th>\n",
       "      <td>3346.000000</td>\n",
       "      <td>6839.875000</td>\n",
       "      <td>1940.604167</td>\n",
       "      <td>663.125000</td>\n",
       "      <td>9416.416667</td>\n",
       "    </tr>\n",
       "    <tr>\n",
       "      <th>대전</th>\n",
       "      <td>1856.354167</td>\n",
       "      <td>3610.895833</td>\n",
       "      <td>1069.250000</td>\n",
       "      <td>440.020833</td>\n",
       "      <td>5233.687500</td>\n",
       "    </tr>\n",
       "    <tr>\n",
       "      <th>부산</th>\n",
       "      <td>29282.833333</td>\n",
       "      <td>20783.562500</td>\n",
       "      <td>5892.625000</td>\n",
       "      <td>2042.687500</td>\n",
       "      <td>30169.312500</td>\n",
       "    </tr>\n",
       "    <tr>\n",
       "      <th>서울</th>\n",
       "      <td>28778.562500</td>\n",
       "      <td>41898.354167</td>\n",
       "      <td>12212.375000</td>\n",
       "      <td>3461.875000</td>\n",
       "      <td>63587.145833</td>\n",
       "    </tr>\n",
       "    <tr>\n",
       "      <th>세종</th>\n",
       "      <td>250.000000</td>\n",
       "      <td>562.270833</td>\n",
       "      <td>90.875000</td>\n",
       "      <td>110.854167</td>\n",
       "      <td>944.937500</td>\n",
       "    </tr>\n",
       "    <tr>\n",
       "      <th>울산</th>\n",
       "      <td>1128.354167</td>\n",
       "      <td>4016.416667</td>\n",
       "      <td>523.729167</td>\n",
       "      <td>466.958333</td>\n",
       "      <td>4321.104167</td>\n",
       "    </tr>\n",
       "    <tr>\n",
       "      <th>인천</th>\n",
       "      <td>5267.062500</td>\n",
       "      <td>11659.687500</td>\n",
       "      <td>1934.229167</td>\n",
       "      <td>1461.458333</td>\n",
       "      <td>13957.375000</td>\n",
       "    </tr>\n",
       "    <tr>\n",
       "      <th>전남</th>\n",
       "      <td>5072.000000</td>\n",
       "      <td>16822.458333</td>\n",
       "      <td>1320.458333</td>\n",
       "      <td>3205.625000</td>\n",
       "      <td>17866.333333</td>\n",
       "    </tr>\n",
       "    <tr>\n",
       "      <th>전북</th>\n",
       "      <td>3057.687500</td>\n",
       "      <td>10110.854167</td>\n",
       "      <td>901.875000</td>\n",
       "      <td>2156.750000</td>\n",
       "      <td>10198.208333</td>\n",
       "    </tr>\n",
       "    <tr>\n",
       "      <th>제주</th>\n",
       "      <td>41684.500000</td>\n",
       "      <td>14659.500000</td>\n",
       "      <td>2559.958333</td>\n",
       "      <td>4345.062500</td>\n",
       "      <td>21334.375000</td>\n",
       "    </tr>\n",
       "    <tr>\n",
       "      <th>충남</th>\n",
       "      <td>3184.375000</td>\n",
       "      <td>14871.416667</td>\n",
       "      <td>1335.729167</td>\n",
       "      <td>2590.041667</td>\n",
       "      <td>14260.083333</td>\n",
       "    </tr>\n",
       "    <tr>\n",
       "      <th>충북</th>\n",
       "      <td>2059.687500</td>\n",
       "      <td>11448.166667</td>\n",
       "      <td>691.666667</td>\n",
       "      <td>1135.229167</td>\n",
       "      <td>9548.479167</td>\n",
       "    </tr>\n",
       "  </tbody>\n",
       "</table>\n",
       "</div>"
      ],
      "text/plain": [
       "tour_trend            기타           레포츠            미식           체험  \\\n",
       "region                                                              \n",
       "강원           7945.854167  43269.416667   2984.541667  3128.708333   \n",
       "경기          18597.125000  59578.333333   6746.333333  5603.104167   \n",
       "경남           5497.333333  25842.625000   1435.250000  3019.062500   \n",
       "경북           5031.145833  19355.270833   1421.645833  3664.625000   \n",
       "광주           1280.916667   2710.729167    588.125000   324.895833   \n",
       "대구           3346.000000   6839.875000   1940.604167   663.125000   \n",
       "대전           1856.354167   3610.895833   1069.250000   440.020833   \n",
       "부산          29282.833333  20783.562500   5892.625000  2042.687500   \n",
       "서울          28778.562500  41898.354167  12212.375000  3461.875000   \n",
       "세종            250.000000    562.270833     90.875000   110.854167   \n",
       "울산           1128.354167   4016.416667    523.729167   466.958333   \n",
       "인천           5267.062500  11659.687500   1934.229167  1461.458333   \n",
       "전남           5072.000000  16822.458333   1320.458333  3205.625000   \n",
       "전북           3057.687500  10110.854167    901.875000  2156.750000   \n",
       "제주          41684.500000  14659.500000   2559.958333  4345.062500   \n",
       "충남           3184.375000  14871.416667   1335.729167  2590.041667   \n",
       "충북           2059.687500  11448.166667    691.666667  1135.229167   \n",
       "\n",
       "tour_trend         휴식/힐링  \n",
       "region                    \n",
       "강원          32012.541667  \n",
       "경기          63913.229167  \n",
       "경남          21082.562500  \n",
       "경북          19323.812500  \n",
       "광주           3877.583333  \n",
       "대구           9416.416667  \n",
       "대전           5233.687500  \n",
       "부산          30169.312500  \n",
       "서울          63587.145833  \n",
       "세종            944.937500  \n",
       "울산           4321.104167  \n",
       "인천          13957.375000  \n",
       "전남          17866.333333  \n",
       "전북          10198.208333  \n",
       "제주          21334.375000  \n",
       "충남          14260.083333  \n",
       "충북           9548.479167  "
      ]
     },
     "execution_count": 109,
     "metadata": {},
     "output_type": "execute_result"
    }
   ],
   "source": [
    "grouped = df_search_trend.groupby(['region', 'tour_trend'])\n",
    "trend_mean = grouped['num_mention'].mean().unstack()\n",
    "trend_mean"
   ]
  },
  {
   "cell_type": "code",
   "execution_count": 139,
   "id": "ef5582b5-c414-4012-8006-012185ae049d",
   "metadata": {},
   "outputs": [
    {
     "data": {
      "text/plain": [
       "Text(0.5, 1.0, '지역별 카테고리 검색량 평균')"
      ]
     },
     "execution_count": 139,
     "metadata": {},
     "output_type": "execute_result"
    },
    {
     "data": {
      "image/png": "[encoded data removed]",
      "text/plain": [
       "<Figure size 640x480 with 1 Axes>"
      ]
     },
     "metadata": {},
     "output_type": "display_data"
    }
   ],
   "source": [
    "trend_mean.plot(kind='bar')\n",
    "plt.title(\"지역별 카테고리 검색량 평균\")"
   ]
  },
  {
   "cell_type": "markdown",
   "id": "9962a596-9a10-43e0-90c0-48d8d719ede1",
   "metadata": {},
   "source": [
    "- 광주, 대구, 대전, 세종, 울산 의 경우 검색량이 적음 -> 지역 선호도가 떨어짐.\n",
    "- 전체적으로 레포츠와 휴식/힐링의 검색량이 높게 나타남.\n",
    "- 서울, 경기, 강원, 부산, 제주 지역의 선호도가 높음\n",
    "- 부산과 제주는 기타 카테고리의 선호도가 가장 높게 나타남.\n",
    "- 서울, 경기 지역에서 휴식/힐링 카테고리가 높게 나타나는 점이 의외임. -> 말 그대로 휴식/힐링이 아니라 숙소 검색까지 합친 것이라면 이해됨"
   ]
  },
  {
   "cell_type": "markdown",
   "id": "aa3e0848-3f9e-4ae0-b2f4-f60ba9931411",
   "metadata": {},
   "source": [
    "- 지역마다의 검색량과 방문자 선호도 분석:\n",
    "- 데이터셋에 있는 지역 정보를 기반으로 지역별 검색량과 방문자 수를 비교하여 지역마다의 선호도와 관심사를 파악할 수 있습니다."
   ]
  },
  {
   "cell_type": "code",
   "execution_count": 119,
   "id": "50e62bdc-fddd-473d-93e7-94d0aeaf9ed1",
   "metadata": {
    "scrolled": true
   },
   "outputs": [
    {
     "data": {
      "text/html": [
       "<div>\n",
       "<style scoped>\n",
       "    .dataframe tbody tr th:only-of-type {\n",
       "        vertical-align: middle;\n",
       "    }\n",
       "\n",
       "    .dataframe tbody tr th {\n",
       "        vertical-align: top;\n",
       "    }\n",
       "\n",
       "    .dataframe thead th {\n",
       "        text-align: right;\n",
       "    }\n",
       "</style>\n",
       "<table border=\"1\" class=\"dataframe\">\n",
       "  <thead>\n",
       "    <tr style=\"text-align: right;\">\n",
       "      <th></th>\n",
       "      <th>destination_search</th>\n",
       "    </tr>\n",
       "    <tr>\n",
       "      <th>region</th>\n",
       "      <th></th>\n",
       "    </tr>\n",
       "  </thead>\n",
       "  <tbody>\n",
       "    <tr>\n",
       "      <th>강원</th>\n",
       "      <td>124018490</td>\n",
       "    </tr>\n",
       "    <tr>\n",
       "      <th>경기</th>\n",
       "      <td>475468913</td>\n",
       "    </tr>\n",
       "    <tr>\n",
       "      <th>경남</th>\n",
       "      <td>77370296</td>\n",
       "    </tr>\n",
       "    <tr>\n",
       "      <th>경북</th>\n",
       "      <td>71565241</td>\n",
       "    </tr>\n",
       "    <tr>\n",
       "      <th>광주</th>\n",
       "      <td>22672796</td>\n",
       "    </tr>\n",
       "    <tr>\n",
       "      <th>대구</th>\n",
       "      <td>43530309</td>\n",
       "    </tr>\n",
       "    <tr>\n",
       "      <th>대전</th>\n",
       "      <td>32832027</td>\n",
       "    </tr>\n",
       "    <tr>\n",
       "      <th>부산</th>\n",
       "      <td>82016182</td>\n",
       "    </tr>\n",
       "    <tr>\n",
       "      <th>서울</th>\n",
       "      <td>242574722</td>\n",
       "    </tr>\n",
       "    <tr>\n",
       "      <th>세종</th>\n",
       "      <td>10289811</td>\n",
       "    </tr>\n",
       "    <tr>\n",
       "      <th>울산</th>\n",
       "      <td>21974386</td>\n",
       "    </tr>\n",
       "    <tr>\n",
       "      <th>인천</th>\n",
       "      <td>102321620</td>\n",
       "    </tr>\n",
       "    <tr>\n",
       "      <th>전남</th>\n",
       "      <td>55166061</td>\n",
       "    </tr>\n",
       "    <tr>\n",
       "      <th>전북</th>\n",
       "      <td>43987460</td>\n",
       "    </tr>\n",
       "    <tr>\n",
       "      <th>제주</th>\n",
       "      <td>68713836</td>\n",
       "    </tr>\n",
       "    <tr>\n",
       "      <th>충남</th>\n",
       "      <td>80209321</td>\n",
       "    </tr>\n",
       "    <tr>\n",
       "      <th>충북</th>\n",
       "      <td>50194369</td>\n",
       "    </tr>\n",
       "  </tbody>\n",
       "</table>\n",
       "</div>"
      ],
      "text/plain": [
       "        destination_search\n",
       "region                    \n",
       "강원               124018490\n",
       "경기               475468913\n",
       "경남                77370296\n",
       "경북                71565241\n",
       "광주                22672796\n",
       "대구                43530309\n",
       "대전                32832027\n",
       "부산                82016182\n",
       "서울               242574722\n",
       "세종                10289811\n",
       "울산                21974386\n",
       "인천               102321620\n",
       "전남                55166061\n",
       "전북                43987460\n",
       "제주                68713836\n",
       "충남                80209321\n",
       "충북                50194369"
      ]
     },
     "execution_count": 119,
     "metadata": {},
     "output_type": "execute_result"
    }
   ],
   "source": [
    "df_ksearch_sum = pd.pivot_table(data=df_ksearch_date[['destination_search', 'region']]\n",
    "               , index=['region'], values=['destination_search'], aggfunc= 'sum')\n",
    "df_ksearch_sum"
   ]
  },
  {
   "cell_type": "code",
   "execution_count": 120,
   "id": "a65474b2-e091-4b50-8174-84200215d8ac",
   "metadata": {
    "scrolled": true
   },
   "outputs": [
    {
     "data": {
      "text/html": [
       "<div>\n",
       "<style scoped>\n",
       "    .dataframe tbody tr th:only-of-type {\n",
       "        vertical-align: middle;\n",
       "    }\n",
       "\n",
       "    .dataframe tbody tr th {\n",
       "        vertical-align: top;\n",
       "    }\n",
       "\n",
       "    .dataframe thead th {\n",
       "        text-align: right;\n",
       "    }\n",
       "</style>\n",
       "<table border=\"1\" class=\"dataframe\">\n",
       "  <thead>\n",
       "    <tr style=\"text-align: right;\">\n",
       "      <th></th>\n",
       "      <th>consumption_amount</th>\n",
       "    </tr>\n",
       "    <tr>\n",
       "      <th>region</th>\n",
       "      <th></th>\n",
       "    </tr>\n",
       "  </thead>\n",
       "  <tbody>\n",
       "    <tr>\n",
       "      <th>강원</th>\n",
       "      <td>9816200523</td>\n",
       "    </tr>\n",
       "    <tr>\n",
       "      <th>경기</th>\n",
       "      <td>69829428441</td>\n",
       "    </tr>\n",
       "    <tr>\n",
       "      <th>경남</th>\n",
       "      <td>11543714988</td>\n",
       "    </tr>\n",
       "    <tr>\n",
       "      <th>경북</th>\n",
       "      <td>9308567062</td>\n",
       "    </tr>\n",
       "    <tr>\n",
       "      <th>광주</th>\n",
       "      <td>7074261055</td>\n",
       "    </tr>\n",
       "    <tr>\n",
       "      <th>대구</th>\n",
       "      <td>13135944797</td>\n",
       "    </tr>\n",
       "    <tr>\n",
       "      <th>대전</th>\n",
       "      <td>10320350306</td>\n",
       "    </tr>\n",
       "    <tr>\n",
       "      <th>부산</th>\n",
       "      <td>22325029778</td>\n",
       "    </tr>\n",
       "    <tr>\n",
       "      <th>서울</th>\n",
       "      <td>85840053815</td>\n",
       "    </tr>\n",
       "    <tr>\n",
       "      <th>세종</th>\n",
       "      <td>768450067</td>\n",
       "    </tr>\n",
       "    <tr>\n",
       "      <th>울산</th>\n",
       "      <td>4156761771</td>\n",
       "    </tr>\n",
       "    <tr>\n",
       "      <th>인천</th>\n",
       "      <td>13280957661</td>\n",
       "    </tr>\n",
       "    <tr>\n",
       "      <th>전남</th>\n",
       "      <td>7155055317</td>\n",
       "    </tr>\n",
       "    <tr>\n",
       "      <th>전북</th>\n",
       "      <td>5968731700</td>\n",
       "    </tr>\n",
       "    <tr>\n",
       "      <th>제주</th>\n",
       "      <td>8318337585</td>\n",
       "    </tr>\n",
       "    <tr>\n",
       "      <th>충남</th>\n",
       "      <td>8751382592</td>\n",
       "    </tr>\n",
       "    <tr>\n",
       "      <th>충북</th>\n",
       "      <td>7770362217</td>\n",
       "    </tr>\n",
       "  </tbody>\n",
       "</table>\n",
       "</div>"
      ],
      "text/plain": [
       "        consumption_amount\n",
       "region                    \n",
       "강원              9816200523\n",
       "경기             69829428441\n",
       "경남             11543714988\n",
       "경북              9308567062\n",
       "광주              7074261055\n",
       "대구             13135944797\n",
       "대전             10320350306\n",
       "부산             22325029778\n",
       "서울             85840053815\n",
       "세종               768450067\n",
       "울산              4156761771\n",
       "인천             13280957661\n",
       "전남              7155055317\n",
       "전북              5968731700\n",
       "제주              8318337585\n",
       "충남              8751382592\n",
       "충북              7770362217"
      ]
     },
     "execution_count": 120,
     "metadata": {},
     "output_type": "execute_result"
    }
   ],
   "source": [
    "df_Nvisitors_sum = pd.pivot_table(data=df_Nvisitors_Date[['consumption_amount', 'region']]\n",
    "               , index=['region'], values=['consumption_amount'], aggfunc= 'sum')\n",
    "df_Nvisitors_sum"
   ]
  },
  {
   "cell_type": "code",
   "execution_count": 130,
   "id": "2d7f7f4a-060b-4462-b4e7-d6429e0f0dff",
   "metadata": {},
   "outputs": [
    {
     "data": {
      "text/plain": [
       "Text(0.5, 1.0, '지역 검색량 평균')"
      ]
     },
     "execution_count": 130,
     "metadata": {},
     "output_type": "execute_result"
    },
    {
     "data": {
      "image/png": "[encoded data removed]",
      "text/plain": [
       "<Figure size 640x480 with 1 Axes>"
      ]
     },
     "metadata": {},
     "output_type": "display_data"
    }
   ],
   "source": [
    "plt.plot(df_ksearch_sum)\n",
    "plt.title(\"지역 검색량 평균\")"
   ]
  },
  {
   "cell_type": "code",
   "execution_count": 133,
   "id": "26fd7da5-2ac5-45b0-bb03-4cfb601d9cfb",
   "metadata": {},
   "outputs": [
    {
     "data": {
      "text/plain": [
       "Text(0.5, 1.0, '지역 방문객 소비량 평균')"
      ]
     },
     "execution_count": 133,
     "metadata": {},
     "output_type": "execute_result"
    },
    {
     "data": {
      "image/png": "[encoded data removed]",
      "text/plain": [
       "<Figure size 640x480 with 1 Axes>"
      ]
     },
     "metadata": {},
     "output_type": "display_data"
    }
   ],
   "source": [
    "plt.plot(df_Nvisitors_sum)\n",
    "plt.title(\"지역 방문객 소비량 평균\")"
   ]
  },
  {
   "cell_type": "markdown",
   "id": "bd134100-739a-43aa-9f3c-d4db8a0c559d",
   "metadata": {},
   "source": [
    "- 경기 지역의 검색량이 가장 높은 반면 지역 소비량은 서울이 가장 높다.\n",
    "- 선호도가 가장 낮은 지역 : 세종"
   ]
  },
  {
   "cell_type": "markdown",
   "id": "cf95df0f-b3fb-4d1d-be82-100e34555ec2",
   "metadata": {
    "jp-MarkdownHeadingCollapsed": true
   },
   "source": [
    "### 제안 3 : 연도별 여행 트렌드 선호도 분석"
   ]
  },
  {
   "cell_type": "markdown",
   "id": "cfb9ad92-fd8f-4193-923b-f76475ed3534",
   "metadata": {},
   "source": [
    "- 연도별 소비자 행동 분석\n",
    "- 문제 정의: 연도별로 소비자의 행동 변화를 파악하고 향후 전략에 반영할 수 있는 인사이트를 도출합니다.\n",
    "- 배경: 시간이 지남에 따라 사용자의 관심사와 행동이 변화하기 때문에, 효율적인 타겟팅을 위해 중요한 분석입니다.\n",
    "- 년도 및 월별 데이터를 활용하여 시계열 분석을 수행하여 어떤 여행 카테고리나 활동이 특정 시기에 더 인기가 있는지 예측할 수 있습니다."
   ]
  },
  {
   "cell_type": "code",
   "execution_count": 6,
   "id": "baecb5a0-f3c6-4d9c-840c-1046ab621019",
   "metadata": {},
   "outputs": [
    {
     "data": {
      "text/html": [
       "<div>\n",
       "<style scoped>\n",
       "    .dataframe tbody tr th:only-of-type {\n",
       "        vertical-align: middle;\n",
       "    }\n",
       "\n",
       "    .dataframe tbody tr th {\n",
       "        vertical-align: top;\n",
       "    }\n",
       "\n",
       "    .dataframe thead th {\n",
       "        text-align: right;\n",
       "    }\n",
       "</style>\n",
       "<table border=\"1\" class=\"dataframe\">\n",
       "  <thead>\n",
       "    <tr style=\"text-align: right;\">\n",
       "      <th></th>\n",
       "      <th>_id</th>\n",
       "      <th>region</th>\n",
       "      <th>std_year_month</th>\n",
       "      <th>std_year</th>\n",
       "      <th>std_month</th>\n",
       "      <th>tour_trend</th>\n",
       "      <th>num_mention</th>\n",
       "    </tr>\n",
       "  </thead>\n",
       "  <tbody>\n",
       "    <tr>\n",
       "      <th>0</th>\n",
       "      <td>65e92ddfbb908e26c804393d</td>\n",
       "      <td>강원</td>\n",
       "      <td>202007</td>\n",
       "      <td>2020</td>\n",
       "      <td>7</td>\n",
       "      <td>레포츠</td>\n",
       "      <td>58868</td>\n",
       "    </tr>\n",
       "    <tr>\n",
       "      <th>1</th>\n",
       "      <td>65e92ddfbb908e26c804393e</td>\n",
       "      <td>강원</td>\n",
       "      <td>202008</td>\n",
       "      <td>2020</td>\n",
       "      <td>8</td>\n",
       "      <td>레포츠</td>\n",
       "      <td>53624</td>\n",
       "    </tr>\n",
       "    <tr>\n",
       "      <th>2</th>\n",
       "      <td>65e92ddfbb908e26c804393f</td>\n",
       "      <td>강원</td>\n",
       "      <td>202006</td>\n",
       "      <td>2020</td>\n",
       "      <td>6</td>\n",
       "      <td>레포츠</td>\n",
       "      <td>49214</td>\n",
       "    </tr>\n",
       "    <tr>\n",
       "      <th>3</th>\n",
       "      <td>65e92ddfbb908e26c8043940</td>\n",
       "      <td>강원</td>\n",
       "      <td>202010</td>\n",
       "      <td>2020</td>\n",
       "      <td>10</td>\n",
       "      <td>레포츠</td>\n",
       "      <td>47223</td>\n",
       "    </tr>\n",
       "    <tr>\n",
       "      <th>4</th>\n",
       "      <td>65e92ddfbb908e26c8043941</td>\n",
       "      <td>강원</td>\n",
       "      <td>202007</td>\n",
       "      <td>2020</td>\n",
       "      <td>7</td>\n",
       "      <td>휴식/힐링</td>\n",
       "      <td>40740</td>\n",
       "    </tr>\n",
       "    <tr>\n",
       "      <th>...</th>\n",
       "      <td>...</td>\n",
       "      <td>...</td>\n",
       "      <td>...</td>\n",
       "      <td>...</td>\n",
       "      <td>...</td>\n",
       "      <td>...</td>\n",
       "      <td>...</td>\n",
       "    </tr>\n",
       "    <tr>\n",
       "      <th>4075</th>\n",
       "      <td>65e92de0bb908e26c8044928</td>\n",
       "      <td>충북</td>\n",
       "      <td>202301</td>\n",
       "      <td>2023</td>\n",
       "      <td>1</td>\n",
       "      <td>체험</td>\n",
       "      <td>868</td>\n",
       "    </tr>\n",
       "    <tr>\n",
       "      <th>4076</th>\n",
       "      <td>65e92de0bb908e26c8044929</td>\n",
       "      <td>충북</td>\n",
       "      <td>202302</td>\n",
       "      <td>2023</td>\n",
       "      <td>2</td>\n",
       "      <td>미식</td>\n",
       "      <td>843</td>\n",
       "    </tr>\n",
       "    <tr>\n",
       "      <th>4077</th>\n",
       "      <td>65e92de0bb908e26c804492a</td>\n",
       "      <td>충북</td>\n",
       "      <td>202312</td>\n",
       "      <td>2023</td>\n",
       "      <td>12</td>\n",
       "      <td>미식</td>\n",
       "      <td>832</td>\n",
       "    </tr>\n",
       "    <tr>\n",
       "      <th>4078</th>\n",
       "      <td>65e92de0bb908e26c804492b</td>\n",
       "      <td>충북</td>\n",
       "      <td>202311</td>\n",
       "      <td>2023</td>\n",
       "      <td>11</td>\n",
       "      <td>미식</td>\n",
       "      <td>797</td>\n",
       "    </tr>\n",
       "    <tr>\n",
       "      <th>4079</th>\n",
       "      <td>65e92de0bb908e26c804492c</td>\n",
       "      <td>충북</td>\n",
       "      <td>202301</td>\n",
       "      <td>2023</td>\n",
       "      <td>1</td>\n",
       "      <td>미식</td>\n",
       "      <td>794</td>\n",
       "    </tr>\n",
       "  </tbody>\n",
       "</table>\n",
       "<p>4080 rows × 7 columns</p>\n",
       "</div>"
      ],
      "text/plain": [
       "                           _id region  std_year_month  std_year  std_month  \\\n",
       "0     65e92ddfbb908e26c804393d     강원          202007      2020          7   \n",
       "1     65e92ddfbb908e26c804393e     강원          202008      2020          8   \n",
       "2     65e92ddfbb908e26c804393f     강원          202006      2020          6   \n",
       "3     65e92ddfbb908e26c8043940     강원          202010      2020         10   \n",
       "4     65e92ddfbb908e26c8043941     강원          202007      2020          7   \n",
       "...                        ...    ...             ...       ...        ...   \n",
       "4075  65e92de0bb908e26c8044928     충북          202301      2023          1   \n",
       "4076  65e92de0bb908e26c8044929     충북          202302      2023          2   \n",
       "4077  65e92de0bb908e26c804492a     충북          202312      2023         12   \n",
       "4078  65e92de0bb908e26c804492b     충북          202311      2023         11   \n",
       "4079  65e92de0bb908e26c804492c     충북          202301      2023          1   \n",
       "\n",
       "     tour_trend  num_mention  \n",
       "0           레포츠        58868  \n",
       "1           레포츠        53624  \n",
       "2           레포츠        49214  \n",
       "3           레포츠        47223  \n",
       "4         휴식/힐링        40740  \n",
       "...         ...          ...  \n",
       "4075         체험          868  \n",
       "4076         미식          843  \n",
       "4077         미식          832  \n",
       "4078         미식          797  \n",
       "4079         미식          794  \n",
       "\n",
       "[4080 rows x 7 columns]"
      ]
     },
     "execution_count": 6,
     "metadata": {},
     "output_type": "execute_result"
    }
   ],
   "source": [
    "df_search_trend"
   ]
  },
  {
   "cell_type": "code",
   "execution_count": 12,
   "id": "e9e94aad-1d38-4b07-a408-9978c7e55a67",
   "metadata": {},
   "outputs": [
    {
     "data": {
      "text/html": [
       "<div>\n",
       "<style scoped>\n",
       "    .dataframe tbody tr th:only-of-type {\n",
       "        vertical-align: middle;\n",
       "    }\n",
       "\n",
       "    .dataframe tbody tr th {\n",
       "        vertical-align: top;\n",
       "    }\n",
       "\n",
       "    .dataframe thead th {\n",
       "        text-align: right;\n",
       "    }\n",
       "</style>\n",
       "<table border=\"1\" class=\"dataframe\">\n",
       "  <thead>\n",
       "    <tr style=\"text-align: right;\">\n",
       "      <th>tour_trend</th>\n",
       "      <th>기타</th>\n",
       "      <th>레포츠</th>\n",
       "      <th>미식</th>\n",
       "      <th>체험</th>\n",
       "      <th>휴식/힐링</th>\n",
       "    </tr>\n",
       "    <tr>\n",
       "      <th>std_year</th>\n",
       "      <th></th>\n",
       "      <th></th>\n",
       "      <th></th>\n",
       "      <th></th>\n",
       "      <th></th>\n",
       "    </tr>\n",
       "  </thead>\n",
       "  <tbody>\n",
       "    <tr>\n",
       "      <th>2020</th>\n",
       "      <td>9036.392157</td>\n",
       "      <td>14033.818627</td>\n",
       "      <td>2224.696078</td>\n",
       "      <td>1610.431373</td>\n",
       "      <td>15063.421569</td>\n",
       "    </tr>\n",
       "    <tr>\n",
       "      <th>2021</th>\n",
       "      <td>7873.676471</td>\n",
       "      <td>15950.245098</td>\n",
       "      <td>2109.794118</td>\n",
       "      <td>1855.264706</td>\n",
       "      <td>17103.720588</td>\n",
       "    </tr>\n",
       "    <tr>\n",
       "      <th>2022</th>\n",
       "      <td>9520.210784</td>\n",
       "      <td>18641.470588</td>\n",
       "      <td>2754.632353</td>\n",
       "      <td>2332.220588</td>\n",
       "      <td>20672.225490</td>\n",
       "    </tr>\n",
       "    <tr>\n",
       "      <th>2023</th>\n",
       "      <td>11997.906863</td>\n",
       "      <td>23854.426471</td>\n",
       "      <td>3181.294118</td>\n",
       "      <td>3100.926471</td>\n",
       "      <td>27407.029412</td>\n",
       "    </tr>\n",
       "  </tbody>\n",
       "</table>\n",
       "</div>"
      ],
      "text/plain": [
       "tour_trend            기타           레포츠           미식           체험         휴식/힐링\n",
       "std_year                                                                      \n",
       "2020         9036.392157  14033.818627  2224.696078  1610.431373  15063.421569\n",
       "2021         7873.676471  15950.245098  2109.794118  1855.264706  17103.720588\n",
       "2022         9520.210784  18641.470588  2754.632353  2332.220588  20672.225490\n",
       "2023        11997.906863  23854.426471  3181.294118  3100.926471  27407.029412"
      ]
     },
     "execution_count": 12,
     "metadata": {},
     "output_type": "execute_result"
    }
   ],
   "source": [
    "# 연도별 평균\n",
    "grouped = df_search_trend.groupby(['std_year', 'tour_trend'])\n",
    "trend_mean = grouped['num_mention'].mean().unstack()\n",
    "trend_mean"
   ]
  },
  {
   "cell_type": "code",
   "execution_count": 14,
   "id": "8688b94e-49c5-4614-aed3-5290cf132f1a",
   "metadata": {},
   "outputs": [
    {
     "data": {
      "text/plain": [
       "Text(0.5, 1.0, '연도별 여행 트렌드 검색량 평균')"
      ]
     },
     "execution_count": 14,
     "metadata": {},
     "output_type": "execute_result"
    },
    {
     "data": {
      "image/png": "[encoded data removed]",
      "text/plain": [
       "<Figure size 640x480 with 1 Axes>"
      ]
     },
     "metadata": {},
     "output_type": "display_data"
    }
   ],
   "source": [
    "trend_mean.plot(kind='bar')\n",
    "plt.title(\"연도별 여행 트렌드 검색량 평균\")"
   ]
  },
  {
   "cell_type": "markdown",
   "id": "77eaa736-7597-41f5-a6fc-0f46131e66e6",
   "metadata": {},
   "source": [
    "- 해가 지날수록 여행에 대한 관심이 높아지고 있음."
   ]
  }
 ],
 "metadata": {
  "kernelspec": {
   "display_name": "Python 3 (ipykernel)",
   "language": "python",
   "name": "python3"
  },
  "language_info": {
   "codemirror_mode": {
    "name": "ipython",
    "version": 3
   },
   "file_extension": ".py",
   "mimetype": "text/x-python",
   "name": "python",
   "nbconvert_exporter": "python",
   "pygments_lexer": "ipython3",
   "version": "3.11.8"
  }
 },
 "nbformat": 4,
 "nbformat_minor": 5
}
