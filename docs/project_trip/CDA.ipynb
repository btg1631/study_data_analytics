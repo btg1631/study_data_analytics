{
 "cells": [
  {
   "cell_type": "code",
   "execution_count": 74,
   "id": "1e438e8b-aa60-4ed9-b244-d737a7891580",
   "metadata": {
    "collapsed": true,
    "jupyter": {
     "outputs_hidden": true
    }
   },
   "outputs": [
    {
     "name": "stdout",
     "output_type": "stream",
     "text": [
      "Reading package lists... Done\n",
      "Building dependency tree... Done\n",
      "Reading state information... Done\n",
      "fonts-nanum is already the newest version (20200506-1).\n",
      "0 upgraded, 0 newly installed, 0 to remove and 0 not upgraded.\n",
      "Font directories:\n",
      "\t/root/.local/share/fonts\n",
      "\t/usr/local/share/fonts\n",
      "\t/usr/share/fonts\n",
      "\t/root/.fonts\n",
      "\t/usr/share/fonts/truetype\n",
      "\t/usr/share/fonts/truetype/dejavu\n",
      "\t/usr/share/fonts/truetype/nanum\n",
      "/root/.local/share/fonts: skipping, no such directory\n",
      "/usr/local/share/fonts: caching, new cache contents: 0 fonts, 0 dirs\n",
      "/usr/share/fonts: caching, new cache contents: 0 fonts, 1 dirs\n",
      "/usr/share/fonts/truetype: caching, new cache contents: 0 fonts, 2 dirs\n",
      "/usr/share/fonts/truetype/dejavu: caching, new cache contents: 22 fonts, 0 dirs\n",
      "/usr/share/fonts/truetype/nanum: caching, new cache contents: 12 fonts, 0 dirs\n",
      "/root/.fonts: skipping, no such directory\n",
      "/usr/share/fonts/truetype: skipping, looped directory detected\n",
      "/usr/share/fonts/truetype/dejavu: skipping, looped directory detected\n",
      "/usr/share/fonts/truetype/nanum: skipping, looped directory detected\n",
      "/var/cache/fontconfig: cleaning cache directory\n",
      "/root/.cache/fontconfig: not cleaning non-existent cache directory\n",
      "/root/.fontconfig: not cleaning non-existent cache directory\n",
      "fc-cache: succeeded\n"
     ]
    }
   ],
   "source": [
    "# 한글 폰트 설치\n",
    "!apt-get install -y fonts-nanum\n",
    "!fc-cache -fv\n",
    "!rm ~/.cache/matplotlib -rf\n",
    "# 설치 후 colab 경우 Runtime > Restart session 필요"
   ]
  },
  {
   "cell_type": "code",
   "execution_count": 75,
   "id": "9e66f275-dcdf-4b1f-8897-ac8a9c228845",
   "metadata": {},
   "outputs": [],
   "source": [
    "import pandas as pd\n",
    "import numpy as np\n",
    "import seaborn as sns\n",
    "import matplotlib.pyplot as plt\n",
    "import matplotlib as mpl\n",
    "\n",
    "import scipy.stats as stats\n",
    "from scipy.stats import shapiro\n",
    "\n",
    "mpl.rc('font', family='NanumBarunGothic') # 혹은 다른 설치한 Nanum 폰트 사용"
   ]
  },
  {
   "cell_type": "markdown",
   "id": "fdf80c87-7a34-488f-9033-099b3a2fd4a5",
   "metadata": {
    "jp-MarkdownHeadingCollapsed": true
   },
   "source": [
    "## data"
   ]
  },
  {
   "cell_type": "code",
   "execution_count": 50,
   "id": "c7c73a22-d4d5-4c06-9a3d-89332dcffb43",
   "metadata": {},
   "outputs": [],
   "source": [
    "df_ksearch_date = pd.read_csv(\"Keyword_search_by_date.csv\")\n",
    "df_Nvisitors_Date = pd.read_csv(\"Number_of_visitors_date.csv\")\n",
    "df_search_trend = pd.read_csv(\"Trend_search_date.csv\")"
   ]
  },
  {
   "cell_type": "code",
   "execution_count": 51,
   "id": "279f7a1c-19d6-482a-9c18-8c2ee02f1fa0",
   "metadata": {},
   "outputs": [
    {
     "data": {
      "text/html": [
       "<div>\n",
       "<style scoped>\n",
       "    .dataframe tbody tr th:only-of-type {\n",
       "        vertical-align: middle;\n",
       "    }\n",
       "\n",
       "    .dataframe tbody tr th {\n",
       "        vertical-align: top;\n",
       "    }\n",
       "\n",
       "    .dataframe thead th {\n",
       "        text-align: right;\n",
       "    }\n",
       "</style>\n",
       "<table border=\"1\" class=\"dataframe\">\n",
       "  <thead>\n",
       "    <tr style=\"text-align: right;\">\n",
       "      <th></th>\n",
       "      <th>_id</th>\n",
       "      <th>destination_type</th>\n",
       "      <th>destination_search</th>\n",
       "      <th>region</th>\n",
       "      <th>std_year</th>\n",
       "      <th>std_month</th>\n",
       "      <th>std_year_month</th>\n",
       "    </tr>\n",
       "  </thead>\n",
       "  <tbody>\n",
       "    <tr>\n",
       "      <th>0</th>\n",
       "      <td>65e92d9cbb908e26c804031e</td>\n",
       "      <td>전체</td>\n",
       "      <td>1937279</td>\n",
       "      <td>강원</td>\n",
       "      <td>2020</td>\n",
       "      <td>1</td>\n",
       "      <td>202001</td>\n",
       "    </tr>\n",
       "    <tr>\n",
       "      <th>1</th>\n",
       "      <td>65e92d9cbb908e26c804031f</td>\n",
       "      <td>전체</td>\n",
       "      <td>1395025</td>\n",
       "      <td>강원</td>\n",
       "      <td>2020</td>\n",
       "      <td>2</td>\n",
       "      <td>202002</td>\n",
       "    </tr>\n",
       "    <tr>\n",
       "      <th>2</th>\n",
       "      <td>65e92d9cbb908e26c8040320</td>\n",
       "      <td>전체</td>\n",
       "      <td>1295467</td>\n",
       "      <td>강원</td>\n",
       "      <td>2020</td>\n",
       "      <td>3</td>\n",
       "      <td>202003</td>\n",
       "    </tr>\n",
       "    <tr>\n",
       "      <th>3</th>\n",
       "      <td>65e92d9cbb908e26c8040321</td>\n",
       "      <td>전체</td>\n",
       "      <td>1592147</td>\n",
       "      <td>강원</td>\n",
       "      <td>2020</td>\n",
       "      <td>4</td>\n",
       "      <td>202004</td>\n",
       "    </tr>\n",
       "    <tr>\n",
       "      <th>4</th>\n",
       "      <td>65e92d9cbb908e26c8040322</td>\n",
       "      <td>전체</td>\n",
       "      <td>2286676</td>\n",
       "      <td>강원</td>\n",
       "      <td>2020</td>\n",
       "      <td>5</td>\n",
       "      <td>202005</td>\n",
       "    </tr>\n",
       "    <tr>\n",
       "      <th>...</th>\n",
       "      <td>...</td>\n",
       "      <td>...</td>\n",
       "      <td>...</td>\n",
       "      <td>...</td>\n",
       "      <td>...</td>\n",
       "      <td>...</td>\n",
       "      <td>...</td>\n",
       "    </tr>\n",
       "    <tr>\n",
       "      <th>8155</th>\n",
       "      <td>65e92d9dbb908e26c80422f9</td>\n",
       "      <td>문화관광</td>\n",
       "      <td>80761</td>\n",
       "      <td>충북</td>\n",
       "      <td>2023</td>\n",
       "      <td>12</td>\n",
       "      <td>202312</td>\n",
       "    </tr>\n",
       "    <tr>\n",
       "      <th>8156</th>\n",
       "      <td>65e92d9dbb908e26c80422fa</td>\n",
       "      <td>역사관광</td>\n",
       "      <td>20072</td>\n",
       "      <td>충북</td>\n",
       "      <td>2023</td>\n",
       "      <td>12</td>\n",
       "      <td>202312</td>\n",
       "    </tr>\n",
       "    <tr>\n",
       "      <th>8157</th>\n",
       "      <td>65e92d9dbb908e26c80422fb</td>\n",
       "      <td>자연관광</td>\n",
       "      <td>25920</td>\n",
       "      <td>충북</td>\n",
       "      <td>2023</td>\n",
       "      <td>12</td>\n",
       "      <td>202312</td>\n",
       "    </tr>\n",
       "    <tr>\n",
       "      <th>8158</th>\n",
       "      <td>65e92d9dbb908e26c80422fc</td>\n",
       "      <td>체험관광</td>\n",
       "      <td>11141</td>\n",
       "      <td>충북</td>\n",
       "      <td>2023</td>\n",
       "      <td>12</td>\n",
       "      <td>202312</td>\n",
       "    </tr>\n",
       "    <tr>\n",
       "      <th>8159</th>\n",
       "      <td>65e92d9dbb908e26c80422fd</td>\n",
       "      <td>레저스포츠</td>\n",
       "      <td>60623</td>\n",
       "      <td>충북</td>\n",
       "      <td>2023</td>\n",
       "      <td>12</td>\n",
       "      <td>202312</td>\n",
       "    </tr>\n",
       "  </tbody>\n",
       "</table>\n",
       "<p>8160 rows × 7 columns</p>\n",
       "</div>"
      ],
      "text/plain": [
       "                           _id destination_type  destination_search region  \\\n",
       "0     65e92d9cbb908e26c804031e               전체             1937279     강원   \n",
       "1     65e92d9cbb908e26c804031f               전체             1395025     강원   \n",
       "2     65e92d9cbb908e26c8040320               전체             1295467     강원   \n",
       "3     65e92d9cbb908e26c8040321               전체             1592147     강원   \n",
       "4     65e92d9cbb908e26c8040322               전체             2286676     강원   \n",
       "...                        ...              ...                 ...    ...   \n",
       "8155  65e92d9dbb908e26c80422f9             문화관광               80761     충북   \n",
       "8156  65e92d9dbb908e26c80422fa             역사관광               20072     충북   \n",
       "8157  65e92d9dbb908e26c80422fb             자연관광               25920     충북   \n",
       "8158  65e92d9dbb908e26c80422fc             체험관광               11141     충북   \n",
       "8159  65e92d9dbb908e26c80422fd            레저스포츠               60623     충북   \n",
       "\n",
       "      std_year  std_month  std_year_month  \n",
       "0         2020          1          202001  \n",
       "1         2020          2          202002  \n",
       "2         2020          3          202003  \n",
       "3         2020          4          202004  \n",
       "4         2020          5          202005  \n",
       "...        ...        ...             ...  \n",
       "8155      2023         12          202312  \n",
       "8156      2023         12          202312  \n",
       "8157      2023         12          202312  \n",
       "8158      2023         12          202312  \n",
       "8159      2023         12          202312  \n",
       "\n",
       "[8160 rows x 7 columns]"
      ]
     },
     "execution_count": 51,
     "metadata": {},
     "output_type": "execute_result"
    }
   ],
   "source": [
    "df_ksearch_date"
   ]
  },
  {
   "cell_type": "code",
   "execution_count": 52,
   "id": "d4c2f0ef-cb80-4d6a-9ac4-d67fe8648874",
   "metadata": {},
   "outputs": [
    {
     "data": {
      "text/html": [
       "<div>\n",
       "<style scoped>\n",
       "    .dataframe tbody tr th:only-of-type {\n",
       "        vertical-align: middle;\n",
       "    }\n",
       "\n",
       "    .dataframe tbody tr th {\n",
       "        vertical-align: top;\n",
       "    }\n",
       "\n",
       "    .dataframe thead th {\n",
       "        text-align: right;\n",
       "    }\n",
       "</style>\n",
       "<table border=\"1\" class=\"dataframe\">\n",
       "  <thead>\n",
       "    <tr style=\"text-align: right;\">\n",
       "      <th></th>\n",
       "      <th>_id</th>\n",
       "      <th>industry_major_cate</th>\n",
       "      <th>std_year_month</th>\n",
       "      <th>std_year</th>\n",
       "      <th>std_month</th>\n",
       "      <th>consumption_amount</th>\n",
       "      <th>region</th>\n",
       "    </tr>\n",
       "  </thead>\n",
       "  <tbody>\n",
       "    <tr>\n",
       "      <th>0</th>\n",
       "      <td>65e932a1bb908e26c804492e</td>\n",
       "      <td>전체</td>\n",
       "      <td>202012</td>\n",
       "      <td>2020</td>\n",
       "      <td>12</td>\n",
       "      <td>59888524</td>\n",
       "      <td>강원</td>\n",
       "    </tr>\n",
       "    <tr>\n",
       "      <th>1</th>\n",
       "      <td>65e932a1bb908e26c804492f</td>\n",
       "      <td>전체</td>\n",
       "      <td>202001</td>\n",
       "      <td>2020</td>\n",
       "      <td>1</td>\n",
       "      <td>98147222</td>\n",
       "      <td>강원</td>\n",
       "    </tr>\n",
       "    <tr>\n",
       "      <th>2</th>\n",
       "      <td>65e932a1bb908e26c8044930</td>\n",
       "      <td>전체</td>\n",
       "      <td>202002</td>\n",
       "      <td>2020</td>\n",
       "      <td>2</td>\n",
       "      <td>69547139</td>\n",
       "      <td>강원</td>\n",
       "    </tr>\n",
       "    <tr>\n",
       "      <th>3</th>\n",
       "      <td>65e932a1bb908e26c8044931</td>\n",
       "      <td>전체</td>\n",
       "      <td>202003</td>\n",
       "      <td>2020</td>\n",
       "      <td>3</td>\n",
       "      <td>62071229</td>\n",
       "      <td>강원</td>\n",
       "    </tr>\n",
       "    <tr>\n",
       "      <th>4</th>\n",
       "      <td>65e932a1bb908e26c8044932</td>\n",
       "      <td>전체</td>\n",
       "      <td>202004</td>\n",
       "      <td>2020</td>\n",
       "      <td>4</td>\n",
       "      <td>75022238</td>\n",
       "      <td>강원</td>\n",
       "    </tr>\n",
       "    <tr>\n",
       "      <th>...</th>\n",
       "      <td>...</td>\n",
       "      <td>...</td>\n",
       "      <td>...</td>\n",
       "      <td>...</td>\n",
       "      <td>...</td>\n",
       "      <td>...</td>\n",
       "      <td>...</td>\n",
       "    </tr>\n",
       "    <tr>\n",
       "      <th>5688</th>\n",
       "      <td>65e932a2bb908e26c8045f66</td>\n",
       "      <td>여가서비스업</td>\n",
       "      <td>202305</td>\n",
       "      <td>2023</td>\n",
       "      <td>5</td>\n",
       "      <td>19760050</td>\n",
       "      <td>충북</td>\n",
       "    </tr>\n",
       "    <tr>\n",
       "      <th>5689</th>\n",
       "      <td>65e932a2bb908e26c8045f67</td>\n",
       "      <td>쇼핑업</td>\n",
       "      <td>202305</td>\n",
       "      <td>2023</td>\n",
       "      <td>5</td>\n",
       "      <td>21217701</td>\n",
       "      <td>충북</td>\n",
       "    </tr>\n",
       "    <tr>\n",
       "      <th>5690</th>\n",
       "      <td>65e932a2bb908e26c8045f68</td>\n",
       "      <td>여행업</td>\n",
       "      <td>202305</td>\n",
       "      <td>2023</td>\n",
       "      <td>5</td>\n",
       "      <td>10149</td>\n",
       "      <td>충북</td>\n",
       "    </tr>\n",
       "    <tr>\n",
       "      <th>5691</th>\n",
       "      <td>65e932a2bb908e26c8045f69</td>\n",
       "      <td>숙박업</td>\n",
       "      <td>202305</td>\n",
       "      <td>2023</td>\n",
       "      <td>5</td>\n",
       "      <td>3267158</td>\n",
       "      <td>충북</td>\n",
       "    </tr>\n",
       "    <tr>\n",
       "      <th>5692</th>\n",
       "      <td>65e932a2bb908e26c8045f6a</td>\n",
       "      <td>운송업</td>\n",
       "      <td>202304</td>\n",
       "      <td>2023</td>\n",
       "      <td>4</td>\n",
       "      <td>162341</td>\n",
       "      <td>충북</td>\n",
       "    </tr>\n",
       "  </tbody>\n",
       "</table>\n",
       "<p>5693 rows × 7 columns</p>\n",
       "</div>"
      ],
      "text/plain": [
       "                           _id industry_major_cate  std_year_month  std_year  \\\n",
       "0     65e932a1bb908e26c804492e                  전체          202012      2020   \n",
       "1     65e932a1bb908e26c804492f                  전체          202001      2020   \n",
       "2     65e932a1bb908e26c8044930                  전체          202002      2020   \n",
       "3     65e932a1bb908e26c8044931                  전체          202003      2020   \n",
       "4     65e932a1bb908e26c8044932                  전체          202004      2020   \n",
       "...                        ...                 ...             ...       ...   \n",
       "5688  65e932a2bb908e26c8045f66              여가서비스업          202305      2023   \n",
       "5689  65e932a2bb908e26c8045f67                 쇼핑업          202305      2023   \n",
       "5690  65e932a2bb908e26c8045f68                 여행업          202305      2023   \n",
       "5691  65e932a2bb908e26c8045f69                 숙박업          202305      2023   \n",
       "5692  65e932a2bb908e26c8045f6a                 운송업          202304      2023   \n",
       "\n",
       "      std_month  consumption_amount region  \n",
       "0            12            59888524     강원  \n",
       "1             1            98147222     강원  \n",
       "2             2            69547139     강원  \n",
       "3             3            62071229     강원  \n",
       "4             4            75022238     강원  \n",
       "...         ...                 ...    ...  \n",
       "5688          5            19760050     충북  \n",
       "5689          5            21217701     충북  \n",
       "5690          5               10149     충북  \n",
       "5691          5             3267158     충북  \n",
       "5692          4              162341     충북  \n",
       "\n",
       "[5693 rows x 7 columns]"
      ]
     },
     "execution_count": 52,
     "metadata": {},
     "output_type": "execute_result"
    }
   ],
   "source": [
    "df_Nvisitors_Date"
   ]
  },
  {
   "cell_type": "markdown",
   "id": "b6ff9e32-57b4-4b93-8df2-9e94e2d38bd7",
   "metadata": {
    "jp-MarkdownHeadingCollapsed": true
   },
   "source": [
    "## 전처리"
   ]
  },
  {
   "cell_type": "code",
   "execution_count": 79,
   "id": "7a89e2be-7fc5-41f4-b190-92b002e5bae2",
   "metadata": {},
   "outputs": [],
   "source": [
    "# 카테고리 값 통일화\n",
    "df_Nvisitors_Date['industry_major_cate'] = df_Nvisitors_Date['industry_major_cate'].replace({\n",
    "    '숙박업': '숙박',\n",
    "    '식음료업': '음식',\n",
    "    '쇼핑업': '쇼핑'\n",
    "})\n",
    "df_ksearch_query = df_ksearch_date.query('destination_type == \"전체\" or destination_type == \"숙박\" or destination_type == \"음식\" or destination_type == \"쇼핑\"')\n",
    "df_Nvisitors_query = df_Nvisitors_Date.query('industry_major_cate == \"전체\" or industry_major_cate == \"숙박\" or industry_major_cate == \"음식\" or industry_major_cate == \"쇼핑\"')"
   ]
  },
  {
   "cell_type": "code",
   "execution_count": 54,
   "id": "cc661f9f-56f8-49ec-b361-515b25cea901",
   "metadata": {},
   "outputs": [
    {
     "name": "stderr",
     "output_type": "stream",
     "text": [
      "/tmp/ipykernel_79/545279499.py:2: SettingWithCopyWarning: \n",
      "A value is trying to be set on a copy of a slice from a DataFrame.\n",
      "Try using .loc[row_indexer,col_indexer] = value instead\n",
      "\n",
      "See the caveats in the documentation: https://pandas.pydata.org/pandas-docs/stable/user_guide/indexing.html#returning-a-view-versus-a-copy\n",
      "  df_Nvisitors_query['destination_type'] = df_Nvisitors_query['industry_major_cate']\n"
     ]
    }
   ],
   "source": [
    "# 병합\n",
    "df_Nvisitors_query['destination_type'] = df_Nvisitors_query['industry_major_cate']"
   ]
  },
  {
   "cell_type": "code",
   "execution_count": 57,
   "id": "8a3973b4-a1f7-44f2-91a0-f3e97c75be8f",
   "metadata": {},
   "outputs": [
    {
     "data": {
      "text/html": [
       "<div>\n",
       "<style scoped>\n",
       "    .dataframe tbody tr th:only-of-type {\n",
       "        vertical-align: middle;\n",
       "    }\n",
       "\n",
       "    .dataframe tbody tr th {\n",
       "        vertical-align: top;\n",
       "    }\n",
       "\n",
       "    .dataframe thead th {\n",
       "        text-align: right;\n",
       "    }\n",
       "</style>\n",
       "<table border=\"1\" class=\"dataframe\">\n",
       "  <thead>\n",
       "    <tr style=\"text-align: right;\">\n",
       "      <th></th>\n",
       "      <th>_id_x</th>\n",
       "      <th>destination_type</th>\n",
       "      <th>destination_search</th>\n",
       "      <th>region</th>\n",
       "      <th>std_year</th>\n",
       "      <th>std_month</th>\n",
       "      <th>std_year_month</th>\n",
       "      <th>_id_y</th>\n",
       "      <th>industry_major_cate</th>\n",
       "      <th>consumption_amount</th>\n",
       "    </tr>\n",
       "  </thead>\n",
       "  <tbody>\n",
       "    <tr>\n",
       "      <th>0</th>\n",
       "      <td>65e92d9cbb908e26c804031e</td>\n",
       "      <td>전체</td>\n",
       "      <td>1937279</td>\n",
       "      <td>강원</td>\n",
       "      <td>2020</td>\n",
       "      <td>1</td>\n",
       "      <td>202001</td>\n",
       "      <td>65e932a1bb908e26c804492f</td>\n",
       "      <td>전체</td>\n",
       "      <td>98147222</td>\n",
       "    </tr>\n",
       "    <tr>\n",
       "      <th>1</th>\n",
       "      <td>65e92d9cbb908e26c804031f</td>\n",
       "      <td>전체</td>\n",
       "      <td>1395025</td>\n",
       "      <td>강원</td>\n",
       "      <td>2020</td>\n",
       "      <td>2</td>\n",
       "      <td>202002</td>\n",
       "      <td>65e932a1bb908e26c8044930</td>\n",
       "      <td>전체</td>\n",
       "      <td>69547139</td>\n",
       "    </tr>\n",
       "    <tr>\n",
       "      <th>2</th>\n",
       "      <td>65e92d9cbb908e26c8040320</td>\n",
       "      <td>전체</td>\n",
       "      <td>1295467</td>\n",
       "      <td>강원</td>\n",
       "      <td>2020</td>\n",
       "      <td>3</td>\n",
       "      <td>202003</td>\n",
       "      <td>65e932a1bb908e26c8044931</td>\n",
       "      <td>전체</td>\n",
       "      <td>62071229</td>\n",
       "    </tr>\n",
       "    <tr>\n",
       "      <th>3</th>\n",
       "      <td>65e92d9cbb908e26c8040321</td>\n",
       "      <td>전체</td>\n",
       "      <td>1592147</td>\n",
       "      <td>강원</td>\n",
       "      <td>2020</td>\n",
       "      <td>4</td>\n",
       "      <td>202004</td>\n",
       "      <td>65e932a1bb908e26c8044932</td>\n",
       "      <td>전체</td>\n",
       "      <td>75022238</td>\n",
       "    </tr>\n",
       "    <tr>\n",
       "      <th>4</th>\n",
       "      <td>65e92d9cbb908e26c8040322</td>\n",
       "      <td>전체</td>\n",
       "      <td>2286676</td>\n",
       "      <td>강원</td>\n",
       "      <td>2020</td>\n",
       "      <td>5</td>\n",
       "      <td>202005</td>\n",
       "      <td>65e932a1bb908e26c8044933</td>\n",
       "      <td>전체</td>\n",
       "      <td>103414222</td>\n",
       "    </tr>\n",
       "    <tr>\n",
       "      <th>...</th>\n",
       "      <td>...</td>\n",
       "      <td>...</td>\n",
       "      <td>...</td>\n",
       "      <td>...</td>\n",
       "      <td>...</td>\n",
       "      <td>...</td>\n",
       "      <td>...</td>\n",
       "      <td>...</td>\n",
       "      <td>...</td>\n",
       "      <td>...</td>\n",
       "    </tr>\n",
       "    <tr>\n",
       "      <th>3259</th>\n",
       "      <td>65e92d9dbb908e26c80422ee</td>\n",
       "      <td>숙박</td>\n",
       "      <td>145420</td>\n",
       "      <td>충북</td>\n",
       "      <td>2023</td>\n",
       "      <td>11</td>\n",
       "      <td>202311</td>\n",
       "      <td>65e932a2bb908e26c8045f34</td>\n",
       "      <td>숙박</td>\n",
       "      <td>3400345</td>\n",
       "    </tr>\n",
       "    <tr>\n",
       "      <th>3260</th>\n",
       "      <td>65e92d9dbb908e26c80422ef</td>\n",
       "      <td>음식</td>\n",
       "      <td>479126</td>\n",
       "      <td>충북</td>\n",
       "      <td>2023</td>\n",
       "      <td>11</td>\n",
       "      <td>202311</td>\n",
       "      <td>65e932a2bb908e26c8045f37</td>\n",
       "      <td>음식</td>\n",
       "      <td>48224831</td>\n",
       "    </tr>\n",
       "    <tr>\n",
       "      <th>3261</th>\n",
       "      <td>65e92d9dbb908e26c80422f6</td>\n",
       "      <td>쇼핑</td>\n",
       "      <td>67532</td>\n",
       "      <td>충북</td>\n",
       "      <td>2023</td>\n",
       "      <td>12</td>\n",
       "      <td>202312</td>\n",
       "      <td>65e932a2bb908e26c8045f3b</td>\n",
       "      <td>쇼핑</td>\n",
       "      <td>20269791</td>\n",
       "    </tr>\n",
       "    <tr>\n",
       "      <th>3262</th>\n",
       "      <td>65e92d9dbb908e26c80422f7</td>\n",
       "      <td>숙박</td>\n",
       "      <td>120634</td>\n",
       "      <td>충북</td>\n",
       "      <td>2023</td>\n",
       "      <td>12</td>\n",
       "      <td>202312</td>\n",
       "      <td>65e932a2bb908e26c8045f3a</td>\n",
       "      <td>숙박</td>\n",
       "      <td>3122998</td>\n",
       "    </tr>\n",
       "    <tr>\n",
       "      <th>3263</th>\n",
       "      <td>65e92d9dbb908e26c80422f8</td>\n",
       "      <td>음식</td>\n",
       "      <td>489242</td>\n",
       "      <td>충북</td>\n",
       "      <td>2023</td>\n",
       "      <td>12</td>\n",
       "      <td>202312</td>\n",
       "      <td>65e932a2bb908e26c8045f3d</td>\n",
       "      <td>음식</td>\n",
       "      <td>49815670</td>\n",
       "    </tr>\n",
       "  </tbody>\n",
       "</table>\n",
       "<p>3264 rows × 10 columns</p>\n",
       "</div>"
      ],
      "text/plain": [
       "                         _id_x destination_type  destination_search region  \\\n",
       "0     65e92d9cbb908e26c804031e               전체             1937279     강원   \n",
       "1     65e92d9cbb908e26c804031f               전체             1395025     강원   \n",
       "2     65e92d9cbb908e26c8040320               전체             1295467     강원   \n",
       "3     65e92d9cbb908e26c8040321               전체             1592147     강원   \n",
       "4     65e92d9cbb908e26c8040322               전체             2286676     강원   \n",
       "...                        ...              ...                 ...    ...   \n",
       "3259  65e92d9dbb908e26c80422ee               숙박              145420     충북   \n",
       "3260  65e92d9dbb908e26c80422ef               음식              479126     충북   \n",
       "3261  65e92d9dbb908e26c80422f6               쇼핑               67532     충북   \n",
       "3262  65e92d9dbb908e26c80422f7               숙박              120634     충북   \n",
       "3263  65e92d9dbb908e26c80422f8               음식              489242     충북   \n",
       "\n",
       "      std_year  std_month  std_year_month                     _id_y  \\\n",
       "0         2020          1          202001  65e932a1bb908e26c804492f   \n",
       "1         2020          2          202002  65e932a1bb908e26c8044930   \n",
       "2         2020          3          202003  65e932a1bb908e26c8044931   \n",
       "3         2020          4          202004  65e932a1bb908e26c8044932   \n",
       "4         2020          5          202005  65e932a1bb908e26c8044933   \n",
       "...        ...        ...             ...                       ...   \n",
       "3259      2023         11          202311  65e932a2bb908e26c8045f34   \n",
       "3260      2023         11          202311  65e932a2bb908e26c8045f37   \n",
       "3261      2023         12          202312  65e932a2bb908e26c8045f3b   \n",
       "3262      2023         12          202312  65e932a2bb908e26c8045f3a   \n",
       "3263      2023         12          202312  65e932a2bb908e26c8045f3d   \n",
       "\n",
       "     industry_major_cate  consumption_amount  \n",
       "0                     전체            98147222  \n",
       "1                     전체            69547139  \n",
       "2                     전체            62071229  \n",
       "3                     전체            75022238  \n",
       "4                     전체           103414222  \n",
       "...                  ...                 ...  \n",
       "3259                  숙박             3400345  \n",
       "3260                  음식            48224831  \n",
       "3261                  쇼핑            20269791  \n",
       "3262                  숙박             3122998  \n",
       "3263                  음식            49815670  \n",
       "\n",
       "[3264 rows x 10 columns]"
      ]
     },
     "execution_count": 57,
     "metadata": {},
     "output_type": "execute_result"
    }
   ],
   "source": [
    "merged_df = pd.merge(df_ksearch_query, df_Nvisitors_query, on=['std_year_month', 'std_year', 'std_month', 'region', 'destination_type'], how='inner')\n",
    "merged_df"
   ]
  },
  {
   "cell_type": "markdown",
   "id": "ea504e0f-10e8-4a22-bd79-2946a86cb5b1",
   "metadata": {
    "jp-MarkdownHeadingCollapsed": true
   },
   "source": [
    "## 가설 1 : 키워드 검색량과 관광지 소비랑(방문객 수) 간에 상관 관계가 있을 것이다.\n",
    "\n",
    "- 귀무 가설 : 키워드 검색량과 관광지 소비랑(방문객 수) 간에 상관 관계가 없다.\n",
    "- 대립 가설 : 키워드 검색량과 관광지 소비랑(방문객 수) 간에 상관 관계가 있다."
   ]
  },
  {
   "cell_type": "code",
   "execution_count": 80,
   "id": "92d8200a-3e48-49ed-96b9-db69f758f66e",
   "metadata": {},
   "outputs": [
    {
     "name": "stdout",
     "output_type": "stream",
     "text": [
      "검정 통계량(statistic): 0.497, p-value: 0.000\n",
      "p-value가 유의수준보다 작으므로 데이터는 정규 분포를 따르지 않습니다.\n"
     ]
    }
   ],
   "source": [
    "# 데이터 정규성 검정\n",
    "stat, p = shapiro(merged_df['destination_search'].dropna())\n",
    "print('검정 통계량(statistic): %.3f, p-value: %.3f' % (stat, p))\n",
    "\n",
    "# p-value에 따른 결론\n",
    "alpha = 0.05\n",
    "if p > alpha:\n",
    "    print('p-value가 유의수준보다 크므로 데이터는 정규 분포를 따릅니다.')\n",
    "else:\n",
    "    print('p-value가 유의수준보다 작으므로 데이터는 정규 분포를 따르지 않습니다.')"
   ]
  },
  {
   "cell_type": "code",
   "execution_count": 81,
   "id": "9bac87b4-ac45-4834-9e1d-adc73dc22a66",
   "metadata": {},
   "outputs": [
    {
     "name": "stdout",
     "output_type": "stream",
     "text": [
      "검정 통계량(statistic): 0.521, p-value: 0.000\n",
      "p-value가 유의수준보다 작으므로 데이터는 정규 분포를 따르지 않습니다.\n"
     ]
    }
   ],
   "source": [
    "# 데이터 정규성 검정\n",
    "stat, p = shapiro(merged_df['consumption_amount'].dropna())\n",
    "print('검정 통계량(statistic): %.3f, p-value: %.3f' % (stat, p))\n",
    "\n",
    "# p-value에 따른 결론\n",
    "alpha = 0.05\n",
    "if p > alpha:\n",
    "    print('p-value가 유의수준보다 크므로 데이터는 정규 분포를 따릅니다.')\n",
    "else:\n",
    "    print('p-value가 유의수준보다 작으므로 데이터는 정규 분포를 따르지 않습니다.')"
   ]
  },
  {
   "cell_type": "markdown",
   "id": "509afcd2-a5d1-4fba-ba24-dab840889caf",
   "metadata": {},
   "source": [
    "둘 다 비정규 분포이므로 -> spearmanr"
   ]
  },
  {
   "cell_type": "code",
   "execution_count": 69,
   "id": "7e90b712-7842-40db-8c7c-71a77ed19dec",
   "metadata": {},
   "outputs": [
    {
     "data": {
      "text/plain": [
       "SignificanceResult(statistic=0.8631067847857828, pvalue=0.0)"
      ]
     },
     "execution_count": 69,
     "metadata": {},
     "output_type": "execute_result"
    }
   ],
   "source": [
    "stats.spearmanr(merged_df['destination_search'], merged_df['consumption_amount'])"
   ]
  },
  {
   "cell_type": "markdown",
   "id": "4669b352-89d5-4e17-aae4-453027270dd5",
   "metadata": {},
   "source": [
    "- SignificanceResult(statistic=0.8631067847857828, pvalue=0.0)"
   ]
  },
  {
   "cell_type": "markdown",
   "id": "d83c5be4-94dc-45ea-b9d4-7cdef480058a",
   "metadata": {
    "jp-MarkdownHeadingCollapsed": true
   },
   "source": [
    "### 분석 결과\n",
    "- 통계 결론 : pvalue가 0.05보다 작으므로 -> 귀무가설 기각\n",
    "- 사실 결론 : 키워드 검색량과 관광지 방문객수 간에 상관 관계가 있다."
   ]
  },
  {
   "cell_type": "code",
   "execution_count": 76,
   "id": "67474732-59de-4ea6-a737-e41ef1c931c7",
   "metadata": {},
   "outputs": [
    {
     "data": {
      "image/png": "[encoded data removed]",
      "text/plain": [
       "<Figure size 640x480 with 1 Axes>"
      ]
     },
     "metadata": {},
     "output_type": "display_data"
    }
   ],
   "source": [
    "sns.histplot(data=merged_df, x='destination_search', kde=True)\n",
    "plt.title(\"검색량\")\n",
    "plt.show()"
   ]
  },
  {
   "cell_type": "code",
   "execution_count": 77,
   "id": "9fe9a861-c1f8-463b-82a8-fe0506c62fa3",
   "metadata": {},
   "outputs": [
    {
     "data": {
      "image/png": "[encoded data removed]",
      "text/plain": [
       "<Figure size 640x480 with 1 Axes>"
      ]
     },
     "metadata": {},
     "output_type": "display_data"
    }
   ],
   "source": [
    "sns.histplot(data=merged_df, x='consumption_amount', kde=True)\n",
    "plt.title(\"소비량\")\n",
    "plt.show()"
   ]
  },
  {
   "cell_type": "markdown",
   "id": "edfddee8-9a17-4a53-9a92-1fd80757051d",
   "metadata": {},
   "source": [
    "## 가설 2 : 계절에 따라 카테고리별 소비량에 차이가 있을 것이다.\n",
    "- 귀무 가설 : 계절에 따라 카테고리별 소비량에 차이가 없다.\n",
    "- 대립 가설 : 계절에 따라 카테고리별 소비량에 차이가 있다."
   ]
  },
  {
   "cell_type": "code",
   "execution_count": 83,
   "id": "91c88b68-b026-4345-8884-70c1dff4fd31",
   "metadata": {},
   "outputs": [],
   "source": [
    "seasons = {\n",
    "    12: '겨울', 1: '겨울', 2: '겨울',\n",
    "    3: '봄', 4: '봄', 5: '봄',\n",
    "    6: '여름', 7: '여름', 8: '여름',\n",
    "    9: '가을', 10: '가을', 11: '가을'\n",
    "}\n",
    "df_Nvisitors_Date['season'] = df_Nvisitors_Date['std_month'].map(seasons)"
   ]
  },
  {
   "cell_type": "code",
   "execution_count": 88,
   "id": "9264cc9d-6410-41a5-aef3-69f6146e9634",
   "metadata": {},
   "outputs": [
    {
     "data": {
      "text/html": [
       "<div>\n",
       "<style scoped>\n",
       "    .dataframe tbody tr th:only-of-type {\n",
       "        vertical-align: middle;\n",
       "    }\n",
       "\n",
       "    .dataframe tbody tr th {\n",
       "        vertical-align: top;\n",
       "    }\n",
       "\n",
       "    .dataframe thead th {\n",
       "        text-align: right;\n",
       "    }\n",
       "</style>\n",
       "<table border=\"1\" class=\"dataframe\">\n",
       "  <thead>\n",
       "    <tr style=\"text-align: right;\">\n",
       "      <th></th>\n",
       "      <th>_id</th>\n",
       "      <th>industry_major_cate</th>\n",
       "      <th>std_year_month</th>\n",
       "      <th>std_year</th>\n",
       "      <th>std_month</th>\n",
       "      <th>consumption_amount</th>\n",
       "      <th>region</th>\n",
       "      <th>season</th>\n",
       "    </tr>\n",
       "  </thead>\n",
       "  <tbody>\n",
       "    <tr>\n",
       "      <th>0</th>\n",
       "      <td>65e932a1bb908e26c804492e</td>\n",
       "      <td>전체</td>\n",
       "      <td>202012</td>\n",
       "      <td>2020</td>\n",
       "      <td>12</td>\n",
       "      <td>59888524</td>\n",
       "      <td>강원</td>\n",
       "      <td>겨울</td>\n",
       "    </tr>\n",
       "    <tr>\n",
       "      <th>1</th>\n",
       "      <td>65e932a1bb908e26c804492f</td>\n",
       "      <td>전체</td>\n",
       "      <td>202001</td>\n",
       "      <td>2020</td>\n",
       "      <td>1</td>\n",
       "      <td>98147222</td>\n",
       "      <td>강원</td>\n",
       "      <td>겨울</td>\n",
       "    </tr>\n",
       "    <tr>\n",
       "      <th>2</th>\n",
       "      <td>65e932a1bb908e26c8044930</td>\n",
       "      <td>전체</td>\n",
       "      <td>202002</td>\n",
       "      <td>2020</td>\n",
       "      <td>2</td>\n",
       "      <td>69547139</td>\n",
       "      <td>강원</td>\n",
       "      <td>겨울</td>\n",
       "    </tr>\n",
       "    <tr>\n",
       "      <th>3</th>\n",
       "      <td>65e932a1bb908e26c8044931</td>\n",
       "      <td>전체</td>\n",
       "      <td>202003</td>\n",
       "      <td>2020</td>\n",
       "      <td>3</td>\n",
       "      <td>62071229</td>\n",
       "      <td>강원</td>\n",
       "      <td>봄</td>\n",
       "    </tr>\n",
       "    <tr>\n",
       "      <th>4</th>\n",
       "      <td>65e932a1bb908e26c8044932</td>\n",
       "      <td>전체</td>\n",
       "      <td>202004</td>\n",
       "      <td>2020</td>\n",
       "      <td>4</td>\n",
       "      <td>75022238</td>\n",
       "      <td>강원</td>\n",
       "      <td>봄</td>\n",
       "    </tr>\n",
       "    <tr>\n",
       "      <th>...</th>\n",
       "      <td>...</td>\n",
       "      <td>...</td>\n",
       "      <td>...</td>\n",
       "      <td>...</td>\n",
       "      <td>...</td>\n",
       "      <td>...</td>\n",
       "      <td>...</td>\n",
       "      <td>...</td>\n",
       "    </tr>\n",
       "    <tr>\n",
       "      <th>5688</th>\n",
       "      <td>65e932a2bb908e26c8045f66</td>\n",
       "      <td>여가서비스업</td>\n",
       "      <td>202305</td>\n",
       "      <td>2023</td>\n",
       "      <td>5</td>\n",
       "      <td>19760050</td>\n",
       "      <td>충북</td>\n",
       "      <td>봄</td>\n",
       "    </tr>\n",
       "    <tr>\n",
       "      <th>5689</th>\n",
       "      <td>65e932a2bb908e26c8045f67</td>\n",
       "      <td>쇼핑</td>\n",
       "      <td>202305</td>\n",
       "      <td>2023</td>\n",
       "      <td>5</td>\n",
       "      <td>21217701</td>\n",
       "      <td>충북</td>\n",
       "      <td>봄</td>\n",
       "    </tr>\n",
       "    <tr>\n",
       "      <th>5690</th>\n",
       "      <td>65e932a2bb908e26c8045f68</td>\n",
       "      <td>여행업</td>\n",
       "      <td>202305</td>\n",
       "      <td>2023</td>\n",
       "      <td>5</td>\n",
       "      <td>10149</td>\n",
       "      <td>충북</td>\n",
       "      <td>봄</td>\n",
       "    </tr>\n",
       "    <tr>\n",
       "      <th>5691</th>\n",
       "      <td>65e932a2bb908e26c8045f69</td>\n",
       "      <td>숙박</td>\n",
       "      <td>202305</td>\n",
       "      <td>2023</td>\n",
       "      <td>5</td>\n",
       "      <td>3267158</td>\n",
       "      <td>충북</td>\n",
       "      <td>봄</td>\n",
       "    </tr>\n",
       "    <tr>\n",
       "      <th>5692</th>\n",
       "      <td>65e932a2bb908e26c8045f6a</td>\n",
       "      <td>운송업</td>\n",
       "      <td>202304</td>\n",
       "      <td>2023</td>\n",
       "      <td>4</td>\n",
       "      <td>162341</td>\n",
       "      <td>충북</td>\n",
       "      <td>봄</td>\n",
       "    </tr>\n",
       "  </tbody>\n",
       "</table>\n",
       "<p>5693 rows × 8 columns</p>\n",
       "</div>"
      ],
      "text/plain": [
       "                           _id industry_major_cate  std_year_month  std_year  \\\n",
       "0     65e932a1bb908e26c804492e                  전체          202012      2020   \n",
       "1     65e932a1bb908e26c804492f                  전체          202001      2020   \n",
       "2     65e932a1bb908e26c8044930                  전체          202002      2020   \n",
       "3     65e932a1bb908e26c8044931                  전체          202003      2020   \n",
       "4     65e932a1bb908e26c8044932                  전체          202004      2020   \n",
       "...                        ...                 ...             ...       ...   \n",
       "5688  65e932a2bb908e26c8045f66              여가서비스업          202305      2023   \n",
       "5689  65e932a2bb908e26c8045f67                  쇼핑          202305      2023   \n",
       "5690  65e932a2bb908e26c8045f68                 여행업          202305      2023   \n",
       "5691  65e932a2bb908e26c8045f69                  숙박          202305      2023   \n",
       "5692  65e932a2bb908e26c8045f6a                 운송업          202304      2023   \n",
       "\n",
       "      std_month  consumption_amount region season  \n",
       "0            12            59888524     강원     겨울  \n",
       "1             1            98147222     강원     겨울  \n",
       "2             2            69547139     강원     겨울  \n",
       "3             3            62071229     강원      봄  \n",
       "4             4            75022238     강원      봄  \n",
       "...         ...                 ...    ...    ...  \n",
       "5688          5            19760050     충북      봄  \n",
       "5689          5            21217701     충북      봄  \n",
       "5690          5               10149     충북      봄  \n",
       "5691          5             3267158     충북      봄  \n",
       "5692          4              162341     충북      봄  \n",
       "\n",
       "[5693 rows x 8 columns]"
      ]
     },
     "execution_count": 88,
     "metadata": {},
     "output_type": "execute_result"
    }
   ],
   "source": [
    "df_Nvisitors_Date"
   ]
  },
  {
   "cell_type": "code",
   "execution_count": 86,
   "id": "7b4a7308-b10a-47b7-a6bf-bddfeb6e3162",
   "metadata": {},
   "outputs": [
    {
     "data": {
      "text/plain": [
       "season\n",
       "겨울    1425\n",
       "봄     1423\n",
       "가을    1423\n",
       "여름    1422\n",
       "Name: count, dtype: int64"
      ]
     },
     "execution_count": 86,
     "metadata": {},
     "output_type": "execute_result"
    }
   ],
   "source": [
    "df_Nvisitors_Date['season'].value_counts()"
   ]
  },
  {
   "cell_type": "code",
   "execution_count": 84,
   "id": "11d8c7b8-081b-4f7b-ac22-7fa4bba4517b",
   "metadata": {},
   "outputs": [
    {
     "name": "stdout",
     "output_type": "stream",
     "text": [
      "검정 통계량(statistic): 0.423, p-value: 0.000\n",
      "p-value가 유의수준보다 작으므로 데이터는 정규 분포를 따르지 않습니다.\n"
     ]
    },
    {
     "name": "stderr",
     "output_type": "stream",
     "text": [
      "/tmp/ipykernel_79/784367888.py:2: UserWarning: scipy.stats.shapiro: For N > 5000, computed p-value may not be accurate. Current N is 5693.\n",
      "  stat, p = shapiro(df_Nvisitors_Date['consumption_amount'].dropna())\n"
     ]
    }
   ],
   "source": [
    "# 데이터 정규성 검정  shapiro test\n",
    "stat, p = shapiro(df_Nvisitors_Date['consumption_amount'].dropna())\n",
    "print('검정 통계량(statistic): %.3f, p-value: %.3f' % (stat, p))\n",
    "\n",
    "# p-value에 따른 결론\n",
    "alpha = 0.05\n",
    "if p > alpha:\n",
    "    print('p-value가 유의수준보다 크므로 데이터는 정규 분포를 따릅니다.')\n",
    "else:\n",
    "    print('p-value가 유의수준보다 작으므로 데이터는 정규 분포를 따르지 않습니다.')"
   ]
  },
  {
   "cell_type": "code",
   "execution_count": 87,
   "id": "44d85752-642a-4e48-9782-54926692680e",
   "metadata": {},
   "outputs": [
    {
     "data": {
      "text/plain": [
       "array(['전체', '운송업', '여행업', '숙박', '음식', '여가서비스업', '쇼핑'], dtype=object)"
      ]
     },
     "execution_count": 87,
     "metadata": {},
     "output_type": "execute_result"
    }
   ],
   "source": [
    "df_Nvisitors_Date['industry_major_cate'].unique()"
   ]
  },
  {
   "cell_type": "code",
   "execution_count": 108,
   "id": "b63a2192-ea5b-494f-ad97-f00d63db70f9",
   "metadata": {},
   "outputs": [],
   "source": [
    "grouped_data = df_Nvisitors_Date.groupby(['season', 'industry_major_cate'])\n",
    "\n",
    "df_Nvisitors_season = []\n",
    "for name, group in grouped_data:\n",
    "    df_Nvisitors_season.append(group['consumption_amount'].tolist())"
   ]
  },
  {
   "cell_type": "code",
   "execution_count": 109,
   "id": "5c19f1e9-0ce5-4096-81a3-da781558893d",
   "metadata": {},
   "outputs": [
    {
     "data": {
      "text/plain": [
       "KruskalResult(statistic=4252.465677366361, pvalue=0.0)"
      ]
     },
     "execution_count": 109,
     "metadata": {},
     "output_type": "execute_result"
    }
   ],
   "source": [
    "stats.kruskal(*df_Nvisitors_season)"
   ]
  },
  {
   "cell_type": "markdown",
   "id": "110f8cb0-1c33-4341-9006-dee470c7fe78",
   "metadata": {},
   "source": [
    "- KruskalResult(statistic=4252.465677366361, pvalue=0.0)"
   ]
  },
  {
   "cell_type": "markdown",
   "id": "a4cf7756-85c8-4186-a294-39d4e9b5f865",
   "metadata": {},
   "source": [
    "### 분석 결과\n",
    "- 통계 결론 : pvalue가 0.05보다 작으므로 -> 귀무가설 기각\n",
    "- 사실 결론 : 계절에 따라 카테고리별 소비량에 차이가 있다"
   ]
  },
  {
   "cell_type": "code",
   "execution_count": null,
   "id": "63baa7f6-2e33-4d4c-9edf-812aa7c6958a",
   "metadata": {},
   "outputs": [],
   "source": []
  },
  {
   "cell_type": "code",
   "execution_count": null,
   "id": "5846253e-ea00-4bb0-a8fc-68e86c527cf5",
   "metadata": {},
   "outputs": [],
   "source": []
  },
  {
   "cell_type": "code",
   "execution_count": null,
   "id": "765961c6-04ec-4b0c-9bce-5118afaf60b4",
   "metadata": {},
   "outputs": [],
   "source": [
    "제안 2: 지역별 여행 트렌드 선호도 분석\n",
    "지역별로 트렌드 선호도가 차이가 있는지 확인\n",
    "유의한 결과가 나오면, 지역별로 선호도가 다르다고 할 수 있음"
   ]
  },
  {
   "cell_type": "code",
   "execution_count": null,
   "id": "273eb7e5-cdb9-4195-ad9c-52f9be49b9cb",
   "metadata": {},
   "outputs": [],
   "source": []
  },
  {
   "cell_type": "code",
   "execution_count": null,
   "id": "34916c8e-e40f-4082-a664-902d8a4e6802",
   "metadata": {},
   "outputs": [],
   "source": []
  }
 ],
 "metadata": {
  "kernelspec": {
   "display_name": "Python 3 (ipykernel)",
   "language": "python",
   "name": "python3"
  },
  "language_info": {
   "codemirror_mode": {
    "name": "ipython",
    "version": 3
   },
   "file_extension": ".py",
   "mimetype": "text/x-python",
   "name": "python",
   "nbconvert_exporter": "python",
   "pygments_lexer": "ipython3",
   "version": "3.11.8"
  }
 },
 "nbformat": 4,
 "nbformat_minor": 5
}
